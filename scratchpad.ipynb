{
 "cells": [
  {
   "cell_type": "code",
   "execution_count": 1,
   "id": "45823af5",
   "metadata": {},
   "outputs": [
    {
     "name": "stderr",
     "output_type": "stream",
     "text": [
      "\n"
     ]
    }
   ],
   "source": [
    "import sys\n",
    "sys.path.append('./gym_dagsched/envs')\n",
    "\n",
    "from copy import copy\n",
    "import gym\n",
    "import gym_dagsched.envs\n",
    "import numpy as np\n",
    "from dataclasses import asdict\n",
    "import plotly.express as px\n",
    "import pandas as pd\n",
    "from visualization import make_gantt\n",
    "\n",
    "env = gym.make(\n",
    "    'dagsched-v0',\n",
    "    max_jobs=10,        \n",
    "    max_stages=8,      \n",
    "    max_tasks=4,       \n",
    "    n_worker_types=2,\n",
    "    n_workers=5\n",
    ")"
   ]
  },
  {
   "cell_type": "code",
   "execution_count": 2,
   "id": "12acd29d",
   "metadata": {},
   "outputs": [
    {
     "name": "stdout",
     "output_type": "stream",
     "text": [
      "frontier is empty\n",
      "\n",
      "invalid action\n",
      "2.5344230702533506: job arrival\n",
      "n_workers=3\n",
      "\n",
      "2.5344231128692627: nudge\n",
      "n_workers=2\n",
      "\n",
      "10.768179315787442: job arrival\n",
      "no available workers\n",
      "\n",
      "invalid action\n",
      "31.7990779876709: task completion (0,2,0)\n",
      "n_workers=1\n",
      "\n",
      "31.7990779876709: task completion (0,2,1)\n",
      "n_workers=1\n",
      "\n",
      "31.7990779876709: task completion (0,2,2)\n",
      "stage completion\n",
      "n_workers=0\n",
      "\n",
      "invalid action\n",
      "37.906877649094696: job arrival\n",
      "n_workers=1\n",
      "\n",
      "39.61875915527344: task completion (0,1,0)\n",
      "n_workers=1\n",
      "\n",
      "39.61875915527344: task completion (0,1,1)\n",
      "n_workers=1\n",
      "\n",
      "57.174452175741976: job arrival\n",
      "no available workers\n",
      "\n",
      "invalid action\n",
      "61.34402254915427: job arrival\n",
      "no available workers\n",
      "\n",
      "invalid action\n",
      "62.782677587341524: job arrival\n",
      "no available workers\n",
      "\n",
      "invalid action\n",
      "67.62466430664062: task completion (2,6,0)\n",
      "n_workers=1\n",
      "\n",
      "68.88341522216797: task completion (0,1,2)\n",
      "n_workers=1\n",
      "\n",
      "68.88341522216797: task completion (0,1,3)\n",
      "stage completion\n",
      "n_workers=1\n",
      "\n",
      "69.3365478515625: task completion (2,6,1)\n",
      "n_workers=1\n",
      "\n",
      "69.3365478515625: task completion (2,6,2)\n",
      "stage completion\n",
      "n_workers=1\n",
      "\n",
      "82.05542943947535: job arrival\n",
      "no available workers\n",
      "\n",
      "invalid action\n",
      "93.08773803710938: task completion (5,0,0)\n",
      "n_workers=1\n",
      "\n",
      "93.08773803710938: task completion (5,0,1)\n",
      "n_workers=1\n",
      "\n",
      "96.67894744873047: task completion (5,2,0)\n",
      "n_workers=1\n",
      "\n",
      "97.93769836425781: task completion (5,2,1)\n",
      "n_workers=1\n",
      "\n",
      "97.93769836425781: task completion (5,2,2)\n",
      "n_workers=1\n",
      "\n",
      "99.0679552699958: job arrival\n",
      "no available workers\n",
      "\n",
      "invalid action\n",
      "106.83822445866704: job arrival\n",
      "no available workers\n",
      "\n",
      "invalid action\n",
      "110.49904177127421: job arrival\n",
      "no available workers\n",
      "\n",
      "invalid action\n",
      "115.68684387207031: task completion (6,3,0)\n",
      "n_workers=1\n",
      "\n",
      "115.68684387207031: task completion (6,3,1)\n",
      "n_workers=1\n",
      "\n",
      "139.86544799804688: task completion (6,4,0)\n",
      "n_workers=1\n",
      "\n",
      "141.12420654296875: task completion (6,4,1)\n",
      "n_workers=1\n",
      "\n",
      "141.12420654296875: task completion (6,4,2)\n",
      "n_workers=1\n",
      "\n",
      "156.45960998535156: task completion (9,3,0)\n",
      "n_workers=1\n",
      "\n",
      "156.45960998535156: task completion (9,3,1)\n",
      "n_workers=1\n",
      "\n",
      "173.68789672851562: task completion (9,0,0)\n",
      "n_workers=1\n",
      "\n",
      "173.68789672851562: task completion (9,0,1)\n",
      "n_workers=1\n",
      "\n",
      "180.63821411132812: task completion (9,3,2)\n",
      "stage completion\n",
      "n_workers=1\n",
      "\n",
      "196.70118713378906: task completion (9,2,0)\n",
      "n_workers=1\n",
      "\n",
      "196.70118713378906: task completion (9,2,1)\n",
      "stage completion\n",
      "n_workers=1\n",
      "\n",
      "206.2515869140625: task completion (9,0,2)\n",
      "n_workers=1\n",
      "\n",
      "206.2515869140625: task completion (9,0,3)\n",
      "stage completion\n",
      "n_workers=1\n",
      "\n",
      "216.525146484375: task completion (8,4,0)\n",
      "n_workers=1\n",
      "\n",
      "217.66038513183594: task completion (9,1,0)\n",
      "stage completion\n",
      "job completion\n",
      "n_workers=1\n",
      "\n",
      "231.42031860351562: task completion (8,1,0)\n",
      "n_workers=1\n",
      "\n",
      "232.588134765625: task completion (8,4,1)\n",
      "n_workers=1\n",
      "\n",
      "233.8507537841797: task completion (7,4,0)\n",
      "n_workers=1\n",
      "\n",
      "242.13851928710938: task completion (8,4,2)\n",
      "n_workers=1\n",
      "\n",
      "242.13851928710938: task completion (8,4,3)\n",
      "stage completion\n",
      "n_workers=1\n",
      "\n",
      "246.31549072265625: task completion (8,1,1)\n",
      "n_workers=1\n",
      "\n",
      "248.77850341796875: task completion (7,4,1)\n",
      "n_workers=1\n",
      "\n",
      "250.04112243652344: task completion (7,4,2)\n",
      "stage completion\n",
      "n_workers=1\n",
      "\n",
      "257.03369140625: task completion (8,1,2)\n",
      "stage completion\n",
      "n_workers=1\n",
      "\n",
      "263.12469482421875: task completion (8,3,0)\n",
      "n_workers=1\n",
      "\n",
      "267.3016662597656: task completion (8,3,1)\n",
      "n_workers=1\n",
      "\n",
      "273.5022277832031: task completion (8,2,0)\n",
      "n_workers=1\n",
      "\n",
      "274.7648620605469: task completion (8,2,1)\n",
      "n_workers=1\n",
      "\n",
      "278.0198669433594: task completion (8,3,2)\n",
      "stage completion\n",
      "n_workers=1\n",
      "\n",
      "295.4908447265625: task completion (7,3,0)\n",
      "stage completion\n",
      "n_workers=1\n",
      "\n",
      "298.2259521484375: task completion (8,2,2)\n",
      "n_workers=1\n",
      "\n",
      "299.48858642578125: task completion (8,2,3)\n",
      "stage completion\n",
      "n_workers=1\n",
      "\n",
      "300.61895751953125: task completion (6,3,2)\n",
      "stage completion\n",
      "n_workers=1\n",
      "\n",
      "310.4881591796875: task completion (6,4,3)\n",
      "stage completion\n",
      "n_workers=1\n",
      "\n",
      "313.0371398925781: task completion (5,1,0)\n",
      "n_workers=1\n",
      "\n",
      "315.55126953125: task completion (7,2,0)\n",
      "n_workers=1\n",
      "\n",
      "324.5451354980469: task completion (5,2,3)\n",
      "stage completion\n",
      "n_workers=1\n",
      "\n",
      "325.455322265625: task completion (5,1,1)\n",
      "n_workers=1\n",
      "\n",
      "332.8765869140625: task completion (7,2,1)\n",
      "n_workers=1\n",
      "\n",
      "336.96331787109375: task completion (5,1,2)\n",
      "stage completion\n",
      "n_workers=1\n",
      "\n",
      "337.2760009765625: task completion (8,0,0)\n",
      "stage completion\n",
      "job completion\n",
      "n_workers=1\n",
      "\n",
      "342.6565856933594: task completion (6,2,0)\n",
      "stage completion\n",
      "n_workers=1\n",
      "\n",
      "350.201904296875: task completion (7,2,2)\n",
      "stage completion\n",
      "n_workers=1\n",
      "\n",
      "358.6630554199219: task completion (7,1,0)\n",
      "stage completion\n",
      "n_workers=1\n",
      "\n",
      "360.4775695800781: task completion (4,2,0)\n",
      "stage completion\n",
      "n_workers=1\n",
      "\n",
      "363.5675048828125: task completion (3,5,0)\n",
      "n_workers=1\n",
      "\n",
      "377.3514099121094: task completion (6,1,0)\n",
      "n_workers=1\n",
      "\n",
      "387.2667541503906: task completion (7,0,0)\n",
      "n_workers=1\n",
      "\n",
      "395.1723937988281: task completion (6,1,1)\n",
      "n_workers=1\n",
      "\n",
      "395.7279052734375: task completion (7,0,1)\n",
      "stage completion\n",
      "job completion\n",
      "n_workers=1\n",
      "\n",
      "398.2623291015625: task completion (6,1,2)\n",
      "n_workers=1\n",
      "\n",
      "411.0179443359375: task completion (5,0,2)\n",
      "n_workers=1\n",
      "\n",
      "412.0462341308594: task completion (6,1,3)\n",
      "stage completion\n",
      "n_workers=1\n",
      "\n",
      "418.4692077636719: task completion (4,1,0)\n",
      "n_workers=1\n",
      "\n",
      "419.4790954589844: task completion (5,0,3)\n",
      "stage completion\n",
      "job completion\n",
      "n_workers=1\n",
      "\n",
      "421.55914306640625: task completion (4,1,1)\n",
      "n_workers=1\n",
      "\n",
      "428.24444580078125: task completion (4,0,0)\n",
      "n_workers=1\n",
      "\n",
      "444.85595703125: task completion (4,1,2)\n",
      "n_workers=1\n",
      "\n",
      "445.3127746582031: task completion (6,0,0)\n",
      "n_workers=1\n",
      "\n",
      "445.470947265625: task completion (4,0,1)\n",
      "n_workers=1\n",
      "\n",
      "451.7357482910156: task completion (6,0,1)\n",
      "n_workers=1\n",
      "\n",
      "452.7456359863281: task completion (6,0,2)\n",
      "stage completion\n",
      "job completion\n",
      "n_workers=1\n",
      "\n",
      "462.69744873046875: task completion (4,0,2)\n",
      "stage completion\n",
      "n_workers=1\n",
      "\n",
      "468.15277099609375: task completion (4,1,3)\n",
      "stage completion\n",
      "job completion\n",
      "n_workers=1\n",
      "\n",
      "471.91693115234375: task completion (3,5,1)\n",
      "n_workers=1\n",
      "\n",
      "478.33990478515625: task completion (3,5,2)\n",
      "n_workers=1\n",
      "\n",
      "479.34979248046875: task completion (3,5,3)\n",
      "stage completion\n",
      "n_workers=1\n",
      "\n",
      "490.9525146484375: task completion (2,5,0)\n",
      "stage completion\n",
      "n_workers=1\n",
      "\n",
      "494.9015808105469: task completion (3,0,0)\n",
      "n_workers=1\n",
      "\n",
      "498.6657409667969: task completion (3,0,1)\n",
      "stage completion\n",
      "n_workers=1\n",
      "\n",
      "501.5765686035156: task completion (3,4,0)\n",
      "n_workers=1\n",
      "\n",
      "505.3407287597656: task completion (3,4,1)\n",
      "n_workers=1\n",
      "\n",
      "508.2515563964844: task completion (3,4,2)\n",
      "n_workers=1\n",
      "\n",
      "512.0157470703125: task completion (3,4,3)\n",
      "stage completion\n",
      "n_workers=1\n",
      "\n",
      "520.7755126953125: task completion (2,4,0)\n",
      "n_workers=1\n",
      "\n",
      "522.318359375: task completion (3,2,0)\n",
      "n_workers=1\n",
      "\n",
      "527.159423828125: task completion (2,0,0)\n",
      "n_workers=1\n",
      "\n",
      "532.3782348632812: task completion (2,4,1)\n",
      "n_workers=1\n",
      "\n",
      "532.6209716796875: task completion (3,2,1)\n",
      "n_workers=1\n",
      "\n",
      "537.4620361328125: task completion (3,2,2)\n",
      "n_workers=1\n",
      "\n",
      "542.923583984375: task completion (3,2,3)\n",
      "stage completion\n",
      "n_workers=1\n",
      "\n",
      "553.4482421875: task completion (3,3,0)\n",
      "n_workers=1\n",
      "\n",
      "557.071044921875: task completion (2,0,1)\n",
      "n_workers=1\n",
      "\n",
      "560.5449829101562: task completion (3,1,0)\n",
      "n_workers=1\n",
      "\n",
      "565.0509643554688: task completion (3,3,1)\n",
      "n_workers=1\n",
      "\n",
      "574.6924438476562: task completion (3,1,1)\n",
      "n_workers=0\n",
      "\n",
      "invalid action\n",
      "578.1663818359375: task completion (3,1,2)\n",
      "n_workers=0\n",
      "\n",
      "invalid action\n",
      "582.67236328125: task completion (3,1,3)\n",
      "stage completion\n",
      "n_workers=1\n",
      "\n",
      "586.1209716796875: task completion (3,3,2)\n",
      "stage completion\n",
      "job completion\n",
      "n_workers=1\n",
      "\n",
      "586.2815551757812: task completion (2,0,2)\n",
      "stage completion\n",
      "n_workers=0\n",
      "\n",
      "invalid action\n",
      "624.0980834960938: task completion (2,4,2)\n",
      "n_workers=1\n",
      "\n",
      "627.5466918945312: task completion (2,4,3)\n",
      "stage completion\n",
      "n_workers=1\n",
      "\n",
      "644.2249145507812: task completion (1,1,0)\n",
      "n_workers=1\n",
      "\n",
      "655.1503295898438: task completion (2,3,0)\n",
      "n_workers=1\n",
      "\n",
      "671.8285522460938: task completion (2,3,1)\n",
      "stage completion\n",
      "n_workers=2\n",
      "\n",
      "675.2771606445312: task completion (1,1,1)\n",
      "n_workers=1\n",
      "\n",
      "695.4039916992188: task completion (1,1,2)\n",
      "n_workers=1\n",
      "\n",
      "711.0037841796875: task completion (2,2,0)\n",
      "n_workers=1\n",
      "\n",
      "711.0037841796875: task completion (2,2,1)\n",
      "stage completion\n",
      "n_workers=3\n",
      "\n",
      "715.5308227539062: task completion (1,1,3)\n",
      "stage completion\n",
      "n_workers=1\n",
      "\n",
      "726.7713623046875: task completion (2,1,0)\n",
      "n_workers=1\n",
      "\n",
      "726.7713623046875: task completion (2,1,1)\n",
      "n_workers=1\n",
      "\n",
      "726.7713623046875: task completion (2,1,2)\n",
      "n_workers=0\n",
      "\n",
      "invalid action\n",
      "731.2984008789062: task completion (2,1,3)\n",
      "stage completion\n",
      "job completion\n",
      "n_workers=1\n",
      "\n",
      "743.7066040039062: task completion (0,0,0)\n",
      "n_workers=1\n",
      "\n",
      "764.001220703125: task completion (0,0,1)\n",
      "frontier is empty\n",
      "\n",
      "invalid action\n",
      "768.0294189453125: task completion (1,0,0)\n",
      "frontier is empty\n",
      "\n",
      "invalid action\n",
      "768.0294189453125: task completion (1,0,1)\n",
      "stage completion\n",
      "job completion\n",
      "frontier is empty\n",
      "\n",
      "invalid action\n",
      "776.409423828125: task completion (0,0,2)\n",
      "stage completion\n",
      "job completion\n",
      "frontier is empty\n",
      "\n",
      "invalid action\n",
      "all jobs completed!\n"
     ]
    }
   ],
   "source": [
    "obs = env.reset()\n",
    "done = False\n",
    "\n",
    "while not done:    \n",
    "    frontier_stages = obs.get_frontier_stages()\n",
    "    avail_workers = obs.find_available_workers()\n",
    "    \n",
    "    if len(avail_workers) == 0 or len(frontier_stages) == 0:\n",
    "        if len(avail_workers) == 0:\n",
    "            print('no available workers')\n",
    "        else:\n",
    "            print('frontier is empty')\n",
    "        action = {\n",
    "            'job_id': env.max_jobs,\n",
    "            'stage_id': env.max_stages,\n",
    "            'worker_type_counts': np.zeros(env.n_worker_types)\n",
    "        }\n",
    "    else:\n",
    "        for stage in frontier_stages:\n",
    "            for worker in avail_workers:\n",
    "                if worker.compatible_with(stage):\n",
    "                    first_stage = stage\n",
    "        \n",
    "        stage_id = first_stage.id_\n",
    "        job_id = first_stage.job_id\n",
    "        \n",
    "        avail_counts = obs.get_avail_worker_counts(env.n_worker_types)\n",
    "        \n",
    "        stage = obs.jobs[job_id].stages[stage_id]\n",
    "        worker_types = stage.compatible_worker_types()\n",
    "        \n",
    "        n_workers = 0\n",
    "        worker_type_counts = np.zeros(env.n_worker_types, dtype=int)\n",
    "        for worker_type in worker_types:\n",
    "            if n_workers == stage.n_remaining_tasks:\n",
    "                break\n",
    "            avail_count = avail_counts[worker_type]\n",
    "            request_count = int(min(stage.n_remaining_tasks - n_workers, avail_count))\n",
    "            worker_type_counts[worker_type] = request_count\n",
    "            n_workers += request_count\n",
    "        \n",
    "        print(f'n_workers={n_workers}')\n",
    "\n",
    "        action = {\n",
    "            'job_id': job_id,\n",
    "            'stage_id': stage_id,\n",
    "            'worker_type_counts': worker_type_counts\n",
    "        }\n",
    "    \n",
    "    print()\n",
    "    prev_obs = copy(obs)\n",
    "    obs, _, done, _ = env.step(action)"
   ]
  },
  {
   "cell_type": "code",
   "execution_count": 3,
   "id": "43cd15d3",
   "metadata": {},
   "outputs": [
    {
     "data": {
      "text/plain": [
       "True"
      ]
     },
     "execution_count": 3,
     "metadata": {},
     "output_type": "execute_result"
    }
   ],
   "source": [
    "env.observation_space.contains(asdict(prev_obs))"
   ]
  },
  {
   "cell_type": "code",
   "execution_count": 5,
   "id": "c85e653e",
   "metadata": {},
   "outputs": [
    {
     "data": {
      "application/vnd.plotly.v1+json": {
       "config": {
        "plotlyServerURL": "https://plot.ly"
       },
       "data": [
        {
         "alignmentgroup": "True",
         "base": [
          93.08773803710938,
          419.4790954589844,
          418.4692077636719,
          360.4775695800781,
          278.0198669433594,
          97.93769836425781,
          97.93769836425781,
          363.5675048828125,
          93.08773803710938,
          377.3514099121094,
          310.4881591796875,
          267.3016662597656,
          412.0462341308594,
          96.67894744873047,
          342.6565856933594
         ],
         "hovertemplate": "job_id=6<br>t_accepted=%{base}<br>t_completed=%{x}<br>worker_id=%{y}<extra></extra>",
         "legendgroup": "6",
         "marker": {
          "color": "rgb(76,114,176)"
         },
         "name": "6",
         "offsetgroup": "6",
         "orientation": "h",
         "showlegend": true,
         "textposition": "auto",
         "type": "bar",
         "width": 0.7,
         "x": [
          22.599105834960938,
          33.26654052734375,
          33.26654052734375,
          34.69482421875,
          22.599090576171875,
          43.18650817871094,
          43.18650817871094,
          34.69482421875,
          22.599105834960938,
          34.69482421875,
          32.168426513671875,
          43.186492919921875,
          33.26654052734375,
          43.186500549316406,
          34.69482421875
         ],
         "xaxis": "x",
         "y": [
          "0",
          "0",
          "1",
          "1",
          "1",
          "1",
          "2",
          "2",
          "3",
          "4",
          "4",
          "4",
          "4",
          "4",
          "4"
         ],
         "yaxis": "y"
        },
        {
         "alignmentgroup": "True",
         "base": [
          586.1209716796875,
          479.34979248046875,
          627.5466918945312,
          715.5308227539062,
          39.61875915527344,
          478.33990478515625,
          537.4620361328125,
          671.8285522460938,
          711.0037841796875,
          508.2515563964844,
          711.0037841796875,
          490.9525146484375,
          644.2249145507812,
          671.8285522460938,
          582.67236328125,
          39.61875915527344,
          462.69744873046875,
          711.0037841796875,
          37.90687942504883
         ],
         "hovertemplate": "job_id=2<br>t_accepted=%{base}<br>t_completed=%{x}<br>worker_id=%{y}<extra></extra>",
         "legendgroup": "2",
         "marker": {
          "color": "rgb(221,132,82)"
         },
         "name": "2",
         "offsetgroup": "2",
         "orientation": "h",
         "showlegend": true,
         "textposition": "auto",
         "type": "bar",
         "width": 0.7,
         "x": [
          41.42572021484375,
          41.42572021484375,
          27.6036376953125,
          15.767578125,
          29.717788696289062,
          48.81951904296875,
          48.81951904296875,
          39.17523193359375,
          15.767578125,
          48.819488525390625,
          15.767578125,
          41.42572021484375,
          27.6036376953125,
          39.17523193359375,
          41.42572021484375,
          29.717788696289062,
          28.25506591796875,
          15.767578125,
          29.717784881591797
         ],
         "xaxis": "x",
         "y": [
          "0",
          "0",
          "0",
          "0",
          "0",
          "1",
          "1",
          "1",
          "1",
          "2",
          "2",
          "3",
          "3",
          "3",
          "3",
          "3",
          "3",
          "4",
          "4"
         ],
         "yaxis": "y"
        },
        {
         "alignmentgroup": "True",
         "base": [
          274.7648620605469,
          250.04112243652344,
          299.48858642578125,
          242.13851928710938,
          257.03369140625,
          206.2515869140625,
          242.13851928710938,
          206.2515869140625,
          273.5022277832031,
          196.70118713378906,
          248.77850341796875,
          180.63821411132812,
          246.31549072265625,
          231.42031860351562,
          216.525146484375
         ],
         "hovertemplate": "job_id=8<br>t_accepted=%{base}<br>t_completed=%{x}<br>worker_id=%{y}<extra></extra>",
         "legendgroup": "8",
         "marker": {
          "color": "rgb(85,168,104)"
         },
         "name": "8",
         "offsetgroup": "8",
         "orientation": "h",
         "showlegend": true,
         "textposition": "auto",
         "type": "bar",
         "width": 0.7,
         "x": [
          24.723724365234375,
          24.723739624023438,
          37.78741455078125,
          14.895172119140625,
          20.986175537109375,
          35.886932373046875,
          20.986175537109375,
          35.886932373046875,
          24.723724365234375,
          35.88694763183594,
          24.723724365234375,
          35.886932373046875,
          20.986175537109375,
          14.895172119140625,
          14.895172119140625
         ],
         "xaxis": "x",
         "y": [
          "0",
          "0",
          "0",
          "1",
          "1",
          "1",
          "2",
          "2",
          "3",
          "3",
          "3",
          "4",
          "4",
          "4",
          "4"
         ],
         "yaxis": "y"
        },
        {
         "alignmentgroup": "True",
         "base": [
          452.7456359863281,
          520.7755126953125,
          553.4482421875,
          527.159423828125,
          451.7357482910156,
          468.15277099609375,
          336.96331787109375,
          501.5765686035156,
          494.9015808105469,
          557.071044921875,
          532.3782348632812,
          565.0509643554688,
          471.91693115234375,
          512.0157470703125,
          560.5449829101562,
          522.318359375,
          532.6209716796875,
          498.6657409667969,
          505.3407287597656,
          445.3127746582031,
          542.923583984375
         ],
         "hovertemplate": "job_id=3<br>t_accepted=%{base}<br>t_completed=%{x}<br>worker_id=%{y}<extra></extra>",
         "legendgroup": "3",
         "marker": {
          "color": "rgb(196,78,82)"
         },
         "name": "3",
         "offsetgroup": "3",
         "orientation": "h",
         "showlegend": true,
         "textposition": "auto",
         "type": "bar",
         "width": 0.7,
         "x": [
          26.604156494140625,
          32.6727294921875,
          32.6727294921875,
          10.3026123046875,
          26.604156494140625,
          26.748809814453125,
          26.60418701171875,
          6.67498779296875,
          6.67498779296875,
          17.62139892578125,
          32.6727294921875,
          17.62139892578125,
          26.748809814453125,
          10.3026123046875,
          17.62139892578125,
          10.3026123046875,
          10.3026123046875,
          6.67498779296875,
          6.675018310546875,
          26.604156494140625,
          17.62139892578125
         ],
         "xaxis": "x",
         "y": [
          "0",
          "0",
          "0",
          "1",
          "1",
          "2",
          "2",
          "2",
          "2",
          "2",
          "3",
          "3",
          "4",
          "4",
          "4",
          "4",
          "4",
          "4",
          "4",
          "4",
          "4"
         ],
         "yaxis": "y"
        },
        {
         "alignmentgroup": "True",
         "base": [
          395.7279052734375,
          69.3365478515625,
          300.61895751953125,
          313.0371398925781,
          68.88341522216797,
          295.4908447265625,
          68.88341522216797,
          324.5451354980469,
          387.2667541503906,
          69.3365478515625,
          67.62466430664062
         ],
         "hovertemplate": "job_id=5<br>t_accepted=%{base}<br>t_completed=%{x}<br>worker_id=%{y}<extra></extra>",
         "legendgroup": "5",
         "marker": {
          "color": "rgb(129,114,179)"
         },
         "name": "5",
         "offsetgroup": "5",
         "orientation": "h",
         "showlegend": true,
         "textposition": "auto",
         "type": "bar",
         "width": 0.7,
         "x": [
          23.751190185546875,
          23.751190185546875,
          12.418182373046875,
          12.418182373046875,
          29.054283142089844,
          29.054290771484375,
          29.054283142089844,
          12.418182373046875,
          23.751190185546875,
          23.751190185546875,
          29.054283142089844
         ],
         "xaxis": "x",
         "y": [
          "0",
          "0",
          "1",
          "1",
          "1",
          "2",
          "2",
          "2",
          "3",
          "3",
          "4"
         ],
         "yaxis": "y"
        },
        {
         "alignmentgroup": "True",
         "base": [
          358.6630554199219,
          233.8507537841797,
          217.66038513183594,
          337.2760009765625,
          263.12469482421875,
          298.2259521484375,
          315.55126953125,
          350.201904296875,
          232.588134765625,
          332.8765869140625
         ],
         "hovertemplate": "job_id=7<br>t_accepted=%{base}<br>t_completed=%{x}<br>worker_id=%{y}<extra></extra>",
         "legendgroup": "7",
         "marker": {
          "color": "rgb(147,120,96)"
         },
         "name": "7",
         "offsetgroup": "7",
         "orientation": "h",
         "showlegend": true,
         "textposition": "auto",
         "type": "bar",
         "width": 0.7,
         "x": [
          37.064849853515625,
          16.19036865234375,
          16.19036865234375,
          21.387054443359375,
          32.36614990234375,
          17.3253173828125,
          17.3253173828125,
          37.064849853515625,
          16.19036865234375,
          17.3253173828125
         ],
         "xaxis": "x",
         "y": [
          "0",
          "0",
          "0",
          "0",
          "2",
          "3",
          "3",
          "3",
          "3",
          "3"
         ],
         "yaxis": "y"
        },
        {
         "alignmentgroup": "True",
         "base": [
          695.4039916992188,
          675.2771606445312,
          655.1503295898438,
          726.7713623046875,
          726.7713623046875,
          624.0980834960938
         ],
         "hovertemplate": "job_id=1<br>t_accepted=%{base}<br>t_completed=%{x}<br>worker_id=%{y}<extra></extra>",
         "legendgroup": "1",
         "marker": {
          "color": "rgb(218,139,195)"
         },
         "name": "1",
         "offsetgroup": "1",
         "orientation": "h",
         "showlegend": true,
         "textposition": "auto",
         "type": "bar",
         "width": 0.7,
         "x": [
          20.1268310546875,
          20.1268310546875,
          20.1268310546875,
          41.258056640625,
          41.258056640625,
          20.1268310546875
         ],
         "xaxis": "x",
         "y": [
          "0",
          "0",
          "0",
          "1",
          "2",
          "3"
         ],
         "yaxis": "y"
        },
        {
         "alignmentgroup": "True",
         "base": [
          196.70118713378906,
          115.68684387207031,
          156.45960998535156,
          141.12420654296875,
          173.68789672851562,
          173.68789672851562,
          141.12420654296875,
          156.45960998535156,
          115.68684387207031,
          139.86544799804688
         ],
         "hovertemplate": "job_id=9<br>t_accepted=%{base}<br>t_completed=%{x}<br>worker_id=%{y}<extra></extra>",
         "legendgroup": "9",
         "marker": {
          "color": "rgb(140,140,140)"
         },
         "name": "9",
         "offsetgroup": "9",
         "orientation": "h",
         "showlegend": true,
         "textposition": "auto",
         "type": "bar",
         "width": 0.7,
         "x": [
          20.959197998046875,
          40.77276611328125,
          40.2415771484375,
          32.563690185546875,
          32.563690185546875,
          32.563690185546875,
          32.563690185546875,
          40.2415771484375,
          40.77276611328125,
          40.77276611328125
         ],
         "xaxis": "x",
         "y": [
          "0",
          "0",
          "0",
          "1",
          "1",
          "2",
          "2",
          "3",
          "3",
          "4"
         ],
         "yaxis": "y"
        },
        {
         "alignmentgroup": "True",
         "base": [
          731.2984008789062,
          2.5344231128692627,
          31.7990779876709,
          2.5344231128692627,
          31.7990779876709,
          2.5344231128692627,
          711.0037841796875,
          2.5344231128692627,
          743.7066040039062,
          2.5344231128692627
         ],
         "hovertemplate": "job_id=0<br>t_accepted=%{base}<br>t_completed=%{x}<br>worker_id=%{y}<extra></extra>",
         "legendgroup": "0",
         "marker": {
          "color": "rgb(204,185,116)"
         },
         "name": "0",
         "offsetgroup": "0",
         "orientation": "h",
         "showlegend": true,
         "textposition": "auto",
         "type": "bar",
         "width": 0.7,
         "x": [
          32.70281982421875,
          37.08433532714844,
          37.08433532714844,
          29.2646541595459,
          37.08433532714844,
          29.2646541595459,
          32.70281982421875,
          37.08433532714844,
          32.70281982421875,
          29.2646541595459
         ],
         "xaxis": "x",
         "y": [
          "0",
          "0",
          "1",
          "1",
          "2",
          "2",
          "3",
          "3",
          "3",
          "4"
         ],
         "yaxis": "y"
        },
        {
         "alignmentgroup": "True",
         "base": [
          325.455322265625,
          395.1723937988281,
          421.55914306640625,
          398.2623291015625,
          444.85595703125,
          411.0179443359375,
          428.24444580078125,
          445.470947265625
         ],
         "hovertemplate": "job_id=4<br>t_accepted=%{base}<br>t_completed=%{x}<br>worker_id=%{y}<extra></extra>",
         "legendgroup": "4",
         "marker": {
          "color": "rgb(100,181,205)"
         },
         "name": "4",
         "offsetgroup": "4",
         "orientation": "h",
         "showlegend": true,
         "textposition": "auto",
         "type": "bar",
         "width": 0.7,
         "x": [
          35.022247314453125,
          23.29681396484375,
          23.29681396484375,
          23.29681396484375,
          23.29681396484375,
          17.22650146484375,
          17.22650146484375,
          17.22650146484375
         ],
         "xaxis": "x",
         "y": [
          "1",
          "1",
          "2",
          "2",
          "2",
          "3",
          "3",
          "3"
         ],
         "yaxis": "y"
        }
       ],
       "layout": {
        "annotations": [
         {
          "font": {
           "color": "white",
           "size": 8
          },
          "showarrow": false,
          "text": "3",
          "x": 104.38729095458984,
          "y": "0"
         },
         {
          "font": {
           "color": "white",
           "size": 8
          },
          "showarrow": false,
          "text": "4",
          "x": 606.8338623046875,
          "y": "0"
         },
         {
          "font": {
           "color": "white",
           "size": 8
          },
          "showarrow": false,
          "text": "2",
          "x": 287.126708984375,
          "y": "0"
         },
         {
          "font": {
           "color": "white",
           "size": 8
          },
          "showarrow": false,
          "text": "5",
          "x": 466.0477294921875,
          "y": "0"
         },
         {
          "font": {
           "color": "white",
           "size": 8
          },
          "showarrow": false,
          "text": "4",
          "x": 500.0626525878906,
          "y": "0"
         },
         {
          "font": {
           "color": "white",
           "size": 8
          },
          "showarrow": false,
          "text": "3",
          "x": 641.3485107421875,
          "y": "0"
         },
         {
          "font": {
           "color": "white",
           "size": 8
          },
          "showarrow": false,
          "text": "0",
          "x": 407.603515625,
          "y": "0"
         },
         {
          "font": {
           "color": "white",
           "size": 8
          },
          "showarrow": false,
          "text": "2",
          "x": 262.4029846191406,
          "y": "0"
         },
         {
          "font": {
           "color": "white",
           "size": 8
          },
          "showarrow": false,
          "text": "1",
          "x": 723.4146118164062,
          "y": "0"
         },
         {
          "font": {
           "color": "white",
           "size": 8
          },
          "showarrow": false,
          "text": "0",
          "x": 377.19549560546875,
          "y": "0"
         },
         {
          "font": {
           "color": "white",
           "size": 8
          },
          "showarrow": false,
          "text": "0",
          "x": 318.3822937011719,
          "y": "0"
         },
         {
          "font": {
           "color": "white",
           "size": 8
          },
          "showarrow": false,
          "text": "3",
          "x": 537.1118774414062,
          "y": "0"
         },
         {
          "font": {
           "color": "white",
           "size": 8
          },
          "showarrow": false,
          "text": "1",
          "x": 705.4674072265625,
          "y": "0"
         },
         {
          "font": {
           "color": "white",
           "size": 8
          },
          "showarrow": false,
          "text": "1",
          "x": 685.340576171875,
          "y": "0"
         },
         {
          "font": {
           "color": "white",
           "size": 8
          },
          "showarrow": false,
          "text": "4",
          "x": 241.94593811035156,
          "y": "0"
         },
         {
          "font": {
           "color": "white",
           "size": 8
          },
          "showarrow": false,
          "text": "1",
          "x": 207.1807861328125,
          "y": "0"
         },
         {
          "font": {
           "color": "white",
           "size": 8
          },
          "showarrow": false,
          "text": "0",
          "x": 747.6497802734375,
          "y": "0"
         },
         {
          "font": {
           "color": "white",
           "size": 8
          },
          "showarrow": false,
          "text": "3",
          "x": 136.07322692871094,
          "y": "0"
         },
         {
          "font": {
           "color": "white",
           "size": 8
          },
          "showarrow": false,
          "text": "1",
          "x": 21.07659149169922,
          "y": "0"
         },
         {
          "font": {
           "color": "white",
           "size": 8
          },
          "showarrow": false,
          "text": "4",
          "x": 225.7555694580078,
          "y": "0"
         },
         {
          "font": {
           "color": "white",
           "size": 8
          },
          "showarrow": false,
          "text": "1",
          "x": 665.2137451171875,
          "y": "0"
         },
         {
          "font": {
           "color": "white",
           "size": 8
          },
          "showarrow": false,
          "text": "0",
          "x": 81.21214294433594,
          "y": "0"
         },
         {
          "font": {
           "color": "white",
           "size": 8
          },
          "showarrow": false,
          "text": "1",
          "x": 347.96954345703125,
          "y": "0"
         },
         {
          "font": {
           "color": "white",
           "size": 8
          },
          "showarrow": false,
          "text": "3",
          "x": 569.7846069335938,
          "y": "0"
         },
         {
          "font": {
           "color": "white",
           "size": 8
          },
          "showarrow": false,
          "text": "0",
          "x": 436.11236572265625,
          "y": "0"
         },
         {
          "font": {
           "color": "white",
           "size": 8
          },
          "showarrow": false,
          "text": "2",
          "x": 176.5803985595703,
          "y": "0"
         },
         {
          "font": {
           "color": "white",
           "size": 8
          },
          "showarrow": false,
          "text": "6",
          "x": 54.47765350341797,
          "y": "0"
         },
         {
          "font": {
           "color": "white",
           "size": 8
          },
          "showarrow": false,
          "text": "2",
          "x": 342.9664306640625,
          "y": "1"
         },
         {
          "font": {
           "color": "white",
           "size": 8
          },
          "showarrow": false,
          "text": "1",
          "x": 249.5861053466797,
          "y": "1"
         },
         {
          "font": {
           "color": "white",
           "size": 8
          },
          "showarrow": false,
          "text": "2",
          "x": 532.3107299804688,
          "y": "1"
         },
         {
          "font": {
           "color": "white",
           "size": 8
          },
          "showarrow": false,
          "text": "1",
          "x": 306.82806396484375,
          "y": "1"
         },
         {
          "font": {
           "color": "white",
           "size": 8
          },
          "showarrow": false,
          "text": "5",
          "x": 465.037841796875,
          "y": "1"
         },
         {
          "font": {
           "color": "white",
           "size": 8
          },
          "showarrow": false,
          "text": "3",
          "x": 267.52679443359375,
          "y": "1"
         },
         {
          "font": {
           "color": "white",
           "size": 8
          },
          "showarrow": false,
          "text": "1",
          "x": 319.2462158203125,
          "y": "1"
         },
         {
          "font": {
           "color": "white",
           "size": 8
          },
          "showarrow": false,
          "text": "0",
          "x": 157.4060516357422,
          "y": "1"
         },
         {
          "font": {
           "color": "white",
           "size": 8
          },
          "showarrow": false,
          "text": "0",
          "x": 435.10247802734375,
          "y": "1"
         },
         {
          "font": {
           "color": "white",
           "size": 8
          },
          "showarrow": false,
          "text": "1",
          "x": 50.34124755859375,
          "y": "1"
         },
         {
          "font": {
           "color": "white",
           "size": 8
          },
          "showarrow": false,
          "text": "1",
          "x": 377.8249816894531,
          "y": "1"
         },
         {
          "font": {
           "color": "white",
           "size": 8
          },
          "showarrow": false,
          "text": "2",
          "x": 17.166749954223633,
          "y": "1"
         },
         {
          "font": {
           "color": "white",
           "size": 8
          },
          "showarrow": false,
          "text": "3",
          "x": 289.31939697265625,
          "y": "1"
         },
         {
          "font": {
           "color": "white",
           "size": 8
          },
          "showarrow": false,
          "text": "0",
          "x": 747.400390625,
          "y": "1"
         },
         {
          "font": {
           "color": "white",
           "size": 8
          },
          "showarrow": false,
          "text": "0",
          "x": 502.7496643066406,
          "y": "1"
         },
         {
          "font": {
           "color": "white",
           "size": 8
          },
          "showarrow": false,
          "text": "0",
          "x": 561.871826171875,
          "y": "1"
         },
         {
          "font": {
           "color": "white",
           "size": 8
          },
          "showarrow": false,
          "text": "1",
          "x": 406.82080078125,
          "y": "1"
         },
         {
          "font": {
           "color": "white",
           "size": 8
          },
          "showarrow": false,
          "text": "4",
          "x": 119.53095245361328,
          "y": "1"
         },
         {
          "font": {
           "color": "white",
           "size": 8
          },
          "showarrow": false,
          "text": "0",
          "x": 189.96974182128906,
          "y": "1"
         },
         {
          "font": {
           "color": "white",
           "size": 8
          },
          "showarrow": false,
          "text": "2",
          "x": 691.4161376953125,
          "y": "1"
         },
         {
          "font": {
           "color": "white",
           "size": 8
          },
          "showarrow": false,
          "text": "2",
          "x": 83.41055297851562,
          "y": "1"
         },
         {
          "font": {
           "color": "white",
           "size": 8
          },
          "showarrow": false,
          "text": "4",
          "x": 224.19505310058594,
          "y": "1"
         },
         {
          "font": {
           "color": "white",
           "size": 8
          },
          "showarrow": false,
          "text": "1",
          "x": 718.8875732421875,
          "y": "1"
         },
         {
          "font": {
           "color": "white",
           "size": 8
          },
          "showarrow": false,
          "text": "4",
          "x": 119.53095245361328,
          "y": "2"
         },
         {
          "font": {
           "color": "white",
           "size": 8
          },
          "showarrow": false,
          "text": "2",
          "x": 310.01800537109375,
          "y": "2"
         },
         {
          "font": {
           "color": "white",
           "size": 8
          },
          "showarrow": false,
          "text": "2",
          "x": 83.41055297851562,
          "y": "2"
         },
         {
          "font": {
           "color": "white",
           "size": 8
          },
          "showarrow": false,
          "text": "1",
          "x": 433.2075500488281,
          "y": "2"
         },
         {
          "font": {
           "color": "white",
           "size": 8
          },
          "showarrow": false,
          "text": "1",
          "x": 409.9107360839844,
          "y": "2"
         },
         {
          "font": {
           "color": "white",
           "size": 8
          },
          "showarrow": false,
          "text": "1",
          "x": 380.9149169921875,
          "y": "2"
         },
         {
          "font": {
           "color": "white",
           "size": 8
          },
          "showarrow": false,
          "text": "1",
          "x": 330.75421142578125,
          "y": "2"
         },
         {
          "font": {
           "color": "white",
           "size": 8
          },
          "showarrow": false,
          "text": "1",
          "x": 456.5043640136719,
          "y": "2"
         },
         {
          "font": {
           "color": "white",
           "size": 8
          },
          "showarrow": false,
          "text": "0",
          "x": 481.52716064453125,
          "y": "2"
         },
         {
          "font": {
           "color": "white",
           "size": 8
          },
          "showarrow": false,
          "text": "3",
          "x": 279.3077697753906,
          "y": "2"
         },
         {
          "font": {
           "color": "white",
           "size": 8
          },
          "showarrow": false,
          "text": "5",
          "x": 350.2654113769531,
          "y": "2"
         },
         {
          "font": {
           "color": "white",
           "size": 8
          },
          "showarrow": false,
          "text": "4",
          "x": 504.9140625,
          "y": "2"
         },
         {
          "font": {
           "color": "white",
           "size": 8
          },
          "showarrow": false,
          "text": "1",
          "x": 50.34124755859375,
          "y": "2"
         },
         {
          "font": {
           "color": "white",
           "size": 8
          },
          "showarrow": false,
          "text": "4",
          "x": 498.23907470703125,
          "y": "2"
         },
         {
          "font": {
           "color": "white",
           "size": 8
          },
          "showarrow": false,
          "text": "2",
          "x": 17.166749954223633,
          "y": "2"
         },
         {
          "font": {
           "color": "white",
           "size": 8
          },
          "showarrow": false,
          "text": "0",
          "x": 747.400390625,
          "y": "2"
         },
         {
          "font": {
           "color": "white",
           "size": 8
          },
          "showarrow": false,
          "text": "0",
          "x": 532.6613159179688,
          "y": "2"
         },
         {
          "font": {
           "color": "white",
           "size": 8
          },
          "showarrow": false,
          "text": "1",
          "x": 565.8817138671875,
          "y": "2"
         },
         {
          "font": {
           "color": "white",
           "size": 8
          },
          "showarrow": false,
          "text": "3",
          "x": 252.63160705566406,
          "y": "2"
         },
         {
          "font": {
           "color": "white",
           "size": 8
          },
          "showarrow": false,
          "text": "1",
          "x": 718.8875732421875,
          "y": "2"
         },
         {
          "font": {
           "color": "white",
           "size": 8
          },
          "showarrow": false,
          "text": "0",
          "x": 189.96974182128906,
          "y": "2"
         },
         {
          "font": {
           "color": "white",
           "size": 8
          },
          "showarrow": false,
          "text": "4",
          "x": 224.19505310058594,
          "y": "2"
         },
         {
          "font": {
           "color": "white",
           "size": 8
          },
          "showarrow": false,
          "text": "0",
          "x": 157.4060516357422,
          "y": "2"
         },
         {
          "font": {
           "color": "white",
           "size": 8
          },
          "showarrow": false,
          "text": "2",
          "x": 176.5803985595703,
          "y": "3"
         },
         {
          "font": {
           "color": "white",
           "size": 8
          },
          "showarrow": false,
          "text": "2",
          "x": 306.88861083984375,
          "y": "3"
         },
         {
          "font": {
           "color": "white",
           "size": 8
          },
          "showarrow": false,
          "text": "2",
          "x": 324.21392822265625,
          "y": "3"
         },
         {
          "font": {
           "color": "white",
           "size": 8
          },
          "showarrow": false,
          "text": "2",
          "x": 285.86407470703125,
          "y": "3"
         },
         {
          "font": {
           "color": "white",
           "size": 8
          },
          "showarrow": false,
          "text": "0",
          "x": 368.73431396484375,
          "y": "3"
         },
         {
          "font": {
           "color": "white",
           "size": 8
          },
          "showarrow": false,
          "text": "3",
          "x": 104.38729095458984,
          "y": "3"
         },
         {
          "font": {
           "color": "white",
           "size": 8
          },
          "showarrow": false,
          "text": "4",
          "x": 240.68331909179688,
          "y": "3"
         },
         {
          "font": {
           "color": "white",
           "size": 8
          },
          "showarrow": false,
          "text": "2",
          "x": 341.53924560546875,
          "y": "3"
         },
         {
          "font": {
           "color": "white",
           "size": 8
          },
          "showarrow": false,
          "text": "4",
          "x": 214.6446533203125,
          "y": "3"
         },
         {
          "font": {
           "color": "white",
           "size": 8
          },
          "showarrow": false,
          "text": "2",
          "x": 261.140380859375,
          "y": "3"
         },
         {
          "font": {
           "color": "white",
           "size": 8
          },
          "showarrow": false,
          "text": "0",
          "x": 727.355224609375,
          "y": "3"
         },
         {
          "font": {
           "color": "white",
           "size": 8
          },
          "showarrow": false,
          "text": "0",
          "x": 419.6311950683594,
          "y": "3"
         },
         {
          "font": {
           "color": "white",
           "size": 8
          },
          "showarrow": false,
          "text": "3",
          "x": 548.714599609375,
          "y": "3"
         },
         {
          "font": {
           "color": "white",
           "size": 8
          },
          "showarrow": false,
          "text": "4",
          "x": 511.6653747558594,
          "y": "3"
         },
         {
          "font": {
           "color": "white",
           "size": 8
          },
          "showarrow": false,
          "text": "3",
          "x": 658.0267333984375,
          "y": "3"
         },
         {
          "font": {
           "color": "white",
           "size": 8
          },
          "showarrow": false,
          "text": "2",
          "x": 691.4161376953125,
          "y": "3"
         },
         {
          "font": {
           "color": "white",
           "size": 8
          },
          "showarrow": false,
          "text": "0",
          "x": 436.8576965332031,
          "y": "3"
         },
         {
          "font": {
           "color": "white",
           "size": 8
          },
          "showarrow": false,
          "text": "0",
          "x": 454.0841979980469,
          "y": "3"
         },
         {
          "font": {
           "color": "white",
           "size": 8
          },
          "showarrow": false,
          "text": "4",
          "x": 603.38525390625,
          "y": "3"
         },
         {
          "font": {
           "color": "white",
           "size": 8
          },
          "showarrow": false,
          "text": "3",
          "x": 136.07322692871094,
          "y": "3"
         },
         {
          "font": {
           "color": "white",
           "size": 8
          },
          "showarrow": false,
          "text": "0",
          "x": 399.142333984375,
          "y": "3"
         },
         {
          "font": {
           "color": "white",
           "size": 8
          },
          "showarrow": false,
          "text": "6",
          "x": 54.47765350341797,
          "y": "3"
         },
         {
          "font": {
           "color": "white",
           "size": 8
          },
          "showarrow": false,
          "text": "1",
          "x": 634.1614990234375,
          "y": "3"
         },
         {
          "font": {
           "color": "white",
           "size": 8
          },
          "showarrow": false,
          "text": "1",
          "x": 573.8616943359375,
          "y": "3"
         },
         {
          "font": {
           "color": "white",
           "size": 8
          },
          "showarrow": false,
          "text": "1",
          "x": 21.07659149169922,
          "y": "3"
         },
         {
          "font": {
           "color": "white",
           "size": 8
          },
          "showarrow": false,
          "text": "0",
          "x": 760.0579833984375,
          "y": "3"
         },
         {
          "font": {
           "color": "white",
           "size": 8
          },
          "showarrow": false,
          "text": "0",
          "x": 81.21214294433594,
          "y": "3"
         },
         {
          "font": {
           "color": "white",
           "size": 8
          },
          "showarrow": false,
          "text": "5",
          "x": 476.8249816894531,
          "y": "3"
         },
         {
          "font": {
           "color": "white",
           "size": 8
          },
          "showarrow": false,
          "text": "4",
          "x": 198.58168029785156,
          "y": "4"
         },
         {
          "font": {
           "color": "white",
           "size": 8
          },
          "showarrow": false,
          "text": "1",
          "x": 394.6988220214844,
          "y": "4"
         },
         {
          "font": {
           "color": "white",
           "size": 8
          },
          "showarrow": false,
          "text": "3",
          "x": 256.80859375,
          "y": "4"
         },
         {
          "font": {
           "color": "white",
           "size": 8
          },
          "showarrow": false,
          "text": "1",
          "x": 718.8875732421875,
          "y": "4"
         },
         {
          "font": {
           "color": "white",
           "size": 8
          },
          "showarrow": false,
          "text": "2",
          "x": 17.166749954223633,
          "y": "4"
         },
         {
          "font": {
           "color": "white",
           "size": 8
          },
          "showarrow": false,
          "text": "6",
          "x": 52.765769958496094,
          "y": "4"
         },
         {
          "font": {
           "color": "white",
           "size": 8
          },
          "showarrow": false,
          "text": "0",
          "x": 485.29132080078125,
          "y": "4"
         },
         {
          "font": {
           "color": "white",
           "size": 8
          },
          "showarrow": false,
          "text": "2",
          "x": 517.1670532226562,
          "y": "4"
         },
         {
          "font": {
           "color": "white",
           "size": 8
          },
          "showarrow": false,
          "text": "1",
          "x": 569.355712890625,
          "y": "4"
         },
         {
          "font": {
           "color": "white",
           "size": 8
          },
          "showarrow": false,
          "text": "2",
          "x": 326.5723876953125,
          "y": "4"
         },
         {
          "font": {
           "color": "white",
           "size": 8
          },
          "showarrow": false,
          "text": "2",
          "x": 527.4696655273438,
          "y": "4"
         },
         {
          "font": {
           "color": "white",
           "size": 8
          },
          "showarrow": false,
          "text": "1",
          "x": 238.86790466308594,
          "y": "4"
         },
         {
          "font": {
           "color": "white",
           "size": 8
          },
          "showarrow": false,
          "text": "1",
          "x": 223.9727325439453,
          "y": "4"
         },
         {
          "font": {
           "color": "white",
           "size": 8
          },
          "showarrow": false,
          "text": "2",
          "x": 537.7722778320312,
          "y": "4"
         },
         {
          "font": {
           "color": "white",
           "size": 8
          },
          "showarrow": false,
          "text": "4",
          "x": 502.00323486328125,
          "y": "4"
         },
         {
          "font": {
           "color": "white",
           "size": 8
          },
          "showarrow": false,
          "text": "4",
          "x": 508.67822265625,
          "y": "4"
         },
         {
          "font": {
           "color": "white",
           "size": 8
          },
          "showarrow": false,
          "text": "5",
          "x": 458.6148681640625,
          "y": "4"
         },
         {
          "font": {
           "color": "white",
           "size": 8
          },
          "showarrow": false,
          "text": "4",
          "x": 288.8948974609375,
          "y": "4"
         },
         {
          "font": {
           "color": "white",
           "size": 8
          },
          "showarrow": false,
          "text": "2",
          "x": 82.15180969238281,
          "y": "4"
         },
         {
          "font": {
           "color": "white",
           "size": 8
          },
          "showarrow": false,
          "text": "0",
          "x": 428.67950439453125,
          "y": "4"
         },
         {
          "font": {
           "color": "white",
           "size": 8
          },
          "showarrow": false,
          "text": "4",
          "x": 118.27220153808594,
          "y": "4"
         },
         {
          "font": {
           "color": "white",
           "size": 8
          },
          "showarrow": false,
          "text": "1",
          "x": 360.0039978027344,
          "y": "4"
         },
         {
          "font": {
           "color": "white",
           "size": 8
          },
          "showarrow": false,
          "text": "1",
          "x": 551.7342529296875,
          "y": "4"
         },
         {
          "font": {
           "color": "white",
           "size": 8
          },
          "showarrow": false,
          "text": "3",
          "x": 160.2518310546875,
          "y": "4"
         }
        ],
        "barmode": "overlay",
        "legend": {
         "title": {
          "text": "job_id"
         },
         "tracegroupgap": 0,
         "traceorder": "reversed"
        },
        "margin": {
         "t": 60
        },
        "shapes": [
         {
          "line": {
           "color": "green",
           "width": 2
          },
          "type": "line",
          "x0": 776.409423828125,
          "x1": 776.409423828125,
          "xref": "x",
          "y0": 0,
          "y1": 1,
          "yref": "y domain"
         },
         {
          "line": {
           "color": "green",
           "width": 2
          },
          "type": "line",
          "x0": 768.0294189453125,
          "x1": 768.0294189453125,
          "xref": "x",
          "y0": 0,
          "y1": 1,
          "yref": "y domain"
         },
         {
          "line": {
           "color": "green",
           "width": 2
          },
          "type": "line",
          "x0": 731.2984008789062,
          "x1": 731.2984008789062,
          "xref": "x",
          "y0": 0,
          "y1": 1,
          "yref": "y domain"
         },
         {
          "line": {
           "color": "green",
           "width": 2
          },
          "type": "line",
          "x0": 586.1209716796875,
          "x1": 586.1209716796875,
          "xref": "x",
          "y0": 0,
          "y1": 1,
          "yref": "y domain"
         },
         {
          "line": {
           "color": "green",
           "width": 2
          },
          "type": "line",
          "x0": 468.15277099609375,
          "x1": 468.15277099609375,
          "xref": "x",
          "y0": 0,
          "y1": 1,
          "yref": "y domain"
         },
         {
          "line": {
           "color": "green",
           "width": 2
          },
          "type": "line",
          "x0": 419.4790954589844,
          "x1": 419.4790954589844,
          "xref": "x",
          "y0": 0,
          "y1": 1,
          "yref": "y domain"
         },
         {
          "line": {
           "color": "green",
           "width": 2
          },
          "type": "line",
          "x0": 452.7456359863281,
          "x1": 452.7456359863281,
          "xref": "x",
          "y0": 0,
          "y1": 1,
          "yref": "y domain"
         },
         {
          "line": {
           "color": "green",
           "width": 2
          },
          "type": "line",
          "x0": 395.7279052734375,
          "x1": 395.7279052734375,
          "xref": "x",
          "y0": 0,
          "y1": 1,
          "yref": "y domain"
         },
         {
          "line": {
           "color": "green",
           "width": 2
          },
          "type": "line",
          "x0": 337.2760009765625,
          "x1": 337.2760009765625,
          "xref": "x",
          "y0": 0,
          "y1": 1,
          "yref": "y domain"
         },
         {
          "line": {
           "color": "green",
           "width": 2
          },
          "type": "line",
          "x0": 217.66038513183594,
          "x1": 217.66038513183594,
          "xref": "x",
          "y0": 0,
          "y1": 1,
          "yref": "y domain"
         }
        ],
        "template": {
         "data": {
          "bar": [
           {
            "error_x": {
             "color": "rgb(36,36,36)"
            },
            "error_y": {
             "color": "rgb(36,36,36)"
            },
            "marker": {
             "line": {
              "color": "rgb(234,234,242)",
              "width": 0.5
             },
             "pattern": {
              "fillmode": "overlay",
              "size": 10,
              "solidity": 0.2
             }
            },
            "type": "bar"
           }
          ],
          "barpolar": [
           {
            "marker": {
             "line": {
              "color": "rgb(234,234,242)",
              "width": 0.5
             },
             "pattern": {
              "fillmode": "overlay",
              "size": 10,
              "solidity": 0.2
             }
            },
            "type": "barpolar"
           }
          ],
          "carpet": [
           {
            "aaxis": {
             "endlinecolor": "rgb(36,36,36)",
             "gridcolor": "white",
             "linecolor": "white",
             "minorgridcolor": "white",
             "startlinecolor": "rgb(36,36,36)"
            },
            "baxis": {
             "endlinecolor": "rgb(36,36,36)",
             "gridcolor": "white",
             "linecolor": "white",
             "minorgridcolor": "white",
             "startlinecolor": "rgb(36,36,36)"
            },
            "type": "carpet"
           }
          ],
          "choropleth": [
           {
            "colorbar": {
             "outlinewidth": 0,
             "tickcolor": "rgb(36,36,36)",
             "ticklen": 8,
             "ticks": "outside",
             "tickwidth": 2
            },
            "type": "choropleth"
           }
          ],
          "contour": [
           {
            "colorbar": {
             "outlinewidth": 0,
             "tickcolor": "rgb(36,36,36)",
             "ticklen": 8,
             "ticks": "outside",
             "tickwidth": 2
            },
            "colorscale": [
             [
              0,
              "rgb(2,4,25)"
             ],
             [
              0.06274509803921569,
              "rgb(24,15,41)"
             ],
             [
              0.12549019607843137,
              "rgb(47,23,57)"
             ],
             [
              0.18823529411764706,
              "rgb(71,28,72)"
             ],
             [
              0.25098039215686274,
              "rgb(97,30,82)"
             ],
             [
              0.3137254901960784,
              "rgb(123,30,89)"
             ],
             [
              0.3764705882352941,
              "rgb(150,27,91)"
             ],
             [
              0.4392156862745098,
              "rgb(177,22,88)"
             ],
             [
              0.5019607843137255,
              "rgb(203,26,79)"
             ],
             [
              0.5647058823529412,
              "rgb(223,47,67)"
             ],
             [
              0.6274509803921569,
              "rgb(236,76,61)"
             ],
             [
              0.6901960784313725,
              "rgb(242,107,73)"
             ],
             [
              0.7529411764705882,
              "rgb(244,135,95)"
             ],
             [
              0.8156862745098039,
              "rgb(245,162,122)"
             ],
             [
              0.8784313725490196,
              "rgb(246,188,153)"
             ],
             [
              0.9411764705882353,
              "rgb(247,212,187)"
             ],
             [
              1,
              "rgb(250,234,220)"
             ]
            ],
            "type": "contour"
           }
          ],
          "contourcarpet": [
           {
            "colorbar": {
             "outlinewidth": 0,
             "tickcolor": "rgb(36,36,36)",
             "ticklen": 8,
             "ticks": "outside",
             "tickwidth": 2
            },
            "type": "contourcarpet"
           }
          ],
          "heatmap": [
           {
            "colorbar": {
             "outlinewidth": 0,
             "tickcolor": "rgb(36,36,36)",
             "ticklen": 8,
             "ticks": "outside",
             "tickwidth": 2
            },
            "colorscale": [
             [
              0,
              "rgb(2,4,25)"
             ],
             [
              0.06274509803921569,
              "rgb(24,15,41)"
             ],
             [
              0.12549019607843137,
              "rgb(47,23,57)"
             ],
             [
              0.18823529411764706,
              "rgb(71,28,72)"
             ],
             [
              0.25098039215686274,
              "rgb(97,30,82)"
             ],
             [
              0.3137254901960784,
              "rgb(123,30,89)"
             ],
             [
              0.3764705882352941,
              "rgb(150,27,91)"
             ],
             [
              0.4392156862745098,
              "rgb(177,22,88)"
             ],
             [
              0.5019607843137255,
              "rgb(203,26,79)"
             ],
             [
              0.5647058823529412,
              "rgb(223,47,67)"
             ],
             [
              0.6274509803921569,
              "rgb(236,76,61)"
             ],
             [
              0.6901960784313725,
              "rgb(242,107,73)"
             ],
             [
              0.7529411764705882,
              "rgb(244,135,95)"
             ],
             [
              0.8156862745098039,
              "rgb(245,162,122)"
             ],
             [
              0.8784313725490196,
              "rgb(246,188,153)"
             ],
             [
              0.9411764705882353,
              "rgb(247,212,187)"
             ],
             [
              1,
              "rgb(250,234,220)"
             ]
            ],
            "type": "heatmap"
           }
          ],
          "heatmapgl": [
           {
            "colorbar": {
             "outlinewidth": 0,
             "tickcolor": "rgb(36,36,36)",
             "ticklen": 8,
             "ticks": "outside",
             "tickwidth": 2
            },
            "colorscale": [
             [
              0,
              "rgb(2,4,25)"
             ],
             [
              0.06274509803921569,
              "rgb(24,15,41)"
             ],
             [
              0.12549019607843137,
              "rgb(47,23,57)"
             ],
             [
              0.18823529411764706,
              "rgb(71,28,72)"
             ],
             [
              0.25098039215686274,
              "rgb(97,30,82)"
             ],
             [
              0.3137254901960784,
              "rgb(123,30,89)"
             ],
             [
              0.3764705882352941,
              "rgb(150,27,91)"
             ],
             [
              0.4392156862745098,
              "rgb(177,22,88)"
             ],
             [
              0.5019607843137255,
              "rgb(203,26,79)"
             ],
             [
              0.5647058823529412,
              "rgb(223,47,67)"
             ],
             [
              0.6274509803921569,
              "rgb(236,76,61)"
             ],
             [
              0.6901960784313725,
              "rgb(242,107,73)"
             ],
             [
              0.7529411764705882,
              "rgb(244,135,95)"
             ],
             [
              0.8156862745098039,
              "rgb(245,162,122)"
             ],
             [
              0.8784313725490196,
              "rgb(246,188,153)"
             ],
             [
              0.9411764705882353,
              "rgb(247,212,187)"
             ],
             [
              1,
              "rgb(250,234,220)"
             ]
            ],
            "type": "heatmapgl"
           }
          ],
          "histogram": [
           {
            "marker": {
             "pattern": {
              "fillmode": "overlay",
              "size": 10,
              "solidity": 0.2
             }
            },
            "type": "histogram"
           }
          ],
          "histogram2d": [
           {
            "colorbar": {
             "outlinewidth": 0,
             "tickcolor": "rgb(36,36,36)",
             "ticklen": 8,
             "ticks": "outside",
             "tickwidth": 2
            },
            "colorscale": [
             [
              0,
              "rgb(2,4,25)"
             ],
             [
              0.06274509803921569,
              "rgb(24,15,41)"
             ],
             [
              0.12549019607843137,
              "rgb(47,23,57)"
             ],
             [
              0.18823529411764706,
              "rgb(71,28,72)"
             ],
             [
              0.25098039215686274,
              "rgb(97,30,82)"
             ],
             [
              0.3137254901960784,
              "rgb(123,30,89)"
             ],
             [
              0.3764705882352941,
              "rgb(150,27,91)"
             ],
             [
              0.4392156862745098,
              "rgb(177,22,88)"
             ],
             [
              0.5019607843137255,
              "rgb(203,26,79)"
             ],
             [
              0.5647058823529412,
              "rgb(223,47,67)"
             ],
             [
              0.6274509803921569,
              "rgb(236,76,61)"
             ],
             [
              0.6901960784313725,
              "rgb(242,107,73)"
             ],
             [
              0.7529411764705882,
              "rgb(244,135,95)"
             ],
             [
              0.8156862745098039,
              "rgb(245,162,122)"
             ],
             [
              0.8784313725490196,
              "rgb(246,188,153)"
             ],
             [
              0.9411764705882353,
              "rgb(247,212,187)"
             ],
             [
              1,
              "rgb(250,234,220)"
             ]
            ],
            "type": "histogram2d"
           }
          ],
          "histogram2dcontour": [
           {
            "colorbar": {
             "outlinewidth": 0,
             "tickcolor": "rgb(36,36,36)",
             "ticklen": 8,
             "ticks": "outside",
             "tickwidth": 2
            },
            "colorscale": [
             [
              0,
              "rgb(2,4,25)"
             ],
             [
              0.06274509803921569,
              "rgb(24,15,41)"
             ],
             [
              0.12549019607843137,
              "rgb(47,23,57)"
             ],
             [
              0.18823529411764706,
              "rgb(71,28,72)"
             ],
             [
              0.25098039215686274,
              "rgb(97,30,82)"
             ],
             [
              0.3137254901960784,
              "rgb(123,30,89)"
             ],
             [
              0.3764705882352941,
              "rgb(150,27,91)"
             ],
             [
              0.4392156862745098,
              "rgb(177,22,88)"
             ],
             [
              0.5019607843137255,
              "rgb(203,26,79)"
             ],
             [
              0.5647058823529412,
              "rgb(223,47,67)"
             ],
             [
              0.6274509803921569,
              "rgb(236,76,61)"
             ],
             [
              0.6901960784313725,
              "rgb(242,107,73)"
             ],
             [
              0.7529411764705882,
              "rgb(244,135,95)"
             ],
             [
              0.8156862745098039,
              "rgb(245,162,122)"
             ],
             [
              0.8784313725490196,
              "rgb(246,188,153)"
             ],
             [
              0.9411764705882353,
              "rgb(247,212,187)"
             ],
             [
              1,
              "rgb(250,234,220)"
             ]
            ],
            "type": "histogram2dcontour"
           }
          ],
          "mesh3d": [
           {
            "colorbar": {
             "outlinewidth": 0,
             "tickcolor": "rgb(36,36,36)",
             "ticklen": 8,
             "ticks": "outside",
             "tickwidth": 2
            },
            "type": "mesh3d"
           }
          ],
          "parcoords": [
           {
            "line": {
             "colorbar": {
              "outlinewidth": 0,
              "tickcolor": "rgb(36,36,36)",
              "ticklen": 8,
              "ticks": "outside",
              "tickwidth": 2
             }
            },
            "type": "parcoords"
           }
          ],
          "pie": [
           {
            "automargin": true,
            "type": "pie"
           }
          ],
          "scatter": [
           {
            "marker": {
             "colorbar": {
              "outlinewidth": 0,
              "tickcolor": "rgb(36,36,36)",
              "ticklen": 8,
              "ticks": "outside",
              "tickwidth": 2
             }
            },
            "type": "scatter"
           }
          ],
          "scatter3d": [
           {
            "line": {
             "colorbar": {
              "outlinewidth": 0,
              "tickcolor": "rgb(36,36,36)",
              "ticklen": 8,
              "ticks": "outside",
              "tickwidth": 2
             }
            },
            "marker": {
             "colorbar": {
              "outlinewidth": 0,
              "tickcolor": "rgb(36,36,36)",
              "ticklen": 8,
              "ticks": "outside",
              "tickwidth": 2
             }
            },
            "type": "scatter3d"
           }
          ],
          "scattercarpet": [
           {
            "marker": {
             "colorbar": {
              "outlinewidth": 0,
              "tickcolor": "rgb(36,36,36)",
              "ticklen": 8,
              "ticks": "outside",
              "tickwidth": 2
             }
            },
            "type": "scattercarpet"
           }
          ],
          "scattergeo": [
           {
            "marker": {
             "colorbar": {
              "outlinewidth": 0,
              "tickcolor": "rgb(36,36,36)",
              "ticklen": 8,
              "ticks": "outside",
              "tickwidth": 2
             }
            },
            "type": "scattergeo"
           }
          ],
          "scattergl": [
           {
            "marker": {
             "colorbar": {
              "outlinewidth": 0,
              "tickcolor": "rgb(36,36,36)",
              "ticklen": 8,
              "ticks": "outside",
              "tickwidth": 2
             }
            },
            "type": "scattergl"
           }
          ],
          "scattermapbox": [
           {
            "marker": {
             "colorbar": {
              "outlinewidth": 0,
              "tickcolor": "rgb(36,36,36)",
              "ticklen": 8,
              "ticks": "outside",
              "tickwidth": 2
             }
            },
            "type": "scattermapbox"
           }
          ],
          "scatterpolar": [
           {
            "marker": {
             "colorbar": {
              "outlinewidth": 0,
              "tickcolor": "rgb(36,36,36)",
              "ticklen": 8,
              "ticks": "outside",
              "tickwidth": 2
             }
            },
            "type": "scatterpolar"
           }
          ],
          "scatterpolargl": [
           {
            "marker": {
             "colorbar": {
              "outlinewidth": 0,
              "tickcolor": "rgb(36,36,36)",
              "ticklen": 8,
              "ticks": "outside",
              "tickwidth": 2
             }
            },
            "type": "scatterpolargl"
           }
          ],
          "scatterternary": [
           {
            "marker": {
             "colorbar": {
              "outlinewidth": 0,
              "tickcolor": "rgb(36,36,36)",
              "ticklen": 8,
              "ticks": "outside",
              "tickwidth": 2
             }
            },
            "type": "scatterternary"
           }
          ],
          "surface": [
           {
            "colorbar": {
             "outlinewidth": 0,
             "tickcolor": "rgb(36,36,36)",
             "ticklen": 8,
             "ticks": "outside",
             "tickwidth": 2
            },
            "colorscale": [
             [
              0,
              "rgb(2,4,25)"
             ],
             [
              0.06274509803921569,
              "rgb(24,15,41)"
             ],
             [
              0.12549019607843137,
              "rgb(47,23,57)"
             ],
             [
              0.18823529411764706,
              "rgb(71,28,72)"
             ],
             [
              0.25098039215686274,
              "rgb(97,30,82)"
             ],
             [
              0.3137254901960784,
              "rgb(123,30,89)"
             ],
             [
              0.3764705882352941,
              "rgb(150,27,91)"
             ],
             [
              0.4392156862745098,
              "rgb(177,22,88)"
             ],
             [
              0.5019607843137255,
              "rgb(203,26,79)"
             ],
             [
              0.5647058823529412,
              "rgb(223,47,67)"
             ],
             [
              0.6274509803921569,
              "rgb(236,76,61)"
             ],
             [
              0.6901960784313725,
              "rgb(242,107,73)"
             ],
             [
              0.7529411764705882,
              "rgb(244,135,95)"
             ],
             [
              0.8156862745098039,
              "rgb(245,162,122)"
             ],
             [
              0.8784313725490196,
              "rgb(246,188,153)"
             ],
             [
              0.9411764705882353,
              "rgb(247,212,187)"
             ],
             [
              1,
              "rgb(250,234,220)"
             ]
            ],
            "type": "surface"
           }
          ],
          "table": [
           {
            "cells": {
             "fill": {
              "color": "rgb(231,231,240)"
             },
             "line": {
              "color": "white"
             }
            },
            "header": {
             "fill": {
              "color": "rgb(183,183,191)"
             },
             "line": {
              "color": "white"
             }
            },
            "type": "table"
           }
          ]
         },
         "layout": {
          "annotationdefaults": {
           "arrowcolor": "rgb(67,103,167)"
          },
          "autotypenumbers": "strict",
          "coloraxis": {
           "colorbar": {
            "outlinewidth": 0,
            "tickcolor": "rgb(36,36,36)",
            "ticklen": 8,
            "ticks": "outside",
            "tickwidth": 2
           }
          },
          "colorscale": {
           "sequential": [
            [
             0,
             "rgb(2,4,25)"
            ],
            [
             0.06274509803921569,
             "rgb(24,15,41)"
            ],
            [
             0.12549019607843137,
             "rgb(47,23,57)"
            ],
            [
             0.18823529411764706,
             "rgb(71,28,72)"
            ],
            [
             0.25098039215686274,
             "rgb(97,30,82)"
            ],
            [
             0.3137254901960784,
             "rgb(123,30,89)"
            ],
            [
             0.3764705882352941,
             "rgb(150,27,91)"
            ],
            [
             0.4392156862745098,
             "rgb(177,22,88)"
            ],
            [
             0.5019607843137255,
             "rgb(203,26,79)"
            ],
            [
             0.5647058823529412,
             "rgb(223,47,67)"
            ],
            [
             0.6274509803921569,
             "rgb(236,76,61)"
            ],
            [
             0.6901960784313725,
             "rgb(242,107,73)"
            ],
            [
             0.7529411764705882,
             "rgb(244,135,95)"
            ],
            [
             0.8156862745098039,
             "rgb(245,162,122)"
            ],
            [
             0.8784313725490196,
             "rgb(246,188,153)"
            ],
            [
             0.9411764705882353,
             "rgb(247,212,187)"
            ],
            [
             1,
             "rgb(250,234,220)"
            ]
           ],
           "sequentialminus": [
            [
             0,
             "rgb(2,4,25)"
            ],
            [
             0.06274509803921569,
             "rgb(24,15,41)"
            ],
            [
             0.12549019607843137,
             "rgb(47,23,57)"
            ],
            [
             0.18823529411764706,
             "rgb(71,28,72)"
            ],
            [
             0.25098039215686274,
             "rgb(97,30,82)"
            ],
            [
             0.3137254901960784,
             "rgb(123,30,89)"
            ],
            [
             0.3764705882352941,
             "rgb(150,27,91)"
            ],
            [
             0.4392156862745098,
             "rgb(177,22,88)"
            ],
            [
             0.5019607843137255,
             "rgb(203,26,79)"
            ],
            [
             0.5647058823529412,
             "rgb(223,47,67)"
            ],
            [
             0.6274509803921569,
             "rgb(236,76,61)"
            ],
            [
             0.6901960784313725,
             "rgb(242,107,73)"
            ],
            [
             0.7529411764705882,
             "rgb(244,135,95)"
            ],
            [
             0.8156862745098039,
             "rgb(245,162,122)"
            ],
            [
             0.8784313725490196,
             "rgb(246,188,153)"
            ],
            [
             0.9411764705882353,
             "rgb(247,212,187)"
            ],
            [
             1,
             "rgb(250,234,220)"
            ]
           ]
          },
          "colorway": [
           "rgb(76,114,176)",
           "rgb(221,132,82)",
           "rgb(85,168,104)",
           "rgb(196,78,82)",
           "rgb(129,114,179)",
           "rgb(147,120,96)",
           "rgb(218,139,195)",
           "rgb(140,140,140)",
           "rgb(204,185,116)",
           "rgb(100,181,205)"
          ],
          "font": {
           "color": "rgb(36,36,36)"
          },
          "geo": {
           "bgcolor": "white",
           "lakecolor": "white",
           "landcolor": "rgb(234,234,242)",
           "showlakes": true,
           "showland": true,
           "subunitcolor": "white"
          },
          "hoverlabel": {
           "align": "left"
          },
          "hovermode": "closest",
          "paper_bgcolor": "white",
          "plot_bgcolor": "rgb(234,234,242)",
          "polar": {
           "angularaxis": {
            "gridcolor": "white",
            "linecolor": "white",
            "showgrid": true,
            "ticks": ""
           },
           "bgcolor": "rgb(234,234,242)",
           "radialaxis": {
            "gridcolor": "white",
            "linecolor": "white",
            "showgrid": true,
            "ticks": ""
           }
          },
          "scene": {
           "xaxis": {
            "backgroundcolor": "rgb(234,234,242)",
            "gridcolor": "white",
            "gridwidth": 2,
            "linecolor": "white",
            "showbackground": true,
            "showgrid": true,
            "ticks": "",
            "zerolinecolor": "white"
           },
           "yaxis": {
            "backgroundcolor": "rgb(234,234,242)",
            "gridcolor": "white",
            "gridwidth": 2,
            "linecolor": "white",
            "showbackground": true,
            "showgrid": true,
            "ticks": "",
            "zerolinecolor": "white"
           },
           "zaxis": {
            "backgroundcolor": "rgb(234,234,242)",
            "gridcolor": "white",
            "gridwidth": 2,
            "linecolor": "white",
            "showbackground": true,
            "showgrid": true,
            "ticks": "",
            "zerolinecolor": "white"
           }
          },
          "shapedefaults": {
           "fillcolor": "rgb(67,103,167)",
           "line": {
            "width": 0
           },
           "opacity": 0.5
          },
          "ternary": {
           "aaxis": {
            "gridcolor": "white",
            "linecolor": "white",
            "showgrid": true,
            "ticks": ""
           },
           "baxis": {
            "gridcolor": "white",
            "linecolor": "white",
            "showgrid": true,
            "ticks": ""
           },
           "bgcolor": "rgb(234,234,242)",
           "caxis": {
            "gridcolor": "white",
            "linecolor": "white",
            "showgrid": true,
            "ticks": ""
           }
          },
          "xaxis": {
           "automargin": true,
           "gridcolor": "white",
           "linecolor": "white",
           "showgrid": true,
           "ticks": "",
           "title": {
            "standoff": 15
           },
           "zerolinecolor": "white"
          },
          "yaxis": {
           "automargin": true,
           "gridcolor": "white",
           "linecolor": "white",
           "showgrid": true,
           "ticks": "",
           "title": {
            "standoff": 15
           },
           "zerolinecolor": "white"
          }
         }
        },
        "xaxis": {
         "anchor": "y",
         "domain": [
          0,
          1
         ],
         "type": "linear"
        },
        "yaxis": {
         "anchor": "x",
         "domain": [
          0,
          1
         ],
         "title": {
          "text": "worker_id"
         }
        }
       }
      }
     },
     "metadata": {},
     "output_type": "display_data"
    }
   ],
   "source": [
    "fig_gantt, df_gantt = make_gantt(prev_obs)\n",
    "fig_gantt.show()"
   ]
  },
  {
   "cell_type": "code",
   "execution_count": null,
   "id": "66a4187f",
   "metadata": {},
   "outputs": [],
   "source": []
  }
 ],
 "metadata": {
  "kernelspec": {
   "display_name": "Python 3 (ipykernel)",
   "language": "python",
   "name": "python3"
  },
  "language_info": {
   "codemirror_mode": {
    "name": "ipython",
    "version": 3
   },
   "file_extension": ".py",
   "mimetype": "text/x-python",
   "name": "python",
   "nbconvert_exporter": "python",
   "pygments_lexer": "ipython3",
   "version": "3.9.10"
  }
 },
 "nbformat": 4,
 "nbformat_minor": 5
}
