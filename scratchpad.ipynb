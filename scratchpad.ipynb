{
 "cells": [
  {
   "cell_type": "code",
   "execution_count": 1,
   "id": "45823af5",
   "metadata": {},
   "outputs": [
    {
     "name": "stderr",
     "output_type": "stream",
     "text": [
      "\n"
     ]
    }
   ],
   "source": [
    "import sys\n",
    "sys.path.append('./gym_dagsched')\n",
    "sys.path.append('./gym_dagsched/envs')\n",
    "from copy import copy\n",
    "\n",
    "import gym\n",
    "import numpy as np\n",
    "from dataclasses import asdict\n",
    "\n",
    "import gym_dagsched.envs\n",
    "from gym_dagsched.args import args\n",
    "from visualization import make_gantt\n",
    "\n",
    "env = gym.make('dagsched-v0')"
   ]
  },
  {
   "cell_type": "code",
   "execution_count": 2,
   "id": "12acd29d",
   "metadata": {},
   "outputs": [
    {
     "name": "stdout",
     "output_type": "stream",
     "text": [
      "frontier is empty\n",
      "\n",
      "invalid action\n",
      "1.5010389131832902: job arrival\n",
      "n_workers=2\n",
      "\n",
      "1.501038908958435: nudge\n",
      "n_workers=2\n",
      "\n",
      "10.36647968711929: job arrival\n",
      "n_workers=1\n",
      "\n",
      "14.911957634185566: job arrival\n",
      "no available workers\n",
      "\n",
      "invalid action\n",
      "22.110366821289062: task completion (0,7,0)\n",
      "n_workers=1\n",
      "\n",
      "22.110366821289062: task completion (0,7,1)\n",
      "n_workers=1\n",
      "\n",
      "29.96817398071289: task completion (0,6,0)\n",
      "n_workers=1\n",
      "\n",
      "29.96817398071289: task completion (0,6,1)\n",
      "stage completion\n",
      "n_workers=1\n",
      "\n",
      "31.309568405151367: task completion (1,7,0)\n",
      "n_workers=1\n",
      "\n",
      "49.29997253417969: task completion (1,6,0)\n",
      "n_workers=1\n",
      "\n",
      "50.6413688659668: task completion (1,6,1)\n",
      "n_workers=1\n",
      "\n",
      "50.91126251220703: task completion (1,7,1)\n",
      "stage completion\n",
      "n_workers=0\n",
      "\n",
      "invalid action\n",
      "52.298944002668065: job arrival\n",
      "n_workers=1\n",
      "\n",
      "54.13291931152344: task completion (2,0,0)\n",
      "stage completion\n",
      "n_workers=1\n",
      "\n",
      "60.234249114990234: task completion (2,1,0)\n",
      "stage completion\n",
      "job completion\n",
      "n_workers=1\n",
      "\n",
      "67.18500104847375: job arrival\n",
      "no available workers\n",
      "\n",
      "invalid action\n",
      "68.63177490234375: task completion (1,6,2)\n",
      "stage completion\n",
      "n_workers=1\n",
      "\n",
      "70.73326110839844: task completion (1,4,0)\n",
      "n_workers=1\n",
      "\n",
      "76.8345947265625: task completion (1,4,1)\n",
      "n_workers=1\n",
      "\n",
      "77.4785042907564: job arrival\n",
      "no available workers\n",
      "\n",
      "invalid action\n",
      "83.74038696289062: task completion (3,3,0)\n",
      "stage completion\n",
      "n_workers=1\n",
      "\n",
      "89.96149069057266: job arrival\n",
      "no available workers\n",
      "\n",
      "invalid action\n",
      "91.71882625100676: job arrival\n",
      "no available workers\n",
      "\n",
      "invalid action\n",
      "95.75044250488281: task completion (0,2,0)\n",
      "stage completion\n",
      "n_workers=1\n",
      "\n",
      "99.12554168701172: task completion (4,3,0)\n",
      "n_workers=1\n",
      "\n",
      "103.77413177490234: task completion (5,1,0)\n",
      "n_workers=1\n",
      "\n",
      "105.22687530517578: task completion (4,3,1)\n",
      "n_workers=1\n",
      "\n",
      "105.5645980834961: task completion (1,3,0)\n",
      "n_workers=1\n",
      "\n",
      "123.93659973144531: task completion (6,2,0)\n",
      "n_workers=1\n",
      "\n",
      "130.19187927246094: task completion (6,5,0)\n",
      "n_workers=1\n",
      "\n",
      "135.0400390625: task completion (7,6,0)\n",
      "n_workers=1\n",
      "\n",
      "138.21556091308594: task completion (6,5,1)\n",
      "stage completion\n",
      "n_workers=1\n",
      "\n",
      "141.14137268066406: task completion (7,6,1)\n",
      "n_workers=1\n",
      "\n",
      "141.93814725958862: job arrival\n",
      "no available workers\n",
      "\n",
      "invalid action\n",
      "142.30859375: task completion (6,2,1)\n",
      "stage completion\n",
      "n_workers=1\n",
      "\n",
      "150.22561645507812: task completion (5,1,1)\n",
      "stage completion\n",
      "n_workers=1\n",
      "\n",
      "156.62044679456: job arrival\n",
      "no available workers\n",
      "\n",
      "invalid action\n",
      "165.94741821289062: task completion (3,2,0)\n",
      "n_workers=1\n",
      "\n",
      "169.80528259277344: task completion (7,5,0)\n",
      "n_workers=1\n",
      "\n",
      "170.18630981445312: task completion (5,0,0)\n",
      "n_workers=1\n",
      "\n",
      "170.95452880859375: task completion (7,6,2)\n",
      "stage completion\n",
      "n_workers=1\n",
      "\n",
      "184.75448608398438: task completion (8,7,0)\n",
      "stage completion\n",
      "n_workers=1\n",
      "\n",
      "196.04742431640625: task completion (9,5,0)\n",
      "n_workers=1\n",
      "\n",
      "198.4691925048828: task completion (7,5,1)\n",
      "n_workers=1\n",
      "\n",
      "199.61843872070312: task completion (7,5,2)\n",
      "n_workers=1\n",
      "\n",
      "200.28631591796875: task completion (9,5,1)\n",
      "n_workers=1\n",
      "\n",
      "209.75352478027344: task completion (8,6,0)\n",
      "stage completion\n",
      "n_workers=1\n",
      "\n",
      "214.8544921875: task completion (9,5,2)\n",
      "stage completion\n",
      "n_workers=1\n",
      "\n",
      "216.00811767578125: task completion (5,0,1)\n",
      "stage completion\n",
      "job completion\n",
      "n_workers=1\n",
      "\n",
      "228.0181884765625: task completion (3,2,1)\n",
      "stage completion\n",
      "n_workers=1\n",
      "\n",
      "228.25161743164062: task completion (8,5,0)\n",
      "n_workers=1\n",
      "\n",
      "238.38668823242188: task completion (8,5,1)\n",
      "n_workers=1\n",
      "\n",
      "240.8328094482422: task completion (8,2,0)\n",
      "n_workers=0\n",
      "\n",
      "invalid action\n",
      "241.98643493652344: task completion (8,2,1)\n",
      "stage completion\n",
      "n_workers=0\n",
      "\n",
      "invalid action\n",
      "264.9510192871094: task completion (1,3,1)\n",
      "stage completion\n",
      "n_workers=0\n",
      "\n",
      "invalid action\n",
      "266.34515380859375: task completion (9,4,0)\n",
      "n_workers=1\n",
      "\n",
      "276.480224609375: task completion (9,4,1)\n",
      "stage completion\n",
      "n_workers=2\n",
      "\n",
      "294.97833251953125: task completion (8,5,2)\n",
      "stage completion\n",
      "n_workers=2\n",
      "\n",
      "306.921875: task completion (8,4,0)\n",
      "n_workers=1\n",
      "\n",
      "306.921875: task completion (8,4,1)\n",
      "stage completion\n",
      "n_workers=2\n",
      "\n",
      "311.8827209472656: task completion (9,3,0)\n",
      "n_workers=1\n",
      "\n",
      "311.8827209472656: task completion (9,3,1)\n",
      "stage completion\n",
      "n_workers=1\n",
      "\n",
      "335.5857849121094: task completion (7,5,3)\n",
      "stage completion\n",
      "n_workers=1\n",
      "\n",
      "339.76177978515625: task completion (9,2,0)\n",
      "n_workers=1\n",
      "\n",
      "340.7696838378906: task completion (8,3,0)\n",
      "n_workers=1\n",
      "\n",
      "342.0998229980469: task completion (8,0,0)\n",
      "n_workers=1\n",
      "\n",
      "342.0998229980469: task completion (8,0,1)\n",
      "n_workers=1\n",
      "\n",
      "355.0046081542969: task completion (7,4,0)\n",
      "stage completion\n",
      "n_workers=1\n",
      "\n",
      "363.46484375: task completion (9,2,1)\n",
      "n_workers=1\n",
      "\n",
      "367.6408386230469: task completion (9,2,2)\n",
      "n_workers=1\n",
      "\n",
      "368.41766357421875: task completion (7,3,0)\n",
      "n_workers=1\n",
      "\n",
      "368.64874267578125: task completion (9,2,3)\n",
      "stage completion\n",
      "n_workers=1\n",
      "\n",
      "377.27777099609375: task completion (8,0,2)\n",
      "stage completion\n",
      "n_workers=1\n",
      "\n",
      "381.05389404296875: task completion (7,3,1)\n",
      "stage completion\n",
      "n_workers=1\n",
      "\n",
      "390.7098693847656: task completion (9,1,0)\n",
      "n_workers=1\n",
      "\n",
      "395.8937683105469: task completion (9,1,1)\n",
      "n_workers=1\n",
      "\n",
      "415.70819091796875: task completion (7,1,0)\n",
      "n_workers=1\n",
      "\n",
      "417.95489501953125: task completion (9,1,2)\n",
      "stage completion\n",
      "n_workers=1\n",
      "\n",
      "423.0276184082031: task completion (7,2,0)\n",
      "n_workers=1\n",
      "\n",
      "424.56829833984375: task completion (7,1,1)\n",
      "stage completion\n",
      "n_workers=1\n",
      "\n",
      "424.7807312011719: task completion (8,3,1)\n",
      "stage completion\n",
      "n_workers=1\n",
      "\n",
      "457.6819152832031: task completion (7,2,1)\n",
      "n_workers=1\n",
      "\n",
      "460.231689453125: task completion (6,7,0)\n",
      "n_workers=1\n",
      "\n",
      "462.3372802734375: task completion (9,0,0)\n",
      "n_workers=1\n",
      "\n",
      "466.5420227050781: task completion (7,2,2)\n",
      "stage completion\n",
      "n_workers=1\n",
      "\n",
      "467.40997314453125: task completion (9,0,1)\n",
      "stage completion\n",
      "job completion\n",
      "n_workers=0\n",
      "\n",
      "invalid action\n",
      "477.1153869628906: task completion (8,1,0)\n",
      "n_workers=0\n",
      "\n",
      "invalid action\n",
      "485.9754943847656: task completion (8,1,1)\n",
      "stage completion\n",
      "job completion\n",
      "n_workers=0\n",
      "\n",
      "invalid action\n",
      "488.32257080078125: task completion (6,4,0)\n",
      "stage completion\n",
      "n_workers=1\n",
      "\n",
      "495.6826477050781: task completion (6,7,1)\n",
      "stage completion\n",
      "n_workers=1\n",
      "\n",
      "495.6826477050781: nudge\n",
      "n_workers=2\n",
      "\n",
      "504.02838134765625: task completion (7,0,0)\n",
      "n_workers=1\n",
      "\n",
      "511.3884582519531: task completion (7,0,1)\n",
      "stage completion\n",
      "job completion\n",
      "n_workers=1\n",
      "\n",
      "532.420654296875: task completion (4,3,2)\n",
      "n_workers=1\n",
      "\n",
      "534.307373046875: task completion (6,6,0)\n",
      "n_workers=0\n",
      "\n",
      "534.307373046875: task completion (6,6,1)\n",
      "stage completion\n",
      "n_workers=3\n",
      "\n",
      "539.78076171875: task completion (4,3,3)\n",
      "stage completion\n",
      "n_workers=1\n",
      "\n",
      "541.3567504882812: task completion (6,3,0)\n",
      "n_workers=1\n",
      "\n",
      "541.3567504882812: task completion (6,3,1)\n",
      "n_workers=1\n",
      "\n",
      "541.3567504882812: task completion (6,3,2)\n",
      "n_workers=1\n",
      "\n",
      "548.4061279296875: task completion (6,3,3)\n",
      "stage completion\n",
      "n_workers=1\n",
      "\n",
      "566.7955322265625: task completion (3,1,0)\n",
      "n_workers=1\n",
      "\n",
      "572.9232177734375: task completion (4,2,0)\n",
      "n_workers=1\n",
      "\n",
      "574.4991455078125: task completion (4,2,1)\n",
      "n_workers=0\n",
      "\n",
      "invalid action\n",
      "574.4991455078125: task completion (4,2,2)\n",
      "stage completion\n",
      "n_workers=0\n",
      "\n",
      "invalid action\n",
      "575.5476684570312: task completion (6,1,0)\n",
      "n_workers=0\n",
      "\n",
      "invalid action\n",
      "593.9370727539062: task completion (6,1,1)\n",
      "n_workers=1\n",
      "\n",
      "600.0647583007812: task completion (6,1,2)\n",
      "stage completion\n",
      "n_workers=1\n",
      "\n",
      "620.5130615234375: task completion (6,0,0)\n",
      "n_workers=1\n",
      "\n",
      "626.6407470703125: task completion (6,0,1)\n",
      "stage completion\n",
      "job completion\n",
      "n_workers=1\n",
      "\n",
      "648.5306396484375: task completion (4,1,0)\n",
      "n_workers=1\n",
      "\n",
      "654.6583251953125: task completion (4,1,1)\n",
      "n_workers=1\n",
      "\n",
      "676.5482177734375: task completion (4,1,2)\n",
      "n_workers=1\n",
      "\n",
      "682.6759033203125: task completion (4,1,3)\n",
      "stage completion\n",
      "n_workers=4\n",
      "\n",
      "694.9993896484375: task completion (4,0,0)\n",
      "n_workers=1\n",
      "\n",
      "694.9993896484375: task completion (4,0,1)\n",
      "n_workers=0\n",
      "\n",
      "694.9993896484375: task completion (4,0,2)\n",
      "n_workers=0\n",
      "\n",
      "694.9993896484375: task completion (4,0,3)\n",
      "stage completion\n",
      "job completion\n",
      "n_workers=0\n",
      "\n",
      "710.923095703125: task completion (3,1,1)\n",
      "stage completion\n",
      "n_workers=1\n",
      "\n",
      "716.852783203125: task completion (3,0,0)\n",
      "n_workers=1\n",
      "\n",
      "732.7764892578125: task completion (3,0,1)\n",
      "n_workers=1\n",
      "\n",
      "738.7061767578125: task completion (3,0,2)\n",
      "n_workers=1\n",
      "\n",
      "754.6298828125: task completion (3,0,3)\n",
      "stage completion\n",
      "job completion\n",
      "n_workers=1\n",
      "\n",
      "772.4573974609375: task completion (1,5,0)\n",
      "n_workers=1\n",
      "\n",
      "788.381103515625: task completion (1,5,1)\n",
      "stage completion\n",
      "n_workers=1\n",
      "\n",
      "789.0577392578125: task completion (1,4,2)\n",
      "n_workers=1\n",
      "\n",
      "804.9814453125: task completion (1,4,3)\n",
      "stage completion\n",
      "n_workers=2\n",
      "\n",
      "809.6670532226562: task completion (0,7,2)\n",
      "stage completion\n",
      "n_workers=1\n",
      "\n",
      "809.6670532226562: nudge\n",
      "n_workers=2\n",
      "\n",
      "826.6014404296875: task completion (0,4,0)\n",
      "n_workers=1\n",
      "\n",
      "826.6014404296875: task completion (0,4,1)\n",
      "n_workers=1\n",
      "\n",
      "843.5358276367188: task completion (0,4,2)\n",
      "frontier is empty\n",
      "\n",
      "invalid action\n",
      "843.5358276367188: task completion (0,4,3)\n",
      "stage completion\n",
      "frontier is empty\n",
      "\n",
      "invalid action\n",
      "845.1846313476562: task completion (0,5,0)\n",
      "stage completion\n",
      "n_workers=1\n",
      "\n",
      "846.2055053710938: task completion (1,2,0)\n",
      "n_workers=1\n",
      "\n",
      "846.2055053710938: task completion (1,2,1)\n",
      "stage completion\n",
      "n_workers=2\n",
      "\n",
      "846.2055053710938: nudge\n",
      "n_workers=1\n",
      "\n",
      "868.5466918945312: task completion (0,3,0)\n",
      "n_workers=1\n",
      "\n",
      "869.5675659179688: task completion (0,3,1)\n",
      "n_workers=1\n",
      "\n",
      "871.3274536132812: task completion (1,1,0)\n",
      "frontier is empty\n",
      "\n",
      "invalid action\n",
      "871.3274536132812: task completion (1,1,1)\n",
      "stage completion\n",
      "frontier is empty\n",
      "\n",
      "invalid action\n",
      "876.901123046875: task completion (1,0,0)\n",
      "stage completion\n",
      "job completion\n",
      "frontier is empty\n",
      "\n",
      "invalid action\n",
      "891.9087524414062: task completion (0,3,2)\n",
      "frontier is empty\n",
      "\n",
      "invalid action\n",
      "892.9296264648438: task completion (0,3,3)\n",
      "stage completion\n",
      "n_workers=4\n",
      "\n",
      "918.1015014648438: task completion (0,1,0)\n",
      "frontier is empty\n",
      "\n",
      "invalid action\n",
      "918.1015014648438: task completion (0,1,1)\n",
      "frontier is empty\n",
      "\n",
      "invalid action\n",
      "918.1015014648438: task completion (0,1,2)\n",
      "frontier is empty\n",
      "\n",
      "invalid action\n",
      "918.1015014648438: task completion (0,1,3)\n",
      "stage completion\n",
      "n_workers=2\n",
      "\n",
      "946.868896484375: task completion (0,0,0)\n",
      "frontier is empty\n",
      "\n",
      "invalid action\n",
      "946.868896484375: task completion (0,0,1)\n",
      "stage completion\n",
      "job completion\n",
      "frontier is empty\n",
      "\n",
      "invalid action\n",
      "all jobs completed!\n"
     ]
    }
   ],
   "source": [
    "obs = env.reset()\n",
    "done = False\n",
    "\n",
    "while not done:    \n",
    "    frontier_stages = obs.get_frontier_stages()\n",
    "    avail_workers = obs.find_available_workers()\n",
    "    \n",
    "    if len(avail_workers) == 0 or len(frontier_stages) == 0:\n",
    "        if len(avail_workers) == 0:\n",
    "            print('no available workers')\n",
    "        else:\n",
    "            print('frontier is empty')\n",
    "        action = {\n",
    "            'job_id': args.n_jobs,\n",
    "            'stage_id': args.max_stages,\n",
    "            'worker_type_counts': np.zeros(args.n_worker_types)\n",
    "        }\n",
    "    else:\n",
    "        for stage in frontier_stages:\n",
    "            for worker in avail_workers:\n",
    "                if worker.compatible_with(stage):\n",
    "                    first_stage = stage\n",
    "        \n",
    "        stage_id = first_stage.id_\n",
    "        job_id = first_stage.job_id\n",
    "        \n",
    "        avail_counts = obs.get_avail_worker_counts(args.n_worker_types)\n",
    "        \n",
    "        stage = obs.jobs[job_id].stages[stage_id]\n",
    "        worker_types = stage.compatible_worker_types()\n",
    "        \n",
    "        n_workers = 0\n",
    "        worker_type_counts = np.zeros(args.n_worker_types, dtype=int)\n",
    "        for worker_type in worker_types:\n",
    "            if n_workers == stage.n_remaining_tasks:\n",
    "                break\n",
    "            avail_count = avail_counts[worker_type]\n",
    "            request_count = int(min(stage.n_remaining_tasks - n_workers, avail_count))\n",
    "            worker_type_counts[worker_type] = request_count\n",
    "            n_workers += request_count\n",
    "        \n",
    "        print(f'n_workers={n_workers}')\n",
    "\n",
    "        action = {\n",
    "            'job_id': job_id,\n",
    "            'stage_id': stage_id,\n",
    "            'worker_type_counts': worker_type_counts\n",
    "        }\n",
    "    \n",
    "    print()\n",
    "    prev_obs = copy(obs)\n",
    "    obs, _, done, _ = env.step(action)"
   ]
  },
  {
   "cell_type": "code",
   "execution_count": 12,
   "id": "43cd15d3",
   "metadata": {},
   "outputs": [
    {
     "data": {
      "text/plain": [
       "True"
      ]
     },
     "execution_count": 12,
     "metadata": {},
     "output_type": "execute_result"
    }
   ],
   "source": [
    "env.observation_space.contains(asdict(prev_obs))"
   ]
  },
  {
   "cell_type": "code",
   "execution_count": 10,
   "id": "c85e653e",
   "metadata": {},
   "outputs": [
    {
     "data": {
      "application/vnd.plotly.v1+json": {
       "config": {
        "plotlyServerURL": "https://plot.ly"
       },
       "data": [
        {
         "alignmentgroup": "True",
         "base": [
          34.14570617675781,
          611.9290771484375,
          485.9048156738281,
          489.480712890625,
          540.4855346679688,
          576.1513671875,
          34.14570617675781,
          34.14570617675781,
          3.1333553791046143,
          3.1333553791046143,
          3.1333553791046143,
          3.1333553791046143
         ],
         "hovertemplate": "job_id=0<br>t_accepted=%{base}<br>t_completed=%{x}<br>worker_id=%{y}<extra></extra>",
         "legendgroup": "0",
         "marker": {
          "color": "rgb(76,114,176)"
         },
         "name": "0",
         "offsetgroup": "0",
         "orientation": "h",
         "showlegend": true,
         "textposition": "auto",
         "type": "bar",
         "width": 0.7,
         "x": [
          34.21797180175781,
          17.32275390625,
          35.777740478515625,
          35.7777099609375,
          35.7777099609375,
          35.7777099609375,
          38.27345275878906,
          38.27345275878906,
          31.01235008239746,
          31.01235008239746,
          31.01235008239746,
          31.01235008239746
         ],
         "xaxis": "x",
         "y": [
          "0",
          "0",
          "4",
          "2",
          "4",
          "0",
          "2",
          "4",
          "2",
          "4",
          "0",
          "1"
         ],
         "yaxis": "y"
        },
        {
         "alignmentgroup": "True",
         "base": [
          546.8435668945312,
          562.923583984375,
          582.3577880859375,
          678.1471557617188,
          678.1471557617188,
          640.060791015625,
          640.060791015625,
          640.060791015625,
          606.4300537109375,
          606.4300537109375,
          544.0614013671875,
          544.967041015625,
          575.2457275390625,
          538.594970703125,
          521.6825561523438,
          525.2584228515625,
          531.0840454101562,
          534.659912109375,
          37.06773376464844,
          37.06773376464844,
          478.4927062988281,
          486.7413330078125
         ],
         "hovertemplate": "job_id=1<br>t_accepted=%{base}<br>t_completed=%{x}<br>worker_id=%{y}<extra></extra>",
         "legendgroup": "1",
         "marker": {
          "color": "rgb(221,132,82)"
         },
         "name": "1",
         "offsetgroup": "1",
         "orientation": "h",
         "showlegend": true,
         "textposition": "auto",
         "type": "bar",
         "width": 0.7,
         "x": [
          35.51422119140625,
          35.51416015625,
          35.51416015625,
          45.2188720703125,
          45.2188720703125,
          38.08636474609375,
          38.08636474609375,
          38.08636474609375,
          33.6307373046875,
          33.6307373046875,
          31.184326171875,
          31.184326171875,
          31.184326171875,
          24.32861328125,
          9.4014892578125,
          9.4014892578125,
          9.4014892578125,
          9.4014892578125,
          34.60382080078125,
          34.60382080078125,
          34.603851318359375,
          34.60382080078125
         ],
         "xaxis": "x",
         "y": [
          "1",
          "3",
          "1",
          "0",
          "2",
          "2",
          "4",
          "0",
          "2",
          "4",
          "2",
          "0",
          "2",
          "3",
          "4",
          "2",
          "4",
          "2",
          "3",
          "1",
          "3",
          "1"
         ],
         "yaxis": "y"
        },
        {
         "alignmentgroup": "True",
         "base": [
          493.97021484375,
          513.0965576171875,
          519.4686279296875,
          521.3451538085938,
          456.54730224609375,
          461.03680419921875,
          436.9974365234375,
          444.4095458984375,
          445.2460632324219
         ],
         "hovertemplate": "job_id=2<br>t_accepted=%{base}<br>t_completed=%{x}<br>worker_id=%{y}<extra></extra>",
         "legendgroup": "2",
         "marker": {
          "color": "rgb(85,168,104)"
         },
         "name": "2",
         "offsetgroup": "2",
         "orientation": "h",
         "showlegend": true,
         "textposition": "auto",
         "type": "bar",
         "width": 0.7,
         "x": [
          25.4984130859375,
          25.4984130859375,
          25.4984130859375,
          25.4984130859375,
          32.93341064453125,
          32.93341064453125,
          41.495269775390625,
          41.495269775390625,
          41.495269775390625
         ],
         "xaxis": "x",
         "y": [
          "0",
          "3",
          "0",
          "1",
          "2",
          "0",
          "3",
          "4",
          "1"
         ],
         "yaxis": "y"
        },
        {
         "alignmentgroup": "True",
         "base": [
          398.6413269042969,
          411.42669677734375,
          424.2120666503906,
          432.460693359375,
          409.30059814453125,
          418.54144287109375,
          430.67919921875,
          435.168701171875
         ],
         "hovertemplate": "job_id=3<br>t_accepted=%{base}<br>t_completed=%{x}<br>worker_id=%{y}<extra></extra>",
         "legendgroup": "3",
         "marker": {
          "color": "rgb(196,78,82)"
         },
         "name": "3",
         "offsetgroup": "3",
         "orientation": "h",
         "showlegend": true,
         "textposition": "auto",
         "type": "bar",
         "width": 0.7,
         "x": [
          12.785369873046875,
          12.785369873046875,
          12.785369873046875,
          12.785369873046875,
          25.86810302734375,
          25.86810302734375,
          25.86810302734375,
          25.86810302734375
         ],
         "xaxis": "x",
         "y": [
          "3",
          "3",
          "3",
          "1",
          "0",
          "4",
          "2",
          "0"
         ],
         "yaxis": "y"
        },
        {
         "alignmentgroup": "True",
         "base": [
          395.7838439941406,
          318.0342102050781,
          320.8916931152344,
          356.9090270996094,
          359.7665100097656,
          71.67155456542969,
          71.67155456542969
         ],
         "hovertemplate": "job_id=4<br>t_accepted=%{base}<br>t_completed=%{x}<br>worker_id=%{y}<extra></extra>",
         "legendgroup": "4",
         "marker": {
          "color": "rgb(129,114,179)"
         },
         "name": "4",
         "offsetgroup": "4",
         "orientation": "h",
         "showlegend": true,
         "textposition": "auto",
         "type": "bar",
         "width": 0.7,
         "x": [
          36.676849365234375,
          38.87481689453125,
          38.87481689453125,
          38.87481689453125,
          38.87481689453125,
          30.220474243164062,
          30.220474243164062
         ],
         "xaxis": "x",
         "y": [
          "1",
          "1",
          "3",
          "1",
          "3",
          "3",
          "1"
         ],
         "yaxis": "y"
        },
        {
         "alignmentgroup": "True",
         "base": [
          319.1878967285156,
          324.5966796875,
          356.75958251953125,
          368.8973388671875,
          267.05084228515625,
          267.4189758300781,
          68.36367797851562,
          72.41915893554688,
          72.41915893554688
         ],
         "hovertemplate": "job_id=5<br>t_accepted=%{base}<br>t_completed=%{x}<br>worker_id=%{y}<extra></extra>",
         "legendgroup": "5",
         "marker": {
          "color": "rgb(147,120,96)"
         },
         "name": "5",
         "offsetgroup": "5",
         "orientation": "h",
         "showlegend": true,
         "textposition": "auto",
         "type": "bar",
         "width": 0.7,
         "x": [
          32.16290283203125,
          32.16290283203125,
          32.16290283203125,
          32.16290283203125,
          13.43048095703125,
          13.43048095703125,
          40.7109375,
          40.7109375,
          40.7109375
         ],
         "xaxis": "x",
         "y": [
          "0",
          "4",
          "4",
          "2",
          "4",
          "2",
          "0",
          "2",
          "4"
         ],
         "yaxis": "y"
        },
        {
         "alignmentgroup": "True",
         "base": [
          379.681640625,
          388.9224853515625,
          401.06024169921875,
          340.5664978027344,
          351.3507995605469,
          302.9071350097656,
          264.7378234863281,
          266.0543518066406
         ],
         "hovertemplate": "job_id=6<br>t_accepted=%{base}<br>t_completed=%{x}<br>worker_id=%{y}<extra></extra>",
         "legendgroup": "6",
         "marker": {
          "color": "rgb(218,139,195)"
         },
         "name": "6",
         "offsetgroup": "6",
         "orientation": "h",
         "showlegend": true,
         "textposition": "auto",
         "type": "bar",
         "width": 0.7,
         "x": [
          29.61895751953125,
          29.61895751953125,
          29.61895751953125,
          28.330841064453125,
          28.330841064453125,
          37.65936279296875,
          31.07586669921875,
          31.07586669921875
         ],
         "xaxis": "x",
         "y": [
          "0",
          "4",
          "2",
          "2",
          "0",
          "2",
          "1",
          "0"
         ],
         "yaxis": "y"
        },
        {
         "alignmentgroup": "True",
         "base": [
          280.4813232421875,
          280.8494567871094,
          297.1302185058594,
          302.53900146484375,
          276.4506530761719,
          295.8136901855469,
          298.6711730957031,
          241.03224182128906,
          250.43206787109375,
          190.4530792236328,
          204.81396484375,
          228.51953125,
          229.8360595703125,
          226.67135620117188,
          184.58224487304688,
          206.49478149414062,
          206.55088806152344,
          228.4634246826172,
          101.89202880859375,
          126.02136993408203,
          160.45289611816406,
          182.36544799804688
         ],
         "hovertemplate": "job_id=7<br>t_accepted=%{base}<br>t_completed=%{x}<br>worker_id=%{y}<extra></extra>",
         "legendgroup": "7",
         "marker": {
          "color": "rgb(140,140,140)"
         },
         "name": "7",
         "offsetgroup": "7",
         "orientation": "h",
         "showlegend": true,
         "textposition": "auto",
         "type": "bar",
         "width": 0.7,
         "x": [
          22.05767822265625,
          22.05767822265625,
          22.05767822265625,
          22.05767822265625,
          22.22052001953125,
          22.22052001953125,
          22.22052001953125,
          26.018600463867188,
          26.018585205078125,
          36.21827697753906,
          36.21827697753906,
          36.218292236328125,
          36.218292236328125,
          40.74761962890625,
          21.968643188476562,
          21.968643188476562,
          21.968643188476562,
          21.968643188476562,
          24.12934112548828,
          24.12934112548828,
          24.129348754882812,
          24.12933349609375
         ],
         "xaxis": "x",
         "y": [
          "4",
          "2",
          "0",
          "4",
          "3",
          "1",
          "3",
          "4",
          "3",
          "2",
          "4",
          "1",
          "0",
          "2",
          "1",
          "3",
          "1",
          "3",
          "1",
          "1",
          "1",
          "3"
         ],
         "yaxis": "y"
        },
        {
         "alignmentgroup": "True",
         "base": [
          149.62815856933594,
          163.98904418945312,
          189.01113891601562,
          113.13009643554688,
          138.2501983642578,
          138.5595703125
         ],
         "hovertemplate": "job_id=8<br>t_accepted=%{base}<br>t_completed=%{x}<br>worker_id=%{y}<extra></extra>",
         "legendgroup": "8",
         "marker": {
          "color": "rgb(204,185,116)"
         },
         "name": "8",
         "offsetgroup": "8",
         "orientation": "h",
         "showlegend": true,
         "textposition": "auto",
         "type": "bar",
         "width": 0.7,
         "x": [
          40.824920654296875,
          40.824920654296875,
          40.824920654296875,
          25.429473876953125,
          25.429473876953125,
          25.429473876953125
         ],
         "xaxis": "x",
         "y": [
          "2",
          "4",
          "0",
          "4",
          "0",
          "4"
         ],
         "yaxis": "y"
        },
        {
         "alignmentgroup": "True",
         "base": [
          163.67967224121094,
          161.42269897460938,
          156.69400024414062,
          146.39181518554688,
          150.1507110595703,
          101.89202880859375,
          142.30567932128906,
          109.07461547851562,
          113.13009643554688
         ],
         "hovertemplate": "job_id=9<br>t_accepted=%{base}<br>t_completed=%{x}<br>worker_id=%{y}<extra></extra>",
         "legendgroup": "9",
         "marker": {
          "color": "rgb(100,181,205)"
         },
         "name": "9",
         "offsetgroup": "9",
         "orientation": "h",
         "showlegend": true,
         "textposition": "auto",
         "type": "bar",
         "width": 0.7,
         "x": [
          25.331466674804688,
          20.9427490234375,
          4.72869873046875,
          10.30218505859375,
          10.30218505859375,
          44.499786376953125,
          7.322479248046875,
          29.175582885742188,
          29.175582885742188
         ],
         "xaxis": "x",
         "y": [
          "0",
          "3",
          "3",
          "3",
          "1",
          "3",
          "2",
          "0",
          "2"
         ],
         "yaxis": "y"
        }
       ],
       "layout": {
        "annotations": [
         {
          "font": {
           "color": "white",
           "size": 8
          },
          "showarrow": false,
          "text": "0",
          "x": 51.25469207763672,
          "y": "0"
         },
         {
          "font": {
           "color": "white",
           "size": 8
          },
          "showarrow": false,
          "text": "1",
          "x": 620.5904541015625,
          "y": "0"
         },
         {
          "font": {
           "color": "white",
           "size": 8
          },
          "showarrow": false,
          "text": "2",
          "x": 503.793701171875,
          "y": "4"
         },
         {
          "font": {
           "color": "white",
           "size": 8
          },
          "showarrow": false,
          "text": "2",
          "x": 507.36956787109375,
          "y": "2"
         },
         {
          "font": {
           "color": "white",
           "size": 8
          },
          "showarrow": false,
          "text": "2",
          "x": 558.3743896484375,
          "y": "4"
         },
         {
          "font": {
           "color": "white",
           "size": 8
          },
          "showarrow": false,
          "text": "2",
          "x": 594.0402221679688,
          "y": "0"
         },
         {
          "font": {
           "color": "white",
           "size": 8
          },
          "showarrow": false,
          "text": "3",
          "x": 53.282432556152344,
          "y": "2"
         },
         {
          "font": {
           "color": "white",
           "size": 8
          },
          "showarrow": false,
          "text": "3",
          "x": 53.282432556152344,
          "y": "4"
         },
         {
          "font": {
           "color": "white",
           "size": 8
          },
          "showarrow": false,
          "text": "4",
          "x": 18.639530181884766,
          "y": "2"
         },
         {
          "font": {
           "color": "white",
           "size": 8
          },
          "showarrow": false,
          "text": "4",
          "x": 18.639530181884766,
          "y": "4"
         },
         {
          "font": {
           "color": "white",
           "size": 8
          },
          "showarrow": false,
          "text": "4",
          "x": 18.639530181884766,
          "y": "0"
         },
         {
          "font": {
           "color": "white",
           "size": 8
          },
          "showarrow": false,
          "text": "4",
          "x": 18.639530181884766,
          "y": "1"
         },
         {
          "font": {
           "color": "white",
           "size": 8
          },
          "showarrow": false,
          "text": "0",
          "x": 564.6007080078125,
          "y": "1"
         },
         {
          "font": {
           "color": "white",
           "size": 8
          },
          "showarrow": false,
          "text": "0",
          "x": 580.6806640625,
          "y": "3"
         },
         {
          "font": {
           "color": "white",
           "size": 8
          },
          "showarrow": false,
          "text": "0",
          "x": 600.1148681640625,
          "y": "1"
         },
         {
          "font": {
           "color": "white",
           "size": 8
          },
          "showarrow": false,
          "text": "1",
          "x": 700.756591796875,
          "y": "0"
         },
         {
          "font": {
           "color": "white",
           "size": 8
          },
          "showarrow": false,
          "text": "1",
          "x": 700.756591796875,
          "y": "2"
         },
         {
          "font": {
           "color": "white",
           "size": 8
          },
          "showarrow": false,
          "text": "2",
          "x": 659.10400390625,
          "y": "2"
         },
         {
          "font": {
           "color": "white",
           "size": 8
          },
          "showarrow": false,
          "text": "2",
          "x": 659.10400390625,
          "y": "4"
         },
         {
          "font": {
           "color": "white",
           "size": 8
          },
          "showarrow": false,
          "text": "2",
          "x": 659.10400390625,
          "y": "0"
         },
         {
          "font": {
           "color": "white",
           "size": 8
          },
          "showarrow": false,
          "text": "3",
          "x": 623.2454223632812,
          "y": "2"
         },
         {
          "font": {
           "color": "white",
           "size": 8
          },
          "showarrow": false,
          "text": "3",
          "x": 623.2454223632812,
          "y": "4"
         },
         {
          "font": {
           "color": "white",
           "size": 8
          },
          "showarrow": false,
          "text": "4",
          "x": 559.653564453125,
          "y": "2"
         },
         {
          "font": {
           "color": "white",
           "size": 8
          },
          "showarrow": false,
          "text": "4",
          "x": 560.5592041015625,
          "y": "0"
         },
         {
          "font": {
           "color": "white",
           "size": 8
          },
          "showarrow": false,
          "text": "4",
          "x": 590.837890625,
          "y": "2"
         },
         {
          "font": {
           "color": "white",
           "size": 8
          },
          "showarrow": false,
          "text": "5",
          "x": 550.75927734375,
          "y": "3"
         },
         {
          "font": {
           "color": "white",
           "size": 8
          },
          "showarrow": false,
          "text": "6",
          "x": 526.38330078125,
          "y": "4"
         },
         {
          "font": {
           "color": "white",
           "size": 8
          },
          "showarrow": false,
          "text": "6",
          "x": 529.9591674804688,
          "y": "2"
         },
         {
          "font": {
           "color": "white",
           "size": 8
          },
          "showarrow": false,
          "text": "6",
          "x": 535.7847900390625,
          "y": "4"
         },
         {
          "font": {
           "color": "white",
           "size": 8
          },
          "showarrow": false,
          "text": "6",
          "x": 539.3606567382812,
          "y": "2"
         },
         {
          "font": {
           "color": "white",
           "size": 8
          },
          "showarrow": false,
          "text": "7",
          "x": 54.36964416503906,
          "y": "3"
         },
         {
          "font": {
           "color": "white",
           "size": 8
          },
          "showarrow": false,
          "text": "7",
          "x": 54.36964416503906,
          "y": "1"
         },
         {
          "font": {
           "color": "white",
           "size": 8
          },
          "showarrow": false,
          "text": "7",
          "x": 495.79461669921875,
          "y": "3"
         },
         {
          "font": {
           "color": "white",
           "size": 8
          },
          "showarrow": false,
          "text": "7",
          "x": 504.0432434082031,
          "y": "1"
         },
         {
          "font": {
           "color": "white",
           "size": 8
          },
          "showarrow": false,
          "text": "0",
          "x": 506.71942138671875,
          "y": "0"
         },
         {
          "font": {
           "color": "white",
           "size": 8
          },
          "showarrow": false,
          "text": "0",
          "x": 525.8457641601562,
          "y": "3"
         },
         {
          "font": {
           "color": "white",
           "size": 8
          },
          "showarrow": false,
          "text": "0",
          "x": 532.2178344726562,
          "y": "0"
         },
         {
          "font": {
           "color": "white",
           "size": 8
          },
          "showarrow": false,
          "text": "0",
          "x": 534.0943603515625,
          "y": "1"
         },
         {
          "font": {
           "color": "white",
           "size": 8
          },
          "showarrow": false,
          "text": "1",
          "x": 473.0140075683594,
          "y": "2"
         },
         {
          "font": {
           "color": "white",
           "size": 8
          },
          "showarrow": false,
          "text": "1",
          "x": 477.5035095214844,
          "y": "0"
         },
         {
          "font": {
           "color": "white",
           "size": 8
          },
          "showarrow": false,
          "text": "2",
          "x": 457.74505615234375,
          "y": "3"
         },
         {
          "font": {
           "color": "white",
           "size": 8
          },
          "showarrow": false,
          "text": "2",
          "x": 465.15716552734375,
          "y": "4"
         },
         {
          "font": {
           "color": "white",
           "size": 8
          },
          "showarrow": false,
          "text": "2",
          "x": 465.99371337890625,
          "y": "1"
         },
         {
          "font": {
           "color": "white",
           "size": 8
          },
          "showarrow": false,
          "text": "0",
          "x": 405.03399658203125,
          "y": "3"
         },
         {
          "font": {
           "color": "white",
           "size": 8
          },
          "showarrow": false,
          "text": "0",
          "x": 417.81939697265625,
          "y": "3"
         },
         {
          "font": {
           "color": "white",
           "size": 8
          },
          "showarrow": false,
          "text": "0",
          "x": 430.604736328125,
          "y": "3"
         },
         {
          "font": {
           "color": "white",
           "size": 8
          },
          "showarrow": false,
          "text": "0",
          "x": 438.8533935546875,
          "y": "1"
         },
         {
          "font": {
           "color": "white",
           "size": 8
          },
          "showarrow": false,
          "text": "1",
          "x": 422.2346496582031,
          "y": "0"
         },
         {
          "font": {
           "color": "white",
           "size": 8
          },
          "showarrow": false,
          "text": "1",
          "x": 431.4754943847656,
          "y": "4"
         },
         {
          "font": {
           "color": "white",
           "size": 8
          },
          "showarrow": false,
          "text": "1",
          "x": 443.6132507324219,
          "y": "2"
         },
         {
          "font": {
           "color": "white",
           "size": 8
          },
          "showarrow": false,
          "text": "1",
          "x": 448.1027526855469,
          "y": "0"
         },
         {
          "font": {
           "color": "white",
           "size": 8
          },
          "showarrow": false,
          "text": "0",
          "x": 414.12225341796875,
          "y": "1"
         },
         {
          "font": {
           "color": "white",
           "size": 8
          },
          "showarrow": false,
          "text": "1",
          "x": 337.47161865234375,
          "y": "1"
         },
         {
          "font": {
           "color": "white",
           "size": 8
          },
          "showarrow": false,
          "text": "1",
          "x": 340.3291015625,
          "y": "3"
         },
         {
          "font": {
           "color": "white",
           "size": 8
          },
          "showarrow": false,
          "text": "1",
          "x": 376.346435546875,
          "y": "1"
         },
         {
          "font": {
           "color": "white",
           "size": 8
          },
          "showarrow": false,
          "text": "1",
          "x": 379.20391845703125,
          "y": "3"
         },
         {
          "font": {
           "color": "white",
           "size": 8
          },
          "showarrow": false,
          "text": "2",
          "x": 86.78179168701172,
          "y": "3"
         },
         {
          "font": {
           "color": "white",
           "size": 8
          },
          "showarrow": false,
          "text": "2",
          "x": 86.78179168701172,
          "y": "1"
         },
         {
          "font": {
           "color": "white",
           "size": 8
          },
          "showarrow": false,
          "text": "0",
          "x": 335.26934814453125,
          "y": "0"
         },
         {
          "font": {
           "color": "white",
           "size": 8
          },
          "showarrow": false,
          "text": "0",
          "x": 340.6781311035156,
          "y": "4"
         },
         {
          "font": {
           "color": "white",
           "size": 8
          },
          "showarrow": false,
          "text": "0",
          "x": 372.8410339355469,
          "y": "4"
         },
         {
          "font": {
           "color": "white",
           "size": 8
          },
          "showarrow": false,
          "text": "0",
          "x": 384.9787902832031,
          "y": "2"
         },
         {
          "font": {
           "color": "white",
           "size": 8
          },
          "showarrow": false,
          "text": "1",
          "x": 273.7660827636719,
          "y": "4"
         },
         {
          "font": {
           "color": "white",
           "size": 8
          },
          "showarrow": false,
          "text": "1",
          "x": 274.13421630859375,
          "y": "2"
         },
         {
          "font": {
           "color": "white",
           "size": 8
          },
          "showarrow": false,
          "text": "2",
          "x": 88.71914672851562,
          "y": "0"
         },
         {
          "font": {
           "color": "white",
           "size": 8
          },
          "showarrow": false,
          "text": "2",
          "x": 92.77462768554688,
          "y": "2"
         },
         {
          "font": {
           "color": "white",
           "size": 8
          },
          "showarrow": false,
          "text": "2",
          "x": 92.77462768554688,
          "y": "4"
         },
         {
          "font": {
           "color": "white",
           "size": 8
          },
          "showarrow": false,
          "text": "0",
          "x": 394.4911193847656,
          "y": "0"
         },
         {
          "font": {
           "color": "white",
           "size": 8
          },
          "showarrow": false,
          "text": "0",
          "x": 403.7319641113281,
          "y": "4"
         },
         {
          "font": {
           "color": "white",
           "size": 8
          },
          "showarrow": false,
          "text": "0",
          "x": 415.8697204589844,
          "y": "2"
         },
         {
          "font": {
           "color": "white",
           "size": 8
          },
          "showarrow": false,
          "text": "1",
          "x": 354.73193359375,
          "y": "2"
         },
         {
          "font": {
           "color": "white",
           "size": 8
          },
          "showarrow": false,
          "text": "1",
          "x": 365.5162353515625,
          "y": "0"
         },
         {
          "font": {
           "color": "white",
           "size": 8
          },
          "showarrow": false,
          "text": "2",
          "x": 321.73681640625,
          "y": "2"
         },
         {
          "font": {
           "color": "white",
           "size": 8
          },
          "showarrow": false,
          "text": "3",
          "x": 280.2757568359375,
          "y": "1"
         },
         {
          "font": {
           "color": "white",
           "size": 8
          },
          "showarrow": false,
          "text": "3",
          "x": 281.59228515625,
          "y": "0"
         },
         {
          "font": {
           "color": "white",
           "size": 8
          },
          "showarrow": false,
          "text": "0",
          "x": 291.5101623535156,
          "y": "4"
         },
         {
          "font": {
           "color": "white",
           "size": 8
          },
          "showarrow": false,
          "text": "0",
          "x": 291.8782958984375,
          "y": "2"
         },
         {
          "font": {
           "color": "white",
           "size": 8
          },
          "showarrow": false,
          "text": "0",
          "x": 308.1590576171875,
          "y": "0"
         },
         {
          "font": {
           "color": "white",
           "size": 8
          },
          "showarrow": false,
          "text": "0",
          "x": 313.5678405761719,
          "y": "4"
         },
         {
          "font": {
           "color": "white",
           "size": 8
          },
          "showarrow": false,
          "text": "1",
          "x": 287.5609130859375,
          "y": "3"
         },
         {
          "font": {
           "color": "white",
           "size": 8
          },
          "showarrow": false,
          "text": "1",
          "x": 306.9239501953125,
          "y": "1"
         },
         {
          "font": {
           "color": "white",
           "size": 8
          },
          "showarrow": false,
          "text": "1",
          "x": 309.78143310546875,
          "y": "3"
         },
         {
          "font": {
           "color": "white",
           "size": 8
          },
          "showarrow": false,
          "text": "2",
          "x": 254.04153442382812,
          "y": "4"
         },
         {
          "font": {
           "color": "white",
           "size": 8
          },
          "showarrow": false,
          "text": "2",
          "x": 263.44134521484375,
          "y": "3"
         },
         {
          "font": {
           "color": "white",
           "size": 8
          },
          "showarrow": false,
          "text": "3",
          "x": 208.56222534179688,
          "y": "2"
         },
         {
          "font": {
           "color": "white",
           "size": 8
          },
          "showarrow": false,
          "text": "3",
          "x": 222.923095703125,
          "y": "4"
         },
         {
          "font": {
           "color": "white",
           "size": 8
          },
          "showarrow": false,
          "text": "3",
          "x": 246.62867736816406,
          "y": "1"
         },
         {
          "font": {
           "color": "white",
           "size": 8
          },
          "showarrow": false,
          "text": "3",
          "x": 247.94520568847656,
          "y": "0"
         },
         {
          "font": {
           "color": "white",
           "size": 8
          },
          "showarrow": false,
          "text": "4",
          "x": 247.045166015625,
          "y": "2"
         },
         {
          "font": {
           "color": "white",
           "size": 8
          },
          "showarrow": false,
          "text": "5",
          "x": 195.56655883789062,
          "y": "1"
         },
         {
          "font": {
           "color": "white",
           "size": 8
          },
          "showarrow": false,
          "text": "5",
          "x": 217.47909545898438,
          "y": "3"
         },
         {
          "font": {
           "color": "white",
           "size": 8
          },
          "showarrow": false,
          "text": "5",
          "x": 217.53521728515625,
          "y": "1"
         },
         {
          "font": {
           "color": "white",
           "size": 8
          },
          "showarrow": false,
          "text": "5",
          "x": 239.44775390625,
          "y": "3"
         },
         {
          "font": {
           "color": "white",
           "size": 8
          },
          "showarrow": false,
          "text": "6",
          "x": 113.95669555664062,
          "y": "1"
         },
         {
          "font": {
           "color": "white",
           "size": 8
          },
          "showarrow": false,
          "text": "6",
          "x": 138.08604431152344,
          "y": "1"
         },
         {
          "font": {
           "color": "white",
           "size": 8
          },
          "showarrow": false,
          "text": "6",
          "x": 172.517578125,
          "y": "1"
         },
         {
          "font": {
           "color": "white",
           "size": 8
          },
          "showarrow": false,
          "text": "6",
          "x": 194.43011474609375,
          "y": "3"
         },
         {
          "font": {
           "color": "white",
           "size": 8
          },
          "showarrow": false,
          "text": "0",
          "x": 170.04061889648438,
          "y": "2"
         },
         {
          "font": {
           "color": "white",
           "size": 8
          },
          "showarrow": false,
          "text": "0",
          "x": 184.40150451660156,
          "y": "4"
         },
         {
          "font": {
           "color": "white",
           "size": 8
          },
          "showarrow": false,
          "text": "0",
          "x": 209.42359924316406,
          "y": "0"
         },
         {
          "font": {
           "color": "white",
           "size": 8
          },
          "showarrow": false,
          "text": "1",
          "x": 125.84483337402344,
          "y": "4"
         },
         {
          "font": {
           "color": "white",
           "size": 8
          },
          "showarrow": false,
          "text": "1",
          "x": 150.96493530273438,
          "y": "0"
         },
         {
          "font": {
           "color": "white",
           "size": 8
          },
          "showarrow": false,
          "text": "1",
          "x": 151.27430725097656,
          "y": "4"
         },
         {
          "font": {
           "color": "white",
           "size": 8
          },
          "showarrow": false,
          "text": "0",
          "x": 176.34539794921875,
          "y": "0"
         },
         {
          "font": {
           "color": "white",
           "size": 8
          },
          "showarrow": false,
          "text": "1",
          "x": 171.89407348632812,
          "y": "3"
         },
         {
          "font": {
           "color": "white",
           "size": 8
          },
          "showarrow": false,
          "text": "2",
          "x": 159.058349609375,
          "y": "3"
         },
         {
          "font": {
           "color": "white",
           "size": 8
          },
          "showarrow": false,
          "text": "3",
          "x": 151.54290771484375,
          "y": "3"
         },
         {
          "font": {
           "color": "white",
           "size": 8
          },
          "showarrow": false,
          "text": "3",
          "x": 155.3018035888672,
          "y": "1"
         },
         {
          "font": {
           "color": "white",
           "size": 8
          },
          "showarrow": false,
          "text": "4",
          "x": 124.14192199707031,
          "y": "3"
         },
         {
          "font": {
           "color": "white",
           "size": 8
          },
          "showarrow": false,
          "text": "5",
          "x": 145.9669189453125,
          "y": "2"
         },
         {
          "font": {
           "color": "white",
           "size": 8
          },
          "showarrow": false,
          "text": "6",
          "x": 123.66240692138672,
          "y": "0"
         },
         {
          "font": {
           "color": "white",
           "size": 8
          },
          "showarrow": false,
          "text": "6",
          "x": 127.71788787841797,
          "y": "2"
         }
        ],
        "barmode": "overlay",
        "legend": {
         "title": {
          "text": "job_id"
         },
         "tracegroupgap": 0
        },
        "margin": {
         "t": 60
        },
        "shapes": [
         {
          "line": {
           "color": "green",
           "width": 2
          },
          "type": "line",
          "x0": 629.2518310546875,
          "x1": 629.2518310546875,
          "xref": "x",
          "y0": 0,
          "y1": 1,
          "yref": "y domain"
         },
         {
          "line": {
           "color": "green",
           "width": 2
          },
          "type": "line",
          "x0": 723.3660278320312,
          "x1": 723.3660278320312,
          "xref": "x",
          "y0": 0,
          "y1": 1,
          "yref": "y domain"
         },
         {
          "line": {
           "color": "green",
           "width": 2
          },
          "type": "line",
          "x0": 546.8435668945312,
          "x1": 546.8435668945312,
          "xref": "x",
          "y0": 0,
          "y1": 1,
          "yref": "y domain"
         },
         {
          "line": {
           "color": "green",
           "width": 2
          },
          "type": "line",
          "x0": 461.03680419921875,
          "x1": 461.03680419921875,
          "xref": "x",
          "y0": 0,
          "y1": 1,
          "yref": "y domain"
         },
         {
          "line": {
           "color": "green",
           "width": 2
          },
          "type": "line",
          "x0": 432.460693359375,
          "x1": 432.460693359375,
          "xref": "x",
          "y0": 0,
          "y1": 1,
          "yref": "y domain"
         },
         {
          "line": {
           "color": "green",
           "width": 2
          },
          "type": "line",
          "x0": 401.06024169921875,
          "x1": 401.06024169921875,
          "xref": "x",
          "y0": 0,
          "y1": 1,
          "yref": "y domain"
         },
         {
          "line": {
           "color": "green",
           "width": 2
          },
          "type": "line",
          "x0": 430.67919921875,
          "x1": 430.67919921875,
          "xref": "x",
          "y0": 0,
          "y1": 1,
          "yref": "y domain"
         },
         {
          "line": {
           "color": "green",
           "width": 2
          },
          "type": "line",
          "x0": 324.5966796875,
          "x1": 324.5966796875,
          "xref": "x",
          "y0": 0,
          "y1": 1,
          "yref": "y domain"
         },
         {
          "line": {
           "color": "green",
           "width": 2
          },
          "type": "line",
          "x0": 229.8360595703125,
          "x1": 229.8360595703125,
          "xref": "x",
          "y0": 0,
          "y1": 1,
          "yref": "y domain"
         },
         {
          "line": {
           "color": "green",
           "width": 2
          },
          "type": "line",
          "x0": 189.01113891601562,
          "x1": 189.01113891601562,
          "xref": "x",
          "y0": 0,
          "y1": 1,
          "yref": "y domain"
         }
        ],
        "template": {
         "data": {
          "bar": [
           {
            "error_x": {
             "color": "rgb(36,36,36)"
            },
            "error_y": {
             "color": "rgb(36,36,36)"
            },
            "marker": {
             "line": {
              "color": "rgb(234,234,242)",
              "width": 0.5
             },
             "pattern": {
              "fillmode": "overlay",
              "size": 10,
              "solidity": 0.2
             }
            },
            "type": "bar"
           }
          ],
          "barpolar": [
           {
            "marker": {
             "line": {
              "color": "rgb(234,234,242)",
              "width": 0.5
             },
             "pattern": {
              "fillmode": "overlay",
              "size": 10,
              "solidity": 0.2
             }
            },
            "type": "barpolar"
           }
          ],
          "carpet": [
           {
            "aaxis": {
             "endlinecolor": "rgb(36,36,36)",
             "gridcolor": "white",
             "linecolor": "white",
             "minorgridcolor": "white",
             "startlinecolor": "rgb(36,36,36)"
            },
            "baxis": {
             "endlinecolor": "rgb(36,36,36)",
             "gridcolor": "white",
             "linecolor": "white",
             "minorgridcolor": "white",
             "startlinecolor": "rgb(36,36,36)"
            },
            "type": "carpet"
           }
          ],
          "choropleth": [
           {
            "colorbar": {
             "outlinewidth": 0,
             "tickcolor": "rgb(36,36,36)",
             "ticklen": 8,
             "ticks": "outside",
             "tickwidth": 2
            },
            "type": "choropleth"
           }
          ],
          "contour": [
           {
            "colorbar": {
             "outlinewidth": 0,
             "tickcolor": "rgb(36,36,36)",
             "ticklen": 8,
             "ticks": "outside",
             "tickwidth": 2
            },
            "colorscale": [
             [
              0,
              "rgb(2,4,25)"
             ],
             [
              0.06274509803921569,
              "rgb(24,15,41)"
             ],
             [
              0.12549019607843137,
              "rgb(47,23,57)"
             ],
             [
              0.18823529411764706,
              "rgb(71,28,72)"
             ],
             [
              0.25098039215686274,
              "rgb(97,30,82)"
             ],
             [
              0.3137254901960784,
              "rgb(123,30,89)"
             ],
             [
              0.3764705882352941,
              "rgb(150,27,91)"
             ],
             [
              0.4392156862745098,
              "rgb(177,22,88)"
             ],
             [
              0.5019607843137255,
              "rgb(203,26,79)"
             ],
             [
              0.5647058823529412,
              "rgb(223,47,67)"
             ],
             [
              0.6274509803921569,
              "rgb(236,76,61)"
             ],
             [
              0.6901960784313725,
              "rgb(242,107,73)"
             ],
             [
              0.7529411764705882,
              "rgb(244,135,95)"
             ],
             [
              0.8156862745098039,
              "rgb(245,162,122)"
             ],
             [
              0.8784313725490196,
              "rgb(246,188,153)"
             ],
             [
              0.9411764705882353,
              "rgb(247,212,187)"
             ],
             [
              1,
              "rgb(250,234,220)"
             ]
            ],
            "type": "contour"
           }
          ],
          "contourcarpet": [
           {
            "colorbar": {
             "outlinewidth": 0,
             "tickcolor": "rgb(36,36,36)",
             "ticklen": 8,
             "ticks": "outside",
             "tickwidth": 2
            },
            "type": "contourcarpet"
           }
          ],
          "heatmap": [
           {
            "colorbar": {
             "outlinewidth": 0,
             "tickcolor": "rgb(36,36,36)",
             "ticklen": 8,
             "ticks": "outside",
             "tickwidth": 2
            },
            "colorscale": [
             [
              0,
              "rgb(2,4,25)"
             ],
             [
              0.06274509803921569,
              "rgb(24,15,41)"
             ],
             [
              0.12549019607843137,
              "rgb(47,23,57)"
             ],
             [
              0.18823529411764706,
              "rgb(71,28,72)"
             ],
             [
              0.25098039215686274,
              "rgb(97,30,82)"
             ],
             [
              0.3137254901960784,
              "rgb(123,30,89)"
             ],
             [
              0.3764705882352941,
              "rgb(150,27,91)"
             ],
             [
              0.4392156862745098,
              "rgb(177,22,88)"
             ],
             [
              0.5019607843137255,
              "rgb(203,26,79)"
             ],
             [
              0.5647058823529412,
              "rgb(223,47,67)"
             ],
             [
              0.6274509803921569,
              "rgb(236,76,61)"
             ],
             [
              0.6901960784313725,
              "rgb(242,107,73)"
             ],
             [
              0.7529411764705882,
              "rgb(244,135,95)"
             ],
             [
              0.8156862745098039,
              "rgb(245,162,122)"
             ],
             [
              0.8784313725490196,
              "rgb(246,188,153)"
             ],
             [
              0.9411764705882353,
              "rgb(247,212,187)"
             ],
             [
              1,
              "rgb(250,234,220)"
             ]
            ],
            "type": "heatmap"
           }
          ],
          "heatmapgl": [
           {
            "colorbar": {
             "outlinewidth": 0,
             "tickcolor": "rgb(36,36,36)",
             "ticklen": 8,
             "ticks": "outside",
             "tickwidth": 2
            },
            "colorscale": [
             [
              0,
              "rgb(2,4,25)"
             ],
             [
              0.06274509803921569,
              "rgb(24,15,41)"
             ],
             [
              0.12549019607843137,
              "rgb(47,23,57)"
             ],
             [
              0.18823529411764706,
              "rgb(71,28,72)"
             ],
             [
              0.25098039215686274,
              "rgb(97,30,82)"
             ],
             [
              0.3137254901960784,
              "rgb(123,30,89)"
             ],
             [
              0.3764705882352941,
              "rgb(150,27,91)"
             ],
             [
              0.4392156862745098,
              "rgb(177,22,88)"
             ],
             [
              0.5019607843137255,
              "rgb(203,26,79)"
             ],
             [
              0.5647058823529412,
              "rgb(223,47,67)"
             ],
             [
              0.6274509803921569,
              "rgb(236,76,61)"
             ],
             [
              0.6901960784313725,
              "rgb(242,107,73)"
             ],
             [
              0.7529411764705882,
              "rgb(244,135,95)"
             ],
             [
              0.8156862745098039,
              "rgb(245,162,122)"
             ],
             [
              0.8784313725490196,
              "rgb(246,188,153)"
             ],
             [
              0.9411764705882353,
              "rgb(247,212,187)"
             ],
             [
              1,
              "rgb(250,234,220)"
             ]
            ],
            "type": "heatmapgl"
           }
          ],
          "histogram": [
           {
            "marker": {
             "pattern": {
              "fillmode": "overlay",
              "size": 10,
              "solidity": 0.2
             }
            },
            "type": "histogram"
           }
          ],
          "histogram2d": [
           {
            "colorbar": {
             "outlinewidth": 0,
             "tickcolor": "rgb(36,36,36)",
             "ticklen": 8,
             "ticks": "outside",
             "tickwidth": 2
            },
            "colorscale": [
             [
              0,
              "rgb(2,4,25)"
             ],
             [
              0.06274509803921569,
              "rgb(24,15,41)"
             ],
             [
              0.12549019607843137,
              "rgb(47,23,57)"
             ],
             [
              0.18823529411764706,
              "rgb(71,28,72)"
             ],
             [
              0.25098039215686274,
              "rgb(97,30,82)"
             ],
             [
              0.3137254901960784,
              "rgb(123,30,89)"
             ],
             [
              0.3764705882352941,
              "rgb(150,27,91)"
             ],
             [
              0.4392156862745098,
              "rgb(177,22,88)"
             ],
             [
              0.5019607843137255,
              "rgb(203,26,79)"
             ],
             [
              0.5647058823529412,
              "rgb(223,47,67)"
             ],
             [
              0.6274509803921569,
              "rgb(236,76,61)"
             ],
             [
              0.6901960784313725,
              "rgb(242,107,73)"
             ],
             [
              0.7529411764705882,
              "rgb(244,135,95)"
             ],
             [
              0.8156862745098039,
              "rgb(245,162,122)"
             ],
             [
              0.8784313725490196,
              "rgb(246,188,153)"
             ],
             [
              0.9411764705882353,
              "rgb(247,212,187)"
             ],
             [
              1,
              "rgb(250,234,220)"
             ]
            ],
            "type": "histogram2d"
           }
          ],
          "histogram2dcontour": [
           {
            "colorbar": {
             "outlinewidth": 0,
             "tickcolor": "rgb(36,36,36)",
             "ticklen": 8,
             "ticks": "outside",
             "tickwidth": 2
            },
            "colorscale": [
             [
              0,
              "rgb(2,4,25)"
             ],
             [
              0.06274509803921569,
              "rgb(24,15,41)"
             ],
             [
              0.12549019607843137,
              "rgb(47,23,57)"
             ],
             [
              0.18823529411764706,
              "rgb(71,28,72)"
             ],
             [
              0.25098039215686274,
              "rgb(97,30,82)"
             ],
             [
              0.3137254901960784,
              "rgb(123,30,89)"
             ],
             [
              0.3764705882352941,
              "rgb(150,27,91)"
             ],
             [
              0.4392156862745098,
              "rgb(177,22,88)"
             ],
             [
              0.5019607843137255,
              "rgb(203,26,79)"
             ],
             [
              0.5647058823529412,
              "rgb(223,47,67)"
             ],
             [
              0.6274509803921569,
              "rgb(236,76,61)"
             ],
             [
              0.6901960784313725,
              "rgb(242,107,73)"
             ],
             [
              0.7529411764705882,
              "rgb(244,135,95)"
             ],
             [
              0.8156862745098039,
              "rgb(245,162,122)"
             ],
             [
              0.8784313725490196,
              "rgb(246,188,153)"
             ],
             [
              0.9411764705882353,
              "rgb(247,212,187)"
             ],
             [
              1,
              "rgb(250,234,220)"
             ]
            ],
            "type": "histogram2dcontour"
           }
          ],
          "mesh3d": [
           {
            "colorbar": {
             "outlinewidth": 0,
             "tickcolor": "rgb(36,36,36)",
             "ticklen": 8,
             "ticks": "outside",
             "tickwidth": 2
            },
            "type": "mesh3d"
           }
          ],
          "parcoords": [
           {
            "line": {
             "colorbar": {
              "outlinewidth": 0,
              "tickcolor": "rgb(36,36,36)",
              "ticklen": 8,
              "ticks": "outside",
              "tickwidth": 2
             }
            },
            "type": "parcoords"
           }
          ],
          "pie": [
           {
            "automargin": true,
            "type": "pie"
           }
          ],
          "scatter": [
           {
            "marker": {
             "colorbar": {
              "outlinewidth": 0,
              "tickcolor": "rgb(36,36,36)",
              "ticklen": 8,
              "ticks": "outside",
              "tickwidth": 2
             }
            },
            "type": "scatter"
           }
          ],
          "scatter3d": [
           {
            "line": {
             "colorbar": {
              "outlinewidth": 0,
              "tickcolor": "rgb(36,36,36)",
              "ticklen": 8,
              "ticks": "outside",
              "tickwidth": 2
             }
            },
            "marker": {
             "colorbar": {
              "outlinewidth": 0,
              "tickcolor": "rgb(36,36,36)",
              "ticklen": 8,
              "ticks": "outside",
              "tickwidth": 2
             }
            },
            "type": "scatter3d"
           }
          ],
          "scattercarpet": [
           {
            "marker": {
             "colorbar": {
              "outlinewidth": 0,
              "tickcolor": "rgb(36,36,36)",
              "ticklen": 8,
              "ticks": "outside",
              "tickwidth": 2
             }
            },
            "type": "scattercarpet"
           }
          ],
          "scattergeo": [
           {
            "marker": {
             "colorbar": {
              "outlinewidth": 0,
              "tickcolor": "rgb(36,36,36)",
              "ticklen": 8,
              "ticks": "outside",
              "tickwidth": 2
             }
            },
            "type": "scattergeo"
           }
          ],
          "scattergl": [
           {
            "marker": {
             "colorbar": {
              "outlinewidth": 0,
              "tickcolor": "rgb(36,36,36)",
              "ticklen": 8,
              "ticks": "outside",
              "tickwidth": 2
             }
            },
            "type": "scattergl"
           }
          ],
          "scattermapbox": [
           {
            "marker": {
             "colorbar": {
              "outlinewidth": 0,
              "tickcolor": "rgb(36,36,36)",
              "ticklen": 8,
              "ticks": "outside",
              "tickwidth": 2
             }
            },
            "type": "scattermapbox"
           }
          ],
          "scatterpolar": [
           {
            "marker": {
             "colorbar": {
              "outlinewidth": 0,
              "tickcolor": "rgb(36,36,36)",
              "ticklen": 8,
              "ticks": "outside",
              "tickwidth": 2
             }
            },
            "type": "scatterpolar"
           }
          ],
          "scatterpolargl": [
           {
            "marker": {
             "colorbar": {
              "outlinewidth": 0,
              "tickcolor": "rgb(36,36,36)",
              "ticklen": 8,
              "ticks": "outside",
              "tickwidth": 2
             }
            },
            "type": "scatterpolargl"
           }
          ],
          "scatterternary": [
           {
            "marker": {
             "colorbar": {
              "outlinewidth": 0,
              "tickcolor": "rgb(36,36,36)",
              "ticklen": 8,
              "ticks": "outside",
              "tickwidth": 2
             }
            },
            "type": "scatterternary"
           }
          ],
          "surface": [
           {
            "colorbar": {
             "outlinewidth": 0,
             "tickcolor": "rgb(36,36,36)",
             "ticklen": 8,
             "ticks": "outside",
             "tickwidth": 2
            },
            "colorscale": [
             [
              0,
              "rgb(2,4,25)"
             ],
             [
              0.06274509803921569,
              "rgb(24,15,41)"
             ],
             [
              0.12549019607843137,
              "rgb(47,23,57)"
             ],
             [
              0.18823529411764706,
              "rgb(71,28,72)"
             ],
             [
              0.25098039215686274,
              "rgb(97,30,82)"
             ],
             [
              0.3137254901960784,
              "rgb(123,30,89)"
             ],
             [
              0.3764705882352941,
              "rgb(150,27,91)"
             ],
             [
              0.4392156862745098,
              "rgb(177,22,88)"
             ],
             [
              0.5019607843137255,
              "rgb(203,26,79)"
             ],
             [
              0.5647058823529412,
              "rgb(223,47,67)"
             ],
             [
              0.6274509803921569,
              "rgb(236,76,61)"
             ],
             [
              0.6901960784313725,
              "rgb(242,107,73)"
             ],
             [
              0.7529411764705882,
              "rgb(244,135,95)"
             ],
             [
              0.8156862745098039,
              "rgb(245,162,122)"
             ],
             [
              0.8784313725490196,
              "rgb(246,188,153)"
             ],
             [
              0.9411764705882353,
              "rgb(247,212,187)"
             ],
             [
              1,
              "rgb(250,234,220)"
             ]
            ],
            "type": "surface"
           }
          ],
          "table": [
           {
            "cells": {
             "fill": {
              "color": "rgb(231,231,240)"
             },
             "line": {
              "color": "white"
             }
            },
            "header": {
             "fill": {
              "color": "rgb(183,183,191)"
             },
             "line": {
              "color": "white"
             }
            },
            "type": "table"
           }
          ]
         },
         "layout": {
          "annotationdefaults": {
           "arrowcolor": "rgb(67,103,167)"
          },
          "autotypenumbers": "strict",
          "coloraxis": {
           "colorbar": {
            "outlinewidth": 0,
            "tickcolor": "rgb(36,36,36)",
            "ticklen": 8,
            "ticks": "outside",
            "tickwidth": 2
           }
          },
          "colorscale": {
           "sequential": [
            [
             0,
             "rgb(2,4,25)"
            ],
            [
             0.06274509803921569,
             "rgb(24,15,41)"
            ],
            [
             0.12549019607843137,
             "rgb(47,23,57)"
            ],
            [
             0.18823529411764706,
             "rgb(71,28,72)"
            ],
            [
             0.25098039215686274,
             "rgb(97,30,82)"
            ],
            [
             0.3137254901960784,
             "rgb(123,30,89)"
            ],
            [
             0.3764705882352941,
             "rgb(150,27,91)"
            ],
            [
             0.4392156862745098,
             "rgb(177,22,88)"
            ],
            [
             0.5019607843137255,
             "rgb(203,26,79)"
            ],
            [
             0.5647058823529412,
             "rgb(223,47,67)"
            ],
            [
             0.6274509803921569,
             "rgb(236,76,61)"
            ],
            [
             0.6901960784313725,
             "rgb(242,107,73)"
            ],
            [
             0.7529411764705882,
             "rgb(244,135,95)"
            ],
            [
             0.8156862745098039,
             "rgb(245,162,122)"
            ],
            [
             0.8784313725490196,
             "rgb(246,188,153)"
            ],
            [
             0.9411764705882353,
             "rgb(247,212,187)"
            ],
            [
             1,
             "rgb(250,234,220)"
            ]
           ],
           "sequentialminus": [
            [
             0,
             "rgb(2,4,25)"
            ],
            [
             0.06274509803921569,
             "rgb(24,15,41)"
            ],
            [
             0.12549019607843137,
             "rgb(47,23,57)"
            ],
            [
             0.18823529411764706,
             "rgb(71,28,72)"
            ],
            [
             0.25098039215686274,
             "rgb(97,30,82)"
            ],
            [
             0.3137254901960784,
             "rgb(123,30,89)"
            ],
            [
             0.3764705882352941,
             "rgb(150,27,91)"
            ],
            [
             0.4392156862745098,
             "rgb(177,22,88)"
            ],
            [
             0.5019607843137255,
             "rgb(203,26,79)"
            ],
            [
             0.5647058823529412,
             "rgb(223,47,67)"
            ],
            [
             0.6274509803921569,
             "rgb(236,76,61)"
            ],
            [
             0.6901960784313725,
             "rgb(242,107,73)"
            ],
            [
             0.7529411764705882,
             "rgb(244,135,95)"
            ],
            [
             0.8156862745098039,
             "rgb(245,162,122)"
            ],
            [
             0.8784313725490196,
             "rgb(246,188,153)"
            ],
            [
             0.9411764705882353,
             "rgb(247,212,187)"
            ],
            [
             1,
             "rgb(250,234,220)"
            ]
           ]
          },
          "colorway": [
           "rgb(76,114,176)",
           "rgb(221,132,82)",
           "rgb(85,168,104)",
           "rgb(196,78,82)",
           "rgb(129,114,179)",
           "rgb(147,120,96)",
           "rgb(218,139,195)",
           "rgb(140,140,140)",
           "rgb(204,185,116)",
           "rgb(100,181,205)"
          ],
          "font": {
           "color": "rgb(36,36,36)"
          },
          "geo": {
           "bgcolor": "white",
           "lakecolor": "white",
           "landcolor": "rgb(234,234,242)",
           "showlakes": true,
           "showland": true,
           "subunitcolor": "white"
          },
          "hoverlabel": {
           "align": "left"
          },
          "hovermode": "closest",
          "paper_bgcolor": "white",
          "plot_bgcolor": "rgb(234,234,242)",
          "polar": {
           "angularaxis": {
            "gridcolor": "white",
            "linecolor": "white",
            "showgrid": true,
            "ticks": ""
           },
           "bgcolor": "rgb(234,234,242)",
           "radialaxis": {
            "gridcolor": "white",
            "linecolor": "white",
            "showgrid": true,
            "ticks": ""
           }
          },
          "scene": {
           "xaxis": {
            "backgroundcolor": "rgb(234,234,242)",
            "gridcolor": "white",
            "gridwidth": 2,
            "linecolor": "white",
            "showbackground": true,
            "showgrid": true,
            "ticks": "",
            "zerolinecolor": "white"
           },
           "yaxis": {
            "backgroundcolor": "rgb(234,234,242)",
            "gridcolor": "white",
            "gridwidth": 2,
            "linecolor": "white",
            "showbackground": true,
            "showgrid": true,
            "ticks": "",
            "zerolinecolor": "white"
           },
           "zaxis": {
            "backgroundcolor": "rgb(234,234,242)",
            "gridcolor": "white",
            "gridwidth": 2,
            "linecolor": "white",
            "showbackground": true,
            "showgrid": true,
            "ticks": "",
            "zerolinecolor": "white"
           }
          },
          "shapedefaults": {
           "fillcolor": "rgb(67,103,167)",
           "line": {
            "width": 0
           },
           "opacity": 0.5
          },
          "ternary": {
           "aaxis": {
            "gridcolor": "white",
            "linecolor": "white",
            "showgrid": true,
            "ticks": ""
           },
           "baxis": {
            "gridcolor": "white",
            "linecolor": "white",
            "showgrid": true,
            "ticks": ""
           },
           "bgcolor": "rgb(234,234,242)",
           "caxis": {
            "gridcolor": "white",
            "linecolor": "white",
            "showgrid": true,
            "ticks": ""
           }
          },
          "xaxis": {
           "automargin": true,
           "gridcolor": "white",
           "linecolor": "white",
           "showgrid": true,
           "ticks": "",
           "title": {
            "standoff": 15
           },
           "zerolinecolor": "white"
          },
          "yaxis": {
           "automargin": true,
           "gridcolor": "white",
           "linecolor": "white",
           "showgrid": true,
           "ticks": "",
           "title": {
            "standoff": 15
           },
           "zerolinecolor": "white"
          }
         }
        },
        "xaxis": {
         "anchor": "y",
         "domain": [
          0,
          1
         ],
         "type": "linear"
        },
        "yaxis": {
         "anchor": "x",
         "categoryarray": [
          "0",
          "1",
          "2",
          "3",
          "4"
         ],
         "categoryorder": "array",
         "domain": [
          0,
          1
         ],
         "title": {
          "text": "worker_id"
         }
        }
       }
      }
     },
     "metadata": {},
     "output_type": "display_data"
    }
   ],
   "source": [
    "fig_gantt, df_gantt = make_gantt(prev_obs)\n",
    "fig_gantt.show()\n",
    "\n",
    "# store expected task duration for each different worker\n",
    "# add priorities to jobs for weighted completion time\n",
    "# job level parallelism\n",
    "# objectives: Weighted tardiness, weighted completion time,  \n",
    "# heuristics: FCFS, SJF, EDD, min-min/max-min"
   ]
  },
  {
   "cell_type": "code",
   "execution_count": 6,
   "id": "b33ae5ea",
   "metadata": {},
   "outputs": [
    {
     "data": {
      "image/png": "[encoded data removed]",
      "text/plain": [
       "<Figure size 432x288 with 1 Axes>"
      ]
     },
     "metadata": {},
     "output_type": "display_data"
    }
   ],
   "source": [
    "import networkx as nx\n",
    "G = prev_obs.jobs[4].dag_to_nx()\n",
    "nx.draw(G, with_labels=True)"
   ]
  },
  {
   "cell_type": "code",
   "execution_count": 16,
   "id": "ab71e891",
   "metadata": {},
   "outputs": [
    {
     "data": {
      "text/plain": [
       "4"
      ]
     },
     "execution_count": 16,
     "metadata": {},
     "output_type": "execute_result"
    }
   ],
   "source": [
    "prev_obs.jobs[5].stages[2].n_tasks"
   ]
  },
  {
   "cell_type": "code",
   "execution_count": null,
   "id": "ed8685d1",
   "metadata": {},
   "outputs": [],
   "source": []
  }
 ],
 "metadata": {
  "kernelspec": {
   "display_name": "Python 3 (ipykernel)",
   "language": "python",
   "name": "python3"
  },
  "language_info": {
   "codemirror_mode": {
    "name": "ipython",
    "version": 3
   },
   "file_extension": ".py",
   "mimetype": "text/x-python",
   "name": "python",
   "nbconvert_exporter": "python",
   "pygments_lexer": "ipython3",
   "version": "3.9.10"
  }
 },
 "nbformat": 4,
 "nbformat_minor": 5
}
