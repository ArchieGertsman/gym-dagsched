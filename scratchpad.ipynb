{
 "cells": [
  {
   "cell_type": "code",
   "execution_count": 3,
   "id": "c17b72cd",
   "metadata": {},
   "outputs": [],
   "source": [
    "import sys\n",
    "sys.path.append('./gym_dagsched/data_generation/tpch/')\n",
    "\n",
    "import torch\n",
    "\n",
    "from gym_dagsched.envs.dagsched_env import DagSchedEnv\n",
    "from gym_dagsched.policies.heuristics import fcfs, max_children, srt, lrt\n",
    "from gym_dagsched.policies.decima_agent import ActorNetwork\n",
    "from gym_dagsched.utils.metrics import avg_job_duration, makespan\n",
    "from gym_dagsched.data_generation.random_datagen import RandomDataGen\n",
    "from gym_dagsched.data_generation.tpch_datagen import TPCHDataGen\n",
    "from gym_dagsched.reinforce.reinforce_utils import sample_action\n",
    "\n",
    "# heurs = [max_children, srt]\n",
    "\n",
    "policy = ActorNetwork(5, 8, 10)\n",
    "policy.load_state_dict(torch.load('policy.pt'))\n",
    "policy.eval()\n",
    "\n",
    "def decima(env):\n",
    "    obs = env._observe()\n",
    "    if obs is None or env.n_active_jobs == 0:\n",
    "        next_op, prlvl = None, 0\n",
    "    else:\n",
    "        dag_batch, op_msk, prlvl_msk = obs\n",
    "        ops_probs, prlvl_probs = policy(dag_batch, op_msk, prlvl_msk)\n",
    "        next_op, prlvl, _, _ = \\\n",
    "            sample_action(env, ops_probs, prlvl_probs)\n",
    "    return next_op, prlvl\n",
    "\n",
    "heurs = [srt, decima]\n",
    "\n",
    "datagen = RandomDataGen(\n",
    "    max_ops=8,\n",
    "    max_tasks=4,\n",
    "    mean_task_duration=2000.,\n",
    "    n_worker_types=1)\n",
    "\n",
    "# datagen = TPCHDataGen()\n",
    "\n",
    "envs = [DagSchedEnv() for _ in range(len(heurs))]"
   ]
  },
  {
   "cell_type": "code",
   "execution_count": 6,
   "metadata": {},
   "outputs": [],
   "source": [
    "initial_timeline = datagen.initial_timeline(\n",
    "    n_job_arrivals=100, n_init_jobs=0, mjit=1000.)\n",
    "\n",
    "workers = datagen.workers(n_workers=10)\n",
    "\n",
    "for env, heur in zip(envs, heurs):\n",
    "    env.reset(initial_timeline, workers)\n",
    "    done = False\n",
    "    while not done:\n",
    "        next_op, n_workers = heur(env)\n",
    "        _, _, done = env.step(next_op, n_workers)"
   ]
  },
  {
   "cell_type": "code",
   "execution_count": 7,
   "metadata": {},
   "outputs": [
    {
     "name": "stdout",
     "output_type": "stream",
     "text": [
      "79\n",
      "162\n"
     ]
    }
   ],
   "source": [
    "for env in envs:\n",
    "    print(int(avg_job_duration(env)/1000))"
   ]
  },
  {
   "cell_type": "code",
   "execution_count": 8,
   "metadata": {},
   "outputs": [
    {
     "ename": "AttributeError",
     "evalue": "'int' object has no attribute 't_completed'",
     "output_type": "error",
     "traceback": [
      "\u001b[0;31m---------------------------------------------------------------------------\u001b[0m",
      "\u001b[0;31mAttributeError\u001b[0m                            Traceback (most recent call last)",
      "\u001b[1;32m/home/user/gym-dagsched/scratchpad.ipynb Cell 4'\u001b[0m in \u001b[0;36m<cell line: 1>\u001b[0;34m()\u001b[0m\n\u001b[1;32m      <a href='vscode-notebook-cell://ssh-remote%2Bfish-tank.asuscomm.com/home/user/gym-dagsched/scratchpad.ipynb#ch0000003vscode-remote?line=0'>1</a>\u001b[0m \u001b[39mfor\u001b[39;00m env \u001b[39min\u001b[39;00m envs:\n\u001b[0;32m----> <a href='vscode-notebook-cell://ssh-remote%2Bfish-tank.asuscomm.com/home/user/gym-dagsched/scratchpad.ipynb#ch0000003vscode-remote?line=1'>2</a>\u001b[0m     \u001b[39mprint\u001b[39m(\u001b[39mint\u001b[39m(makespan(env)\u001b[39m/\u001b[39m\u001b[39m1000\u001b[39m))\n",
      "File \u001b[0;32m~/gym-dagsched/gym_dagsched/utils/metrics.py:13\u001b[0m, in \u001b[0;36mmakespan\u001b[0;34m(env)\u001b[0m\n\u001b[1;32m     11\u001b[0m \u001b[39mdef\u001b[39;00m \u001b[39mmakespan\u001b[39m(env):\n\u001b[1;32m     12\u001b[0m     \u001b[39massert\u001b[39;00m env\u001b[39m.\u001b[39mn_completed_jobs \u001b[39m>\u001b[39m \u001b[39m0\u001b[39m\n\u001b[0;32m---> 13\u001b[0m     completion_times \u001b[39m=\u001b[39m np\u001b[39m.\u001b[39marray([\n\u001b[1;32m     14\u001b[0m         job\u001b[39m.\u001b[39mt_completed\n\u001b[1;32m     15\u001b[0m         \u001b[39mfor\u001b[39;00m job \u001b[39min\u001b[39;00m env\u001b[39m.\u001b[39mjobs\n\u001b[1;32m     16\u001b[0m     ])\n\u001b[1;32m     17\u001b[0m     completion_times \u001b[39m=\u001b[39m completion_times[completion_times\u001b[39m<\u001b[39mnp\u001b[39m.\u001b[39minf]\n\u001b[1;32m     18\u001b[0m     \u001b[39mreturn\u001b[39;00m completion_times\u001b[39m.\u001b[39mmax()\n",
      "File \u001b[0;32m~/gym-dagsched/gym_dagsched/utils/metrics.py:14\u001b[0m, in \u001b[0;36m<listcomp>\u001b[0;34m(.0)\u001b[0m\n\u001b[1;32m     11\u001b[0m \u001b[39mdef\u001b[39;00m \u001b[39mmakespan\u001b[39m(env):\n\u001b[1;32m     12\u001b[0m     \u001b[39massert\u001b[39;00m env\u001b[39m.\u001b[39mn_completed_jobs \u001b[39m>\u001b[39m \u001b[39m0\u001b[39m\n\u001b[1;32m     13\u001b[0m     completion_times \u001b[39m=\u001b[39m np\u001b[39m.\u001b[39marray([\n\u001b[0;32m---> 14\u001b[0m         job\u001b[39m.\u001b[39;49mt_completed\n\u001b[1;32m     15\u001b[0m         \u001b[39mfor\u001b[39;00m job \u001b[39min\u001b[39;00m env\u001b[39m.\u001b[39mjobs\n\u001b[1;32m     16\u001b[0m     ])\n\u001b[1;32m     17\u001b[0m     completion_times \u001b[39m=\u001b[39m completion_times[completion_times\u001b[39m<\u001b[39mnp\u001b[39m.\u001b[39minf]\n\u001b[1;32m     18\u001b[0m     \u001b[39mreturn\u001b[39;00m completion_times\u001b[39m.\u001b[39mmax()\n",
      "\u001b[0;31mAttributeError\u001b[0m: 'int' object has no attribute 't_completed'"
     ]
    }
   ],
   "source": [
    "for env in envs:\n",
    "    print(int(makespan(env)/1000))"
   ]
  },
  {
   "cell_type": "code",
   "execution_count": 42,
   "metadata": {},
   "outputs": [
    {
     "name": "stdout",
     "output_type": "stream",
     "text": [
      "14\n",
      "[(2, 1759), (2, 910), (200, 37), (2, 1793), (200, 42), (58, 3711), (200, 404), (13, 2511), (200, 175), (2, 2166), (200, 155), (200, 37), (200, 32), (6, 153)]\n",
      "\n",
      "14\n",
      "[(2, 363), (2, 811), (9, 3938), (295, 2868), (200, 1102), (200, 44), (200, 216), (46, 1880), (200, 410), (66, 2342), (200, 431), (200, 49), (200, 50), (176, 74)]\n",
      "\n",
      "8\n",
      "[(474, 2453), (200, 401), (106, 2488), (474, 2222), (200, 1389), (15, 1823), (200, 109), (1, 194)]\n",
      "\n",
      "9\n",
      "[(2, 1914), (5, 2673), (200, 369), (2, 2825), (200, 209), (200, 155), (200, 72), (200, 81), (200, 110)]\n",
      "\n",
      "9\n",
      "[(106, 2881), (15, 3224), (200, 299), (2, 123), (200, 104), (474, 2306), (200, 633), (200, 174), (1, 183)]\n",
      "\n",
      "9\n",
      "[(2, 2282), (18, 2876), (200, 381), (4, 3944), (200, 239), (200, 169), (200, 80), (200, 87), (200, 102)]\n",
      "\n",
      "6\n",
      "[(593, 2437), (133, 2243), (200, 657), (200, 40), (200, 31), (3, 163)]\n",
      "\n",
      "9\n",
      "[(7, 3378), (2, 2310), (200, 208), (2, 1299), (200, 74), (29, 3343), (200, 235), (200, 92), (1, 195)]\n",
      "\n",
      "6\n",
      "[(2, 2705), (7, 3253), (200, 259), (29, 3408), (200, 234), (1, 203)]\n",
      "\n",
      "18\n",
      "[(2, 897), (2, 900), (29, 3657), (2, 1568), (200, 185), (200, 30), (2, 1707), (2, 1536), (200, 98), (2, 2346), (200, 34), (7, 3311), (200, 138), (200, 99), (200, 162), (200, 36), (200, 30), (3, 172)]\n",
      "\n",
      "6\n",
      "[(15, 3526), (474, 2483), (200, 1448), (474, 2374), (200, 1253), (1, 217)]\n",
      "\n",
      "11\n",
      "[(2, 1724), (2, 1846), (200, 71), (73, 2803), (200, 320), (1, 83), (73, 1862), (200, 358), (200, 113), (200, 70), (1, 180)]\n",
      "\n",
      "6\n",
      "[(19, 3454), (593, 2444), (200, 1827), (593, 2389), (200, 1684), (1, 544)]\n",
      "\n",
      "12\n",
      "[(2, 1984), (2, 919), (200, 124), (29, 3589), (2, 2751), (5, 2904), (200, 138), (200, 139), (200, 172), (200, 63), (200, 56), (200, 81)]\n",
      "\n",
      "7\n",
      "[(19, 3242), (133, 4459), (200, 775), (200, 96), (200, 42), (200, 36), (46, 137)]\n",
      "\n",
      "2\n",
      "[(29, 2907), (1, 637)]\n",
      "\n",
      "9\n",
      "[(2, 1843), (2, 2296), (200, 363), (2, 2163), (200, 204), (200, 150), (200, 71), (200, 79), (200, 112)]\n",
      "\n",
      "13\n",
      "[(2, 1809), (2, 1224), (200, 37), (117, 2775), (4, 3262), (200, 32), (27, 3443), (200, 195), (200, 263), (200, 195), (200, 35), (200, 32), (5, 161)]\n",
      "\n",
      "18\n",
      "[(2, 1035), (2, 873), (12, 3563), (2, 1197), (200, 110), (200, 41), (2, 1658), (2, 1493), (200, 163), (2, 1844), (200, 40), (3, 3218), (200, 121), (200, 98), (200, 161), (200, 34), (200, 28), (3, 187)]\n",
      "\n",
      "7\n",
      "[(474, 2368), (200, 197), (1, 72), (2, 1167), (200, 175), (200, 127), (2, 188)]\n",
      "\n"
     ]
    }
   ],
   "source": [
    "for job in envs[0].jobs:\n",
    "    print(len(job.ops))\n",
    "    print([(op.n_tasks,int(op.task_duration[0])) for op in job.ops])\n",
    "    print()"
   ]
  },
  {
   "cell_type": "code",
   "execution_count": 47,
   "metadata": {},
   "outputs": [
    {
     "name": "stdout",
     "output_type": "stream",
     "text": [
      "9\n",
      "[(46, 1285), (139, 3087), (196, 307), (10, 6066), (49, 2954), (199, 1215), (147, 3625), (20, 7318), (68, 3198)]\n",
      "\n",
      "16\n",
      "[(110, 100), (93, 1252), (141, 153), (51, 13739), (199, 20972), (49, 390), (197, 197), (41, 10314), (26, 883), (55, 5575), (5, 2022), (185, 7883), (37, 1885), (54, 6193), (95, 6077), (53, 4306)]\n",
      "\n",
      "12\n",
      "[(84, 746), (28, 100), (142, 5588), (62, 7881), (165, 1666), (180, 2362), (170, 1195), (163, 2307), (109, 3959), (62, 1703), (109, 5454), (179, 128)]\n",
      "\n",
      "13\n",
      "[(198, 162), (146, 1019), (157, 6824), (184, 100), (78, 3803), (155, 2055), (89, 105), (32, 10576), (124, 2723), (61, 959), (170, 3873), (50, 1812), (109, 322)]\n",
      "\n",
      "14\n",
      "[(21, 8117), (69, 100), (134, 5452), (187, 18887), (67, 9657), (166, 238), (64, 1982), (149, 1365), (67, 5955), (145, 1612), (160, 13349), (194, 10071), (197, 1412), (7, 5864)]\n",
      "\n",
      "17\n",
      "[(135, 6180), (77, 9560), (84, 2800), (5, 11180), (91, 17040), (12, 7159), (178, 1524), (73, 6858), (35, 558), (89, 15908), (175, 26773), (36, 15993), (23, 5494), (157, 3061), (191, 6507), (83, 197), (111, 3502)]\n",
      "\n",
      "13\n",
      "[(76, 1356), (72, 5926), (168, 10760), (170, 100), (74, 6529), (157, 5179), (131, 9083), (8, 1553), (87, 1100), (139, 1346), (98, 1564), (178, 4248), (142, 5369)]\n",
      "\n",
      "15\n",
      "[(73, 1595), (67, 1390), (25, 9147), (160, 6126), (146, 10239), (7, 100), (172, 101), (140, 4180), (62, 2426), (56, 10336), (128, 11577), (160, 2291), (77, 6553), (23, 6419), (182, 2302)]\n",
      "\n",
      "6\n",
      "[(114, 2650), (76, 2885), (47, 1283), (52, 5475), (37, 4075), (8, 2994)]\n",
      "\n",
      "7\n",
      "[(177, 3965), (103, 100), (135, 11869), (85, 4277), (28, 1811), (122, 3216), (44, 278)]\n",
      "\n",
      "2\n",
      "[(57, 813), (139, 11208)]\n",
      "\n",
      "6\n",
      "[(74, 2461), (30, 1671), (75, 4902), (55, 3617), (54, 1369), (160, 7937)]\n",
      "\n",
      "14\n",
      "[(99, 1068), (92, 3093), (183, 100), (121, 2103), (95, 1615), (183, 877), (5, 1812), (143, 11942), (60, 100), (41, 18320), (188, 4834), (140, 912), (176, 4294), (188, 100)]\n",
      "\n",
      "6\n",
      "[(50, 1750), (125, 151), (102, 4409), (78, 18850), (145, 4626), (10, 8063)]\n",
      "\n",
      "12\n",
      "[(104, 1819), (65, 100), (200, 100), (38, 2011), (157, 100), (179, 13569), (153, 1382), (110, 100), (38, 3815), (96, 2556), (165, 6002), (187, 100)]\n",
      "\n",
      "2\n",
      "[(50, 7893), (63, 100)]\n",
      "\n",
      "13\n",
      "[(72, 2232), (150, 5270), (131, 3923), (140, 16490), (60, 10903), (41, 2762), (48, 5001), (113, 925), (121, 18797), (4, 878), (56, 593), (159, 812), (110, 1613)]\n",
      "\n",
      "17\n",
      "[(84, 10579), (62, 4728), (199, 2613), (158, 736), (73, 3427), (85, 9992), (105, 13156), (139, 2488), (165, 2529), (188, 100), (36, 7809), (79, 100), (153, 4079), (38, 2572), (186, 5368), (82, 824), (168, 920)]\n",
      "\n",
      "13\n",
      "[(126, 2696), (56, 7262), (85, 1751), (114, 5862), (20, 2819), (160, 5673), (147, 3629), (65, 331), (92, 15479), (36, 6939), (9, 4120), (65, 571), (158, 12429)]\n",
      "\n",
      "2\n",
      "[(67, 8393), (154, 100)]\n",
      "\n"
     ]
    }
   ],
   "source": [
    "for job in envs[0].jobs:\n",
    "    print(len(job.ops))\n",
    "    print([(op.n_tasks,int(op.task_duration[0])) for op in job.ops])\n",
    "    print()"
   ]
  },
  {
   "cell_type": "code",
   "execution_count": null,
   "metadata": {},
   "outputs": [],
   "source": []
  }
 ],
 "metadata": {
  "kernelspec": {
   "display_name": "Python 3.10.4 ('archienv')",
   "language": "python",
   "name": "python3"
  },
  "language_info": {
   "codemirror_mode": {
    "name": "ipython",
    "version": 3
   },
   "file_extension": ".py",
   "mimetype": "text/x-python",
   "name": "python",
   "nbconvert_exporter": "python",
   "pygments_lexer": "ipython3",
   "version": "3.10.4"
  },
  "orig_nbformat": 4,
  "vscode": {
   "interpreter": {
    "hash": "fd97d39802ea34b4e93a9da54e46f13f22c67df81403db055c9106ba995c063d"
   }
  }
 },
 "nbformat": 4,
 "nbformat_minor": 2
}
