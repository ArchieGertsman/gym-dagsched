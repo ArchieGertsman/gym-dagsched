{
 "cells": [
  {
   "cell_type": "code",
   "execution_count": 1,
   "id": "45823af5",
   "metadata": {},
   "outputs": [
    {
     "name": "stderr",
     "output_type": "stream",
     "text": [
      "\n"
     ]
    }
   ],
   "source": [
    "import sys\n",
    "sys.path.append('./gym_dagsched')\n",
    "sys.path.append('./gym_dagsched/envs')\n",
    "from copy import copy\n",
    "\n",
    "import gym\n",
    "import numpy as np\n",
    "from dataclasses import asdict\n",
    "\n",
    "import gym_dagsched.envs\n",
    "from gym_dagsched.args import args\n",
    "from visualization import make_gantt\n",
    "\n",
    "env = gym.make('dagsched-v0')"
   ]
  },
  {
   "cell_type": "code",
   "execution_count": 2,
   "id": "12acd29d",
   "metadata": {},
   "outputs": [
    {
     "name": "stdout",
     "output_type": "stream",
     "text": [
      "frontier is empty\n",
      "\n",
      "invalid action\n",
      "2.441315773043401: job arrival\n",
      "n_workers=1\n",
      "\n",
      "2.4413158893585205: nudge\n",
      "n_workers=1\n",
      "\n",
      "2.4413158893585205: nudge\n",
      "n_workers=3\n",
      "\n",
      "28.400888442993164: task completion (0,3,0)\n",
      "stage completion\n",
      "n_workers=1\n",
      "\n",
      "38.62601238000915: job arrival\n",
      "no available workers\n",
      "\n",
      "invalid action\n",
      "39.315208435058594: task completion (0,4,0)\n",
      "stage completion\n",
      "n_workers=1\n",
      "\n",
      "44.13241195678711: task completion (0,2,0)\n",
      "n_workers=1\n",
      "\n",
      "44.13241195678711: task completion (0,2,1)\n",
      "n_workers=1\n",
      "\n",
      "44.13241195678711: task completion (0,2,2)\n",
      "n_workers=1\n",
      "\n",
      "50.34612211155711: job arrival\n",
      "no available workers\n",
      "\n",
      "invalid action\n",
      "54.99770839427564: job arrival\n",
      "no available workers\n",
      "\n",
      "invalid action\n",
      "55.83807064799304: job arrival\n",
      "no available workers\n",
      "\n",
      "invalid action\n",
      "57.831053684734286: job arrival\n",
      "no available workers\n",
      "\n",
      "invalid action\n",
      "60.645420405207595: job arrival\n",
      "no available workers\n",
      "\n",
      "invalid action\n",
      "66.81914520263672: task completion (1,6,0)\n",
      "n_workers=1\n",
      "\n",
      "70.09198760986328: task completion (0,2,3)\n",
      "stage completion\n",
      "n_workers=1\n",
      "\n",
      "70.47041622923523: job arrival\n",
      "no available workers\n",
      "\n",
      "invalid action\n",
      "71.63634490966797: task completion (1,6,1)\n",
      "n_workers=1\n",
      "\n",
      "71.63634490966797: task completion (1,6,2)\n",
      "stage completion\n",
      "n_workers=1\n",
      "\n",
      "81.6436649033856: job arrival\n",
      "no available workers\n",
      "\n",
      "invalid action\n",
      "85.50129895656825: job arrival\n",
      "no available workers\n",
      "\n",
      "invalid action\n",
      "90.39364624023438: task completion (0,1,0)\n",
      "n_workers=1\n",
      "\n",
      "101.83181762695312: task completion (6,4,0)\n",
      "stage completion\n",
      "n_workers=1\n",
      "\n",
      "107.56729125976562: task completion (6,3,0)\n",
      "n_workers=1\n",
      "\n",
      "107.93692016601562: task completion (7,2,0)\n",
      "n_workers=1\n",
      "\n",
      "107.93692016601562: task completion (7,2,1)\n",
      "stage completion\n",
      "n_workers=1\n",
      "\n",
      "124.70162963867188: task completion (9,2,0)\n",
      "n_workers=1\n",
      "\n",
      "130.37261962890625: task completion (9,0,0)\n",
      "n_workers=1\n",
      "\n",
      "136.13980102539062: task completion (9,2,1)\n",
      "n_workers=1\n",
      "\n",
      "141.67803955078125: task completion (8,5,0)\n",
      "n_workers=1\n",
      "\n",
      "141.87527465820312: task completion (9,2,2)\n",
      "stage completion\n",
      "n_workers=1\n",
      "\n",
      "147.1373291015625: task completion (9,0,1)\n",
      "n_workers=1\n",
      "\n",
      "152.80831909179688: task completion (9,0,2)\n",
      "n_workers=1\n",
      "\n",
      "158.57550048828125: task completion (9,0,3)\n",
      "stage completion\n",
      "n_workers=1\n",
      "\n",
      "172.20631408691406: task completion (9,1,0)\n",
      "stage completion\n",
      "job completion\n",
      "n_workers=1\n",
      "\n",
      "174.37088012695312: task completion (8,3,0)\n",
      "n_workers=1\n",
      "\n",
      "175.41915893554688: task completion (8,5,1)\n",
      "n_workers=1\n",
      "\n",
      "180.0418701171875: task completion (8,3,1)\n",
      "n_workers=1\n",
      "\n",
      "185.80905151367188: task completion (8,3,2)\n",
      "n_workers=1\n",
      "\n",
      "192.0221405029297: task completion (7,0,0)\n",
      "n_workers=1\n",
      "\n",
      "197.69313049316406: task completion (7,0,1)\n",
      "n_workers=1\n",
      "\n",
      "199.4398651123047: task completion (8,3,3)\n",
      "stage completion\n",
      "n_workers=1\n",
      "\n",
      "203.46031188964844: task completion (7,0,2)\n",
      "stage completion\n",
      "n_workers=1\n",
      "\n",
      "209.1602783203125: task completion (8,5,2)\n",
      "stage completion\n",
      "n_workers=1\n",
      "\n",
      "221.6466522216797: task completion (6,2,0)\n",
      "n_workers=1\n",
      "\n",
      "223.3933868408203: task completion (6,2,1)\n",
      "n_workers=1\n",
      "\n",
      "227.41383361816406: task completion (6,2,2)\n",
      "n_workers=1\n",
      "\n",
      "229.49745178222656: task completion (6,3,1)\n",
      "stage completion\n",
      "n_workers=1\n",
      "\n",
      "237.11581420898438: task completion (8,2,0)\n",
      "n_workers=1\n",
      "\n",
      "247.34690856933594: task completion (6,2,3)\n",
      "stage completion\n",
      "n_workers=1\n",
      "\n",
      "254.39065551757812: task completion (5,5,0)\n",
      "n_workers=1\n",
      "\n",
      "256.4742736816406: task completion (5,5,1)\n",
      "n_workers=1\n",
      "\n",
      "259.29766845703125: task completion (8,4,0)\n",
      "stage completion\n",
      "n_workers=1\n",
      "\n",
      "265.07135009765625: task completion (8,2,1)\n",
      "n_workers=1\n",
      "\n",
      "281.36749267578125: task completion (5,5,2)\n",
      "n_workers=1\n",
      "\n",
      "282.9517517089844: task completion (6,0,0)\n",
      "stage completion\n",
      "n_workers=1\n",
      "\n",
      "283.45111083984375: task completion (5,5,3)\n",
      "stage completion\n",
      "n_workers=1\n",
      "\n",
      "284.6526184082031: task completion (5,4,0)\n",
      "n_workers=1\n",
      "\n",
      "293.0268859863281: task completion (8,2,2)\n",
      "n_workers=1\n",
      "\n",
      "300.0735778808594: task completion (5,0,0)\n",
      "stage completion\n",
      "n_workers=1\n",
      "\n",
      "306.7224426269531: task completion (5,4,1)\n",
      "n_workers=1\n",
      "\n",
      "308.30670166015625: task completion (5,4,2)\n",
      "stage completion\n",
      "n_workers=1\n",
      "\n",
      "320.982421875: task completion (8,2,3)\n",
      "stage completion\n",
      "n_workers=1\n",
      "\n",
      "332.9660949707031: task completion (5,3,0)\n",
      "stage completion\n",
      "n_workers=1\n",
      "\n",
      "336.6268615722656: task completion (3,7,0)\n",
      "n_workers=1\n",
      "\n",
      "339.0247802734375: task completion (4,1,0)\n",
      "n_workers=1\n",
      "\n",
      "344.8391418457031: task completion (8,1,0)\n",
      "n_workers=1\n",
      "\n",
      "345.67364501953125: task completion (4,1,1)\n",
      "stage completion\n",
      "n_workers=1\n",
      "\n",
      "368.69586181640625: task completion (8,1,1)\n",
      "stage completion\n",
      "n_workers=1\n",
      "\n",
      "377.25152587890625: task completion (5,2,0)\n",
      "n_workers=1\n",
      "\n",
      "380.91229248046875: task completion (5,2,1)\n",
      "n_workers=1\n",
      "\n",
      "383.3102111816406: task completion (5,2,2)\n",
      "stage completion\n",
      "n_workers=1\n",
      "\n",
      "391.72967529296875: task completion (4,0,0)\n",
      "n_workers=1\n",
      "\n",
      "397.1524963378906: task completion (5,1,0)\n",
      "n_workers=1\n",
      "\n",
      "403.6182556152344: task completion (8,0,0)\n",
      "n_workers=1\n",
      "\n",
      "405.57196044921875: task completion (5,1,1)\n",
      "n_workers=1\n",
      "\n",
      "410.9947814941406: task completion (5,1,2)\n",
      "stage completion\n",
      "job completion\n",
      "n_workers=1\n",
      "\n",
      "423.30755615234375: task completion (4,0,1)\n",
      "n_workers=1\n",
      "\n",
      "426.96832275390625: task completion (4,0,2)\n",
      "n_workers=1\n",
      "\n",
      "438.5406494140625: task completion (8,0,1)\n",
      "n_workers=1\n",
      "\n",
      "439.31494140625: task completion (3,7,1)\n",
      "stage completion\n",
      "n_workers=1\n",
      "\n",
      "444.83929443359375: task completion (3,5,0)\n",
      "n_workers=1\n",
      "\n",
      "448.50006103515625: task completion (3,5,1)\n",
      "n_workers=1\n",
      "\n",
      "451.62799072265625: task completion (4,0,3)\n",
      "stage completion\n",
      "job completion\n",
      "n_workers=1\n",
      "\n",
      "460.8466796875: task completion (3,5,2)\n",
      "stage completion\n",
      "n_workers=1\n",
      "\n",
      "470.876708984375: task completion (2,3,0)\n",
      "n_workers=1\n",
      "\n",
      "473.4630432128906: task completion (8,0,2)\n",
      "stage completion\n",
      "job completion\n",
      "n_workers=1\n",
      "\n",
      "474.5374755859375: task completion (2,3,1)\n",
      "n_workers=1\n",
      "\n",
      "477.6654052734375: task completion (2,3,2)\n",
      "n_workers=1\n",
      "\n",
      "486.88409423828125: task completion (2,3,3)\n",
      "stage completion\n",
      "n_workers=1\n",
      "\n",
      "510.2559814453125: task completion (7,1,0)\n",
      "n_workers=1\n",
      "\n",
      "515.0865478515625: task completion (0,0,0)\n",
      "stage completion\n",
      "n_workers=0\n",
      "\n",
      "517.137939453125: task completion (0,1,1)\n",
      "n_workers=0\n",
      "\n",
      "520.7987060546875: task completion (0,1,2)\n",
      "n_workers=0\n",
      "\n",
      "523.9266357421875: task completion (0,1,3)\n",
      "stage completion\n",
      "job completion\n",
      "n_workers=0\n",
      "\n",
      "547.0489501953125: task completion (7,1,1)\n",
      "n_workers=1\n",
      "\n",
      "583.8419189453125: task completion (7,1,2)\n",
      "n_workers=1\n",
      "\n",
      "620.6348876953125: task completion (7,1,3)\n",
      "stage completion\n",
      "job completion\n",
      "n_workers=1\n",
      "\n",
      "642.3023681640625: task completion (6,1,0)\n",
      "n_workers=1\n",
      "\n",
      "663.9698486328125: task completion (6,1,1)\n",
      "stage completion\n",
      "job completion\n",
      "n_workers=1\n",
      "\n",
      "689.9317016601562: task completion (3,6,0)\n",
      "n_workers=1\n",
      "\n",
      "715.8935546875: task completion (3,6,1)\n",
      "n_workers=1\n",
      "\n",
      "741.8554077148438: task completion (3,6,2)\n",
      "n_workers=1\n",
      "\n",
      "767.8172607421875: task completion (3,6,3)\n",
      "stage completion\n",
      "n_workers=3\n",
      "\n",
      "767.8172607421875: nudge\n",
      "n_workers=2\n",
      "\n",
      "790.8521118164062: task completion (3,4,0)\n",
      "n_workers=1\n",
      "\n",
      "790.8521118164062: task completion (3,4,1)\n",
      "n_workers=1\n",
      "\n",
      "790.8521118164062: task completion (3,4,2)\n",
      "stage completion\n",
      "n_workers=1\n",
      "\n",
      "799.9417724609375: task completion (3,3,0)\n",
      "n_workers=0\n",
      "\n",
      "invalid action\n",
      "799.9417724609375: task completion (3,3,1)\n",
      "n_workers=0\n",
      "\n",
      "invalid action\n",
      "822.9766235351562: task completion (3,3,2)\n",
      "stage completion\n",
      "n_workers=1\n",
      "\n",
      "830.7031860351562: task completion (3,2,0)\n",
      "n_workers=0\n",
      "\n",
      "830.7031860351562: task completion (3,2,1)\n",
      "stage completion\n",
      "n_workers=2\n",
      "\n",
      "830.7031860351562: nudge\n",
      "n_workers=2\n",
      "\n",
      "851.719482421875: task completion (2,2,0)\n",
      "n_workers=1\n",
      "\n",
      "854.5814208984375: task completion (3,0,0)\n",
      "n_workers=0\n",
      "\n",
      "854.5814208984375: task completion (3,0,1)\n",
      "stage completion\n",
      "n_workers=0\n",
      "\n",
      "875.8369140625: task completion (3,1,0)\n",
      "n_workers=0\n",
      "\n",
      "875.8369140625: task completion (3,1,1)\n",
      "stage completion\n",
      "job completion\n",
      "n_workers=0\n",
      "\n",
      "880.4623413085938: task completion (2,2,1)\n",
      "n_workers=1\n",
      "\n",
      "909.2052001953125: task completion (2,2,2)\n",
      "n_workers=1\n",
      "\n",
      "937.9480590820312: task completion (2,2,3)\n",
      "stage completion\n",
      "n_workers=1\n",
      "\n",
      "937.9480590820312: nudge\n",
      "n_workers=4\n",
      "\n",
      "963.5505981445312: task completion (2,0,0)\n",
      "n_workers=0\n",
      "\n",
      "invalid action\n",
      "963.5505981445312: task completion (2,0,1)\n",
      "n_workers=0\n",
      "\n",
      "invalid action\n",
      "963.5505981445312: task completion (2,0,2)\n",
      "n_workers=0\n",
      "\n",
      "invalid action\n",
      "963.5505981445312: task completion (2,0,3)\n",
      "stage completion\n",
      "n_workers=0\n",
      "\n",
      "invalid action\n",
      "963.7807006835938: task completion (2,1,0)\n",
      "n_workers=1\n",
      "\n",
      "989.6133422851562: task completion (2,1,1)\n",
      "stage completion\n",
      "job completion\n",
      "n_workers=1\n",
      "\n",
      "1016.2216186523438: task completion (1,5,0)\n",
      "n_workers=1\n",
      "\n",
      "1042.829833984375: task completion (1,5,1)\n",
      "stage completion\n",
      "n_workers=1\n",
      "\n",
      "1090.17041015625: task completion (1,4,0)\n",
      "n_workers=1\n",
      "\n",
      "1137.510986328125: task completion (1,4,1)\n",
      "n_workers=1\n",
      "\n",
      "1184.8515625: task completion (1,4,2)\n",
      "stage completion\n",
      "n_workers=1\n",
      "\n",
      "1184.8515625: nudge\n",
      "n_workers=3\n",
      "\n",
      "1207.4649658203125: task completion (1,2,0)\n",
      "frontier is empty\n",
      "\n",
      "invalid action\n",
      "1207.4649658203125: task completion (1,2,1)\n",
      "frontier is empty\n",
      "\n",
      "invalid action\n",
      "1207.4649658203125: task completion (1,2,2)\n",
      "stage completion\n",
      "n_workers=2\n",
      "\n",
      "1209.290771484375: task completion (1,3,0)\n",
      "stage completion\n",
      "n_workers=2\n",
      "\n",
      "1239.3907470703125: task completion (1,0,0)\n",
      "frontier is empty\n",
      "\n",
      "invalid action\n",
      "1239.3907470703125: task completion (1,0,1)\n",
      "stage completion\n",
      "frontier is empty\n",
      "\n",
      "invalid action\n",
      "1246.2684326171875: task completion (1,1,0)\n",
      "frontier is empty\n",
      "\n",
      "invalid action\n",
      "1246.2684326171875: task completion (1,1,1)\n",
      "stage completion\n",
      "job completion\n",
      "frontier is empty\n",
      "\n",
      "invalid action\n",
      "all jobs completed!\n"
     ]
    }
   ],
   "source": [
    "obs = env.reset()\n",
    "done = False\n",
    "\n",
    "while not done:    \n",
    "    frontier_stages = obs.get_frontier_stages()\n",
    "    avail_workers = obs.find_available_workers()\n",
    "    \n",
    "    if len(avail_workers) == 0 or len(frontier_stages) == 0:\n",
    "        if len(avail_workers) == 0:\n",
    "            print('no available workers')\n",
    "        else:\n",
    "            print('frontier is empty')\n",
    "        action = {\n",
    "            'job_id': args.n_jobs,\n",
    "            'stage_id': args.max_stages,\n",
    "            'worker_type_counts': np.zeros(args.n_worker_types)\n",
    "        }\n",
    "    else:\n",
    "        for stage in frontier_stages:\n",
    "            for worker in avail_workers:\n",
    "                if worker.compatible_with(stage):\n",
    "                    first_stage = stage\n",
    "        \n",
    "        stage_id = first_stage.id_\n",
    "        job_id = first_stage.job_id\n",
    "        \n",
    "        avail_counts = obs.get_avail_worker_counts(args.n_worker_types)\n",
    "        \n",
    "        stage = obs.jobs[job_id].stages[stage_id]\n",
    "        worker_types = stage.compatible_worker_types()\n",
    "        \n",
    "        n_workers = 0\n",
    "        worker_type_counts = np.zeros(args.n_worker_types, dtype=int)\n",
    "        for worker_type in worker_types:\n",
    "            if n_workers == stage.n_remaining_tasks:\n",
    "                break\n",
    "            avail_count = avail_counts[worker_type]\n",
    "            request_count = int(min(stage.n_remaining_tasks - n_workers, avail_count))\n",
    "            worker_type_counts[worker_type] = request_count\n",
    "            n_workers += request_count\n",
    "        \n",
    "        print(f'n_workers={n_workers}')\n",
    "\n",
    "        action = {\n",
    "            'job_id': job_id,\n",
    "            'stage_id': stage_id,\n",
    "            'worker_type_counts': worker_type_counts\n",
    "        }\n",
    "    \n",
    "    print()\n",
    "    prev_obs = copy(obs)\n",
    "    obs, _, done, _ = env.step(action)"
   ]
  },
  {
   "cell_type": "code",
   "execution_count": 4,
   "id": "43cd15d3",
   "metadata": {},
   "outputs": [
    {
     "data": {
      "text/plain": [
       "False"
      ]
     },
     "execution_count": 4,
     "metadata": {},
     "output_type": "execute_result"
    }
   ],
   "source": [
    "env.observation_space.contains(asdict(prev_obs))\n",
    "# asdict(prev_obs)"
   ]
  },
  {
   "cell_type": "code",
   "execution_count": 3,
   "id": "c85e653e",
   "metadata": {},
   "outputs": [
    {
     "data": {
      "application/vnd.plotly.v1+json": {
       "config": {
        "plotlyServerURL": "https://plot.ly"
       },
       "data": [
        {
         "alignmentgroup": "True",
         "base": [
          1092.8472900390625,
          1092.8472900390625,
          1054.34423828125,
          1054.34423828125,
          1032.538818359375,
          1032.538818359375,
          1032.538818359375,
          1008.9263916015625,
          1008.9263916015625,
          1008.9263916015625,
          39.62186050415039,
          911.95849609375,
          944.2811279296875,
          976.603759765625
         ],
         "hovertemplate": "job_id=0<br>t_accepted=%{base}<br>t_completed=%{x}<br>worker_id=%{y}<extra></extra>",
         "legendgroup": "0",
         "marker": {
          "color": "rgb(76,114,176)"
         },
         "name": "0",
         "offsetgroup": "0",
         "orientation": "h",
         "showlegend": true,
         "textposition": "auto",
         "type": "bar",
         "width": 0.7,
         "x": [
          28.8045654296875,
          28.8045654296875,
          38.5030517578125,
          38.5030517578125,
          21.805419921875,
          21.805419921875,
          21.805419921875,
          35.0986328125,
          23.6124267578125,
          23.6124267578125,
          32.32265090942383,
          32.3226318359375,
          32.3226318359375,
          32.3226318359375
         ],
         "xaxis": "x",
         "y": [
          "0",
          "2",
          "0",
          "2",
          "0",
          "2",
          "4",
          "3",
          "0",
          "2",
          "1",
          "1",
          "1",
          "1"
         ],
         "yaxis": "y"
        },
        {
         "alignmentgroup": "True",
         "base": [
          754.23388671875,
          793.6650390625,
          833.09619140625,
          872.52734375,
          704.1220703125,
          754.23388671875,
          754.23388671875,
          754.23388671875,
          754.23388671875,
          704.1220703125,
          729.177978515625,
          503.6750793457031,
          504.45501708984375,
          514.544921875,
          515.7882690429688,
          58.10687255859375,
          58.10687255859375,
          483.1576843261719,
          561.9697265625,
          597.5078125,
          633.0458984375,
          668.583984375,
          58.10687255859375,
          58.10687255859375
         ],
         "hovertemplate": "job_id=1<br>t_accepted=%{base}<br>t_completed=%{x}<br>worker_id=%{y}<extra></extra>",
         "legendgroup": "1",
         "marker": {
          "color": "rgb(221,132,82)"
         },
         "name": "1",
         "offsetgroup": "1",
         "orientation": "h",
         "showlegend": true,
         "textposition": "auto",
         "type": "bar",
         "width": 0.7,
         "x": [
          39.43115234375,
          39.43115234375,
          39.43115234375,
          39.43115234375,
          18.893310546875,
          9.8470458984375,
          9.8470458984375,
          9.8470458984375,
          9.8470458984375,
          25.055908203125,
          25.055908203125,
          36.049407958984375,
          36.04937744140625,
          36.04937744140625,
          36.04937744140625,
          31.38726806640625,
          31.38726806640625,
          31.387237548828125,
          35.5380859375,
          35.5380859375,
          35.5380859375,
          35.5380859375,
          40.26982116699219,
          40.26982116699219
         ],
         "xaxis": "x",
         "y": [
          "1",
          "1",
          "1",
          "1",
          "0",
          "0",
          "2",
          "3",
          "4",
          "1",
          "1",
          "2",
          "0",
          "3",
          "4",
          "3",
          "4",
          "3",
          "1",
          "1",
          "1",
          "1",
          "0",
          "2"
         ],
         "yaxis": "y"
        },
        {
         "alignmentgroup": "True",
         "base": [
          481.1828308105469,
          520.2117919921875,
          541.0907592773438,
          456.625,
          466.5183410644531,
          475.6317443847656,
          476.41168212890625,
          465.20819091796875,
          349.9674072265625,
          382.6705627441406,
          408.6019592285156,
          319.7293701171875
         ],
         "hovertemplate": "job_id=2<br>t_accepted=%{base}<br>t_completed=%{x}<br>worker_id=%{y}<extra></extra>",
         "legendgroup": "2",
         "marker": {
          "color": "rgb(85,168,104)"
         },
         "name": "2",
         "offsetgroup": "2",
         "orientation": "h",
         "showlegend": true,
         "textposition": "auto",
         "type": "bar",
         "width": 0.7,
         "x": [
          20.87896728515625,
          20.87896728515625,
          20.87896728515625,
          9.893341064453125,
          9.893341064453125,
          9.893341064453125,
          9.893341064453125,
          15.974639892578125,
          28.959259033203125,
          28.959259033203125,
          28.959259033203125,
          30.238037109375
         ],
         "xaxis": "x",
         "y": [
          "1",
          "1",
          "1",
          "0",
          "0",
          "2",
          "0",
          "1",
          "1",
          "2",
          "1",
          "1"
         ],
         "yaxis": "y"
        },
        {
         "alignmentgroup": "True",
         "base": [
          485.52508544921875,
          486.3050231933594,
          497.6382751464844,
          502.0617980957031,
          483.1999206542969,
          437.56121826171875,
          447.9847717285156,
          455.5107116699219,
          455.5529479980469,
          388.0183410644531,
          388.0605773925781,
          389.13262939453125,
          367.2403259277344,
          374.9554443359375,
          380.30322265625,
          71.94451141357422,
          255.0936279296875,
          264.6430358886719,
          270.3268127441406
         ],
         "hovertemplate": "job_id=3<br>t_accepted=%{base}<br>t_completed=%{x}<br>worker_id=%{y}<extra></extra>",
         "legendgroup": "3",
         "marker": {
          "color": "rgb(196,78,82)"
         },
         "name": "3",
         "offsetgroup": "3",
         "orientation": "h",
         "showlegend": true,
         "textposition": "auto",
         "type": "bar",
         "width": 0.7,
         "x": [
          18.149993896484375,
          18.149993896484375,
          18.149993896484375,
          18.149993896484375,
          14.4383544921875,
          27.64697265625,
          27.64697265625,
          27.64697265625,
          27.64697265625,
          31.137420654296875,
          31.137420654296875,
          31.137420654296875,
          7.715118408203125,
          7.715118408203125,
          7.715118408203125,
          40.27787780761719,
          45.27099609375,
          45.27099609375,
          45.27099609375
         ],
         "xaxis": "x",
         "y": [
          "2",
          "0",
          "4",
          "1",
          "4",
          "1",
          "2",
          "3",
          "4",
          "3",
          "4",
          "0",
          "2",
          "2",
          "3",
          "1",
          "3",
          "4",
          "0"
         ],
         "yaxis": "y"
        },
        {
         "alignmentgroup": "True",
         "base": [
          364.6419677734375,
          365.7140197753906,
          356.7655334472656,
          411.62982177734375,
          419.15576171875,
          419.197998046875,
          420.2700500488281,
          378.9266662597656,
          315.5978088378906,
          317.1241149902344,
          322.2394104003906,
          339.5024719238281,
          273.0098571777344,
          214.1538543701172,
          223.7032470703125,
          229.38702392578125,
          232.070068359375
         ],
         "hovertemplate": "job_id=4<br>t_accepted=%{base}<br>t_completed=%{x}<br>worker_id=%{y}<extra></extra>",
         "legendgroup": "4",
         "marker": {
          "color": "rgb(129,114,179)"
         },
         "name": "4",
         "offsetgroup": "4",
         "orientation": "h",
         "showlegend": true,
         "textposition": "auto",
         "type": "bar",
         "width": 0.7,
         "x": [
          23.418609619140625,
          23.418609619140625,
          23.537689208984375,
          36.354949951171875,
          36.354949951171875,
          36.354949951171875,
          36.354949951171875,
          29.67529296875,
          17.2630615234375,
          17.2630615234375,
          17.2630615234375,
          17.2630615234375,
          44.1142578125,
          40.93977355957031,
          40.939788818359375,
          40.939788818359375,
          40.939788818359375
         ],
         "xaxis": "x",
         "y": [
          "4",
          "0",
          "3",
          "2",
          "3",
          "4",
          "0",
          "1",
          "0",
          "2",
          "3",
          "3",
          "2",
          "3",
          "4",
          "0",
          "2"
         ],
         "yaxis": "y"
        },
        {
         "alignmentgroup": "True",
         "base": [
          198.34707641601562,
          207.89646911621094,
          89.494140625,
          89.494140625
         ],
         "hovertemplate": "job_id=5<br>t_accepted=%{base}<br>t_completed=%{x}<br>worker_id=%{y}<extra></extra>",
         "legendgroup": "5",
         "marker": {
          "color": "rgb(147,120,96)"
         },
         "name": "5",
         "offsetgroup": "5",
         "orientation": "h",
         "showlegend": true,
         "textposition": "auto",
         "type": "bar",
         "width": 0.7,
         "x": [
          15.806777954101562,
          15.806777954101562,
          7.8530731201171875,
          7.8530731201171875
         ],
         "xaxis": "x",
         "y": [
          "3",
          "4",
          "3",
          "4"
         ],
         "yaxis": "y"
        },
        {
         "alignmentgroup": "True",
         "base": [
          148.00906372070312,
          157.55845642089844,
          179.04901123046875,
          181.7320556640625,
          144.7469024658203,
          147.42994689941406,
          98.37669372558594
         ],
         "hovertemplate": "job_id=6<br>t_accepted=%{base}<br>t_completed=%{x}<br>worker_id=%{y}<extra></extra>",
         "legendgroup": "6",
         "marker": {
          "color": "rgb(218,139,195)"
         },
         "name": "6",
         "offsetgroup": "6",
         "orientation": "h",
         "showlegend": true,
         "textposition": "auto",
         "type": "bar",
         "width": 0.7,
         "x": [
          50.3380126953125,
          50.3380126953125,
          50.3380126953125,
          50.3380126953125,
          34.30210876464844,
          34.30210876464844,
          25.041969299316406
         ],
         "xaxis": "x",
         "y": [
          "3",
          "4",
          "0",
          "2",
          "0",
          "2",
          "2"
         ],
         "yaxis": "y"
        },
        {
         "alignmentgroup": "True",
         "base": [
          331.788818359375,
          332.8608703613281,
          334.3871765136719,
          134.57666015625,
          275.97979736328125,
          297.8545837402344,
          300.3646240234375,
          309.9140319824219,
          97.34721374511719,
          98.37669372558594,
          257.98895263671875,
          266.984375,
          97.34721374511719
         ],
         "hovertemplate": "job_id=7<br>t_accepted=%{base}<br>t_completed=%{x}<br>worker_id=%{y}<extra></extra>",
         "legendgroup": "7",
         "marker": {
          "color": "rgb(140,140,140)"
         },
         "name": "7",
         "offsetgroup": "7",
         "orientation": "h",
         "showlegend": true,
         "textposition": "auto",
         "type": "bar",
         "width": 0.7,
         "x": [
          32.8531494140625,
          32.8531494140625,
          32.8531494140625,
          10.170242309570312,
          21.874786376953125,
          21.874786376953125,
          21.874786376953125,
          21.874786376953125,
          36.19996643066406,
          36.19996643066406,
          8.99542236328125,
          8.99542236328125,
          26.65057373046875
         ],
         "xaxis": "x",
         "y": [
          "4",
          "0",
          "2",
          "0",
          "1",
          "1",
          "3",
          "4",
          "4",
          "0",
          "1",
          "1",
          "3"
         ],
         "yaxis": "y"
        },
        {
         "alignmentgroup": "True",
         "base": [
          188.18917846679688,
          223.0890655517578,
          123.41866302490234,
          123.99778747558594,
          133.54718017578125
         ],
         "hovertemplate": "job_id=8<br>t_accepted=%{base}<br>t_completed=%{x}<br>worker_id=%{y}<extra></extra>",
         "legendgroup": "8",
         "marker": {
          "color": "rgb(204,185,116)"
         },
         "name": "8",
         "offsetgroup": "8",
         "orientation": "h",
         "showlegend": true,
         "textposition": "auto",
         "type": "bar",
         "width": 0.7,
         "x": [
          34.89988708496094,
          34.89988708496094,
          24.01128387451172,
          24.011276245117188,
          24.011276245117188
         ],
         "xaxis": "x",
         "y": [
          "1",
          "1",
          "2",
          "3",
          "4"
         ],
         "yaxis": "y"
        },
        {
         "alignmentgroup": "True",
         "base": [
          148.70101928710938,
          168.44509887695312,
          112.2223892211914
         ],
         "hovertemplate": "job_id=9<br>t_accepted=%{base}<br>t_completed=%{x}<br>worker_id=%{y}<extra></extra>",
         "legendgroup": "9",
         "marker": {
          "color": "rgb(100,181,205)"
         },
         "name": "9",
         "offsetgroup": "9",
         "orientation": "h",
         "showlegend": true,
         "textposition": "auto",
         "type": "bar",
         "width": 0.7,
         "x": [
          19.74407958984375,
          19.74407958984375,
          36.47863006591797
         ],
         "xaxis": "x",
         "y": [
          "1",
          "1",
          "1"
         ],
         "yaxis": "y"
        }
       ],
       "layout": {
        "annotations": [
         {
          "font": {
           "color": "white",
           "size": 8
          },
          "showarrow": false,
          "text": "0",
          "x": 1107.24951171875,
          "y": "0"
         },
         {
          "font": {
           "color": "white",
           "size": 8
          },
          "showarrow": false,
          "text": "0",
          "x": 1107.24951171875,
          "y": "2"
         },
         {
          "font": {
           "color": "white",
           "size": 8
          },
          "showarrow": false,
          "text": "1",
          "x": 1073.595703125,
          "y": "0"
         },
         {
          "font": {
           "color": "white",
           "size": 8
          },
          "showarrow": false,
          "text": "1",
          "x": 1073.595703125,
          "y": "2"
         },
         {
          "font": {
           "color": "white",
           "size": 8
          },
          "showarrow": false,
          "text": "2",
          "x": 1043.4415283203125,
          "y": "0"
         },
         {
          "font": {
           "color": "white",
           "size": 8
          },
          "showarrow": false,
          "text": "2",
          "x": 1043.4415283203125,
          "y": "2"
         },
         {
          "font": {
           "color": "white",
           "size": 8
          },
          "showarrow": false,
          "text": "2",
          "x": 1043.4415283203125,
          "y": "4"
         },
         {
          "font": {
           "color": "white",
           "size": 8
          },
          "showarrow": false,
          "text": "3",
          "x": 1026.4757080078125,
          "y": "3"
         },
         {
          "font": {
           "color": "white",
           "size": 8
          },
          "showarrow": false,
          "text": "4",
          "x": 1020.7326049804688,
          "y": "0"
         },
         {
          "font": {
           "color": "white",
           "size": 8
          },
          "showarrow": false,
          "text": "4",
          "x": 1020.7326049804688,
          "y": "2"
         },
         {
          "font": {
           "color": "white",
           "size": 8
          },
          "showarrow": false,
          "text": "5",
          "x": 55.78318786621094,
          "y": "1"
         },
         {
          "font": {
           "color": "white",
           "size": 8
          },
          "showarrow": false,
          "text": "5",
          "x": 928.1198120117188,
          "y": "1"
         },
         {
          "font": {
           "color": "white",
           "size": 8
          },
          "showarrow": false,
          "text": "5",
          "x": 960.4424438476562,
          "y": "1"
         },
         {
          "font": {
           "color": "white",
           "size": 8
          },
          "showarrow": false,
          "text": "5",
          "x": 992.7650756835938,
          "y": "1"
         },
         {
          "font": {
           "color": "white",
           "size": 8
          },
          "showarrow": false,
          "text": "0",
          "x": 773.949462890625,
          "y": "1"
         },
         {
          "font": {
           "color": "white",
           "size": 8
          },
          "showarrow": false,
          "text": "0",
          "x": 813.380615234375,
          "y": "1"
         },
         {
          "font": {
           "color": "white",
           "size": 8
          },
          "showarrow": false,
          "text": "0",
          "x": 852.811767578125,
          "y": "1"
         },
         {
          "font": {
           "color": "white",
           "size": 8
          },
          "showarrow": false,
          "text": "0",
          "x": 892.242919921875,
          "y": "1"
         },
         {
          "font": {
           "color": "white",
           "size": 8
          },
          "showarrow": false,
          "text": "1",
          "x": 713.5687255859375,
          "y": "0"
         },
         {
          "font": {
           "color": "white",
           "size": 8
          },
          "showarrow": false,
          "text": "2",
          "x": 759.1574096679688,
          "y": "0"
         },
         {
          "font": {
           "color": "white",
           "size": 8
          },
          "showarrow": false,
          "text": "2",
          "x": 759.1574096679688,
          "y": "2"
         },
         {
          "font": {
           "color": "white",
           "size": 8
          },
          "showarrow": false,
          "text": "2",
          "x": 759.1574096679688,
          "y": "3"
         },
         {
          "font": {
           "color": "white",
           "size": 8
          },
          "showarrow": false,
          "text": "2",
          "x": 759.1574096679688,
          "y": "4"
         },
         {
          "font": {
           "color": "white",
           "size": 8
          },
          "showarrow": false,
          "text": "3",
          "x": 716.6500244140625,
          "y": "1"
         },
         {
          "font": {
           "color": "white",
           "size": 8
          },
          "showarrow": false,
          "text": "3",
          "x": 741.7059326171875,
          "y": "1"
         },
         {
          "font": {
           "color": "white",
           "size": 8
          },
          "showarrow": false,
          "text": "4",
          "x": 521.6997680664062,
          "y": "2"
         },
         {
          "font": {
           "color": "white",
           "size": 8
          },
          "showarrow": false,
          "text": "4",
          "x": 522.479736328125,
          "y": "0"
         },
         {
          "font": {
           "color": "white",
           "size": 8
          },
          "showarrow": false,
          "text": "4",
          "x": 532.569580078125,
          "y": "3"
         },
         {
          "font": {
           "color": "white",
           "size": 8
          },
          "showarrow": false,
          "text": "4",
          "x": 533.81298828125,
          "y": "4"
         },
         {
          "font": {
           "color": "white",
           "size": 8
          },
          "showarrow": false,
          "text": "5",
          "x": 73.80050659179688,
          "y": "3"
         },
         {
          "font": {
           "color": "white",
           "size": 8
          },
          "showarrow": false,
          "text": "5",
          "x": 73.80050659179688,
          "y": "4"
         },
         {
          "font": {
           "color": "white",
           "size": 8
          },
          "showarrow": false,
          "text": "5",
          "x": 498.851318359375,
          "y": "3"
         },
         {
          "font": {
           "color": "white",
           "size": 8
          },
          "showarrow": false,
          "text": "6",
          "x": 579.73876953125,
          "y": "1"
         },
         {
          "font": {
           "color": "white",
           "size": 8
          },
          "showarrow": false,
          "text": "6",
          "x": 615.27685546875,
          "y": "1"
         },
         {
          "font": {
           "color": "white",
           "size": 8
          },
          "showarrow": false,
          "text": "6",
          "x": 650.81494140625,
          "y": "1"
         },
         {
          "font": {
           "color": "white",
           "size": 8
          },
          "showarrow": false,
          "text": "6",
          "x": 686.35302734375,
          "y": "1"
         },
         {
          "font": {
           "color": "white",
           "size": 8
          },
          "showarrow": false,
          "text": "7",
          "x": 78.24178314208984,
          "y": "0"
         },
         {
          "font": {
           "color": "white",
           "size": 8
          },
          "showarrow": false,
          "text": "7",
          "x": 78.24178314208984,
          "y": "2"
         },
         {
          "font": {
           "color": "white",
           "size": 8
          },
          "showarrow": false,
          "text": "0",
          "x": 491.622314453125,
          "y": "1"
         },
         {
          "font": {
           "color": "white",
           "size": 8
          },
          "showarrow": false,
          "text": "0",
          "x": 530.6512451171875,
          "y": "1"
         },
         {
          "font": {
           "color": "white",
           "size": 8
          },
          "showarrow": false,
          "text": "0",
          "x": 551.5302734375,
          "y": "1"
         },
         {
          "font": {
           "color": "white",
           "size": 8
          },
          "showarrow": false,
          "text": "1",
          "x": 461.5716552734375,
          "y": "0"
         },
         {
          "font": {
           "color": "white",
           "size": 8
          },
          "showarrow": false,
          "text": "1",
          "x": 471.46502685546875,
          "y": "0"
         },
         {
          "font": {
           "color": "white",
           "size": 8
          },
          "showarrow": false,
          "text": "1",
          "x": 480.57843017578125,
          "y": "2"
         },
         {
          "font": {
           "color": "white",
           "size": 8
          },
          "showarrow": false,
          "text": "1",
          "x": 481.35833740234375,
          "y": "0"
         },
         {
          "font": {
           "color": "white",
           "size": 8
          },
          "showarrow": false,
          "text": "2",
          "x": 473.19549560546875,
          "y": "1"
         },
         {
          "font": {
           "color": "white",
           "size": 8
          },
          "showarrow": false,
          "text": "3",
          "x": 364.447021484375,
          "y": "1"
         },
         {
          "font": {
           "color": "white",
           "size": 8
          },
          "showarrow": false,
          "text": "3",
          "x": 397.15020751953125,
          "y": "2"
         },
         {
          "font": {
           "color": "white",
           "size": 8
          },
          "showarrow": false,
          "text": "3",
          "x": 423.08160400390625,
          "y": "1"
         },
         {
          "font": {
           "color": "white",
           "size": 8
          },
          "showarrow": false,
          "text": "4",
          "x": 334.848388671875,
          "y": "1"
         },
         {
          "font": {
           "color": "white",
           "size": 8
          },
          "showarrow": false,
          "text": "0",
          "x": 494.60009765625,
          "y": "2"
         },
         {
          "font": {
           "color": "white",
           "size": 8
          },
          "showarrow": false,
          "text": "0",
          "x": 495.3800048828125,
          "y": "0"
         },
         {
          "font": {
           "color": "white",
           "size": 8
          },
          "showarrow": false,
          "text": "0",
          "x": 506.7132568359375,
          "y": "4"
         },
         {
          "font": {
           "color": "white",
           "size": 8
          },
          "showarrow": false,
          "text": "0",
          "x": 511.13677978515625,
          "y": "1"
         },
         {
          "font": {
           "color": "white",
           "size": 8
          },
          "showarrow": false,
          "text": "1",
          "x": 490.4190979003906,
          "y": "4"
         },
         {
          "font": {
           "color": "white",
           "size": 8
          },
          "showarrow": false,
          "text": "2",
          "x": 451.38470458984375,
          "y": "1"
         },
         {
          "font": {
           "color": "white",
           "size": 8
          },
          "showarrow": false,
          "text": "2",
          "x": 461.8082580566406,
          "y": "2"
         },
         {
          "font": {
           "color": "white",
           "size": 8
          },
          "showarrow": false,
          "text": "2",
          "x": 469.3341979980469,
          "y": "3"
         },
         {
          "font": {
           "color": "white",
           "size": 8
          },
          "showarrow": false,
          "text": "2",
          "x": 469.3764343261719,
          "y": "4"
         },
         {
          "font": {
           "color": "white",
           "size": 8
          },
          "showarrow": false,
          "text": "3",
          "x": 403.5870361328125,
          "y": "3"
         },
         {
          "font": {
           "color": "white",
           "size": 8
          },
          "showarrow": false,
          "text": "3",
          "x": 403.6292724609375,
          "y": "4"
         },
         {
          "font": {
           "color": "white",
           "size": 8
          },
          "showarrow": false,
          "text": "3",
          "x": 404.70135498046875,
          "y": "0"
         },
         {
          "font": {
           "color": "white",
           "size": 8
          },
          "showarrow": false,
          "text": "4",
          "x": 371.097900390625,
          "y": "2"
         },
         {
          "font": {
           "color": "white",
           "size": 8
          },
          "showarrow": false,
          "text": "4",
          "x": 378.81298828125,
          "y": "2"
         },
         {
          "font": {
           "color": "white",
           "size": 8
          },
          "showarrow": false,
          "text": "4",
          "x": 384.1607666015625,
          "y": "3"
         },
         {
          "font": {
           "color": "white",
           "size": 8
          },
          "showarrow": false,
          "text": "5",
          "x": 92.08345031738281,
          "y": "1"
         },
         {
          "font": {
           "color": "white",
           "size": 8
          },
          "showarrow": false,
          "text": "6",
          "x": 277.7291259765625,
          "y": "3"
         },
         {
          "font": {
           "color": "white",
           "size": 8
          },
          "showarrow": false,
          "text": "6",
          "x": 287.2785339355469,
          "y": "4"
         },
         {
          "font": {
           "color": "white",
           "size": 8
          },
          "showarrow": false,
          "text": "6",
          "x": 292.9623107910156,
          "y": "0"
         },
         {
          "font": {
           "color": "white",
           "size": 8
          },
          "showarrow": false,
          "text": "0",
          "x": 376.35125732421875,
          "y": "4"
         },
         {
          "font": {
           "color": "white",
           "size": 8
          },
          "showarrow": false,
          "text": "0",
          "x": 377.42333984375,
          "y": "0"
         },
         {
          "font": {
           "color": "white",
           "size": 8
          },
          "showarrow": false,
          "text": "1",
          "x": 368.53436279296875,
          "y": "3"
         },
         {
          "font": {
           "color": "white",
           "size": 8
          },
          "showarrow": false,
          "text": "2",
          "x": 429.80731201171875,
          "y": "2"
         },
         {
          "font": {
           "color": "white",
           "size": 8
          },
          "showarrow": false,
          "text": "2",
          "x": 437.333251953125,
          "y": "3"
         },
         {
          "font": {
           "color": "white",
           "size": 8
          },
          "showarrow": false,
          "text": "2",
          "x": 437.37548828125,
          "y": "4"
         },
         {
          "font": {
           "color": "white",
           "size": 8
          },
          "showarrow": false,
          "text": "2",
          "x": 438.447509765625,
          "y": "0"
         },
         {
          "font": {
           "color": "white",
           "size": 8
          },
          "showarrow": false,
          "text": "3",
          "x": 393.7643127441406,
          "y": "1"
         },
         {
          "font": {
           "color": "white",
           "size": 8
          },
          "showarrow": false,
          "text": "4",
          "x": 324.2293395996094,
          "y": "0"
         },
         {
          "font": {
           "color": "white",
           "size": 8
          },
          "showarrow": false,
          "text": "4",
          "x": 325.7556457519531,
          "y": "2"
         },
         {
          "font": {
           "color": "white",
           "size": 8
          },
          "showarrow": false,
          "text": "4",
          "x": 330.8709411621094,
          "y": "3"
         },
         {
          "font": {
           "color": "white",
           "size": 8
          },
          "showarrow": false,
          "text": "4",
          "x": 348.1340026855469,
          "y": "3"
         },
         {
          "font": {
           "color": "white",
           "size": 8
          },
          "showarrow": false,
          "text": "5",
          "x": 295.0669860839844,
          "y": "2"
         },
         {
          "font": {
           "color": "white",
           "size": 8
          },
          "showarrow": false,
          "text": "6",
          "x": 234.62374877929688,
          "y": "3"
         },
         {
          "font": {
           "color": "white",
           "size": 8
          },
          "showarrow": false,
          "text": "6",
          "x": 244.1731414794922,
          "y": "4"
         },
         {
          "font": {
           "color": "white",
           "size": 8
          },
          "showarrow": false,
          "text": "6",
          "x": 249.85691833496094,
          "y": "0"
         },
         {
          "font": {
           "color": "white",
           "size": 8
          },
          "showarrow": false,
          "text": "6",
          "x": 252.5399627685547,
          "y": "2"
         },
         {
          "font": {
           "color": "white",
           "size": 8
          },
          "showarrow": false,
          "text": "0",
          "x": 206.25045776367188,
          "y": "3"
         },
         {
          "font": {
           "color": "white",
           "size": 8
          },
          "showarrow": false,
          "text": "0",
          "x": 215.79986572265625,
          "y": "4"
         },
         {
          "font": {
           "color": "white",
           "size": 8
          },
          "showarrow": false,
          "text": "1",
          "x": 93.4206771850586,
          "y": "3"
         },
         {
          "font": {
           "color": "white",
           "size": 8
          },
          "showarrow": false,
          "text": "1",
          "x": 93.4206771850586,
          "y": "4"
         },
         {
          "font": {
           "color": "white",
           "size": 8
          },
          "showarrow": false,
          "text": "0",
          "x": 173.17807006835938,
          "y": "3"
         },
         {
          "font": {
           "color": "white",
           "size": 8
          },
          "showarrow": false,
          "text": "0",
          "x": 182.7274627685547,
          "y": "4"
         },
         {
          "font": {
           "color": "white",
           "size": 8
          },
          "showarrow": false,
          "text": "0",
          "x": 204.218017578125,
          "y": "0"
         },
         {
          "font": {
           "color": "white",
           "size": 8
          },
          "showarrow": false,
          "text": "0",
          "x": 206.90106201171875,
          "y": "2"
         },
         {
          "font": {
           "color": "white",
           "size": 8
          },
          "showarrow": false,
          "text": "1",
          "x": 161.89794921875,
          "y": "0"
         },
         {
          "font": {
           "color": "white",
           "size": 8
          },
          "showarrow": false,
          "text": "1",
          "x": 164.58099365234375,
          "y": "2"
         },
         {
          "font": {
           "color": "white",
           "size": 8
          },
          "showarrow": false,
          "text": "2",
          "x": 110.89767456054688,
          "y": "2"
         },
         {
          "font": {
           "color": "white",
           "size": 8
          },
          "showarrow": false,
          "text": "0",
          "x": 348.21539306640625,
          "y": "4"
         },
         {
          "font": {
           "color": "white",
           "size": 8
          },
          "showarrow": false,
          "text": "0",
          "x": 349.2874450683594,
          "y": "0"
         },
         {
          "font": {
           "color": "white",
           "size": 8
          },
          "showarrow": false,
          "text": "0",
          "x": 350.8137512207031,
          "y": "2"
         },
         {
          "font": {
           "color": "white",
           "size": 8
          },
          "showarrow": false,
          "text": "1",
          "x": 139.66177368164062,
          "y": "0"
         },
         {
          "font": {
           "color": "white",
           "size": 8
          },
          "showarrow": false,
          "text": "2",
          "x": 286.91717529296875,
          "y": "1"
         },
         {
          "font": {
           "color": "white",
           "size": 8
          },
          "showarrow": false,
          "text": "2",
          "x": 308.7919921875,
          "y": "1"
         },
         {
          "font": {
           "color": "white",
           "size": 8
          },
          "showarrow": false,
          "text": "2",
          "x": 311.302001953125,
          "y": "3"
         },
         {
          "font": {
           "color": "white",
           "size": 8
          },
          "showarrow": false,
          "text": "2",
          "x": 320.8514404296875,
          "y": "4"
         },
         {
          "font": {
           "color": "white",
           "size": 8
          },
          "showarrow": false,
          "text": "3",
          "x": 115.44719696044922,
          "y": "4"
         },
         {
          "font": {
           "color": "white",
           "size": 8
          },
          "showarrow": false,
          "text": "3",
          "x": 116.47667694091797,
          "y": "0"
         },
         {
          "font": {
           "color": "white",
           "size": 8
          },
          "showarrow": false,
          "text": "4",
          "x": 262.4866638183594,
          "y": "1"
         },
         {
          "font": {
           "color": "white",
           "size": 8
          },
          "showarrow": false,
          "text": "4",
          "x": 271.4820861816406,
          "y": "1"
         },
         {
          "font": {
           "color": "white",
           "size": 8
          },
          "showarrow": false,
          "text": "5",
          "x": 110.67250061035156,
          "y": "3"
         },
         {
          "font": {
           "color": "white",
           "size": 8
          },
          "showarrow": false,
          "text": "0",
          "x": 205.63912963867188,
          "y": "1"
         },
         {
          "font": {
           "color": "white",
           "size": 8
          },
          "showarrow": false,
          "text": "0",
          "x": 240.53900146484375,
          "y": "1"
         },
         {
          "font": {
           "color": "white",
           "size": 8
          },
          "showarrow": false,
          "text": "1",
          "x": 135.42430114746094,
          "y": "2"
         },
         {
          "font": {
           "color": "white",
           "size": 8
          },
          "showarrow": false,
          "text": "1",
          "x": 136.00341796875,
          "y": "3"
         },
         {
          "font": {
           "color": "white",
           "size": 8
          },
          "showarrow": false,
          "text": "1",
          "x": 145.55282592773438,
          "y": "4"
         },
         {
          "font": {
           "color": "white",
           "size": 8
          },
          "showarrow": false,
          "text": "0",
          "x": 158.57305908203125,
          "y": "1"
         },
         {
          "font": {
           "color": "white",
           "size": 8
          },
          "showarrow": false,
          "text": "0",
          "x": 178.317138671875,
          "y": "1"
         },
         {
          "font": {
           "color": "white",
           "size": 8
          },
          "showarrow": false,
          "text": "1",
          "x": 130.46170043945312,
          "y": "1"
         }
        ],
        "barmode": "overlay",
        "legend": {
         "title": {
          "text": "job_id"
         },
         "tracegroupgap": 0
        },
        "margin": {
         "t": 60
        },
        "shapes": [
         {
          "line": {
           "color": "green",
           "width": 2
          },
          "type": "line",
          "x0": 1121.65185546875,
          "x1": 1121.65185546875,
          "xref": "x",
          "y0": 0,
          "y1": 1,
          "yref": "y domain"
         },
         {
          "line": {
           "color": "green",
           "width": 2
          },
          "type": "line",
          "x0": 911.95849609375,
          "x1": 911.95849609375,
          "xref": "x",
          "y0": 0,
          "y1": 1,
          "yref": "y domain"
         },
         {
          "line": {
           "color": "green",
           "width": 2
          },
          "type": "line",
          "x0": 561.9697265625,
          "x1": 561.9697265625,
          "xref": "x",
          "y0": 0,
          "y1": 1,
          "yref": "y domain"
         },
         {
          "line": {
           "color": "green",
           "width": 2
          },
          "type": "line",
          "x0": 520.2117919921875,
          "x1": 520.2117919921875,
          "xref": "x",
          "y0": 0,
          "y1": 1,
          "yref": "y domain"
         },
         {
          "line": {
           "color": "green",
           "width": 2
          },
          "type": "line",
          "x0": 456.625,
          "x1": 456.625,
          "xref": "x",
          "y0": 0,
          "y1": 1,
          "yref": "y domain"
         },
         {
          "line": {
           "color": "green",
           "width": 2
          },
          "type": "line",
          "x0": 223.7032470703125,
          "x1": 223.7032470703125,
          "xref": "x",
          "y0": 0,
          "y1": 1,
          "yref": "y domain"
         },
         {
          "line": {
           "color": "green",
           "width": 2
          },
          "type": "line",
          "x0": 232.070068359375,
          "x1": 232.070068359375,
          "xref": "x",
          "y0": 0,
          "y1": 1,
          "yref": "y domain"
         },
         {
          "line": {
           "color": "green",
           "width": 2
          },
          "type": "line",
          "x0": 367.2403259277344,
          "x1": 367.2403259277344,
          "xref": "x",
          "y0": 0,
          "y1": 1,
          "yref": "y domain"
         },
         {
          "line": {
           "color": "green",
           "width": 2
          },
          "type": "line",
          "x0": 257.98895263671875,
          "x1": 257.98895263671875,
          "xref": "x",
          "y0": 0,
          "y1": 1,
          "yref": "y domain"
         },
         {
          "line": {
           "color": "green",
           "width": 2
          },
          "type": "line",
          "x0": 188.18917846679688,
          "x1": 188.18917846679688,
          "xref": "x",
          "y0": 0,
          "y1": 1,
          "yref": "y domain"
         }
        ],
        "template": {
         "data": {
          "bar": [
           {
            "error_x": {
             "color": "rgb(36,36,36)"
            },
            "error_y": {
             "color": "rgb(36,36,36)"
            },
            "marker": {
             "line": {
              "color": "rgb(234,234,242)",
              "width": 0.5
             },
             "pattern": {
              "fillmode": "overlay",
              "size": 10,
              "solidity": 0.2
             }
            },
            "type": "bar"
           }
          ],
          "barpolar": [
           {
            "marker": {
             "line": {
              "color": "rgb(234,234,242)",
              "width": 0.5
             },
             "pattern": {
              "fillmode": "overlay",
              "size": 10,
              "solidity": 0.2
             }
            },
            "type": "barpolar"
           }
          ],
          "carpet": [
           {
            "aaxis": {
             "endlinecolor": "rgb(36,36,36)",
             "gridcolor": "white",
             "linecolor": "white",
             "minorgridcolor": "white",
             "startlinecolor": "rgb(36,36,36)"
            },
            "baxis": {
             "endlinecolor": "rgb(36,36,36)",
             "gridcolor": "white",
             "linecolor": "white",
             "minorgridcolor": "white",
             "startlinecolor": "rgb(36,36,36)"
            },
            "type": "carpet"
           }
          ],
          "choropleth": [
           {
            "colorbar": {
             "outlinewidth": 0,
             "tickcolor": "rgb(36,36,36)",
             "ticklen": 8,
             "ticks": "outside",
             "tickwidth": 2
            },
            "type": "choropleth"
           }
          ],
          "contour": [
           {
            "colorbar": {
             "outlinewidth": 0,
             "tickcolor": "rgb(36,36,36)",
             "ticklen": 8,
             "ticks": "outside",
             "tickwidth": 2
            },
            "colorscale": [
             [
              0,
              "rgb(2,4,25)"
             ],
             [
              0.06274509803921569,
              "rgb(24,15,41)"
             ],
             [
              0.12549019607843137,
              "rgb(47,23,57)"
             ],
             [
              0.18823529411764706,
              "rgb(71,28,72)"
             ],
             [
              0.25098039215686274,
              "rgb(97,30,82)"
             ],
             [
              0.3137254901960784,
              "rgb(123,30,89)"
             ],
             [
              0.3764705882352941,
              "rgb(150,27,91)"
             ],
             [
              0.4392156862745098,
              "rgb(177,22,88)"
             ],
             [
              0.5019607843137255,
              "rgb(203,26,79)"
             ],
             [
              0.5647058823529412,
              "rgb(223,47,67)"
             ],
             [
              0.6274509803921569,
              "rgb(236,76,61)"
             ],
             [
              0.6901960784313725,
              "rgb(242,107,73)"
             ],
             [
              0.7529411764705882,
              "rgb(244,135,95)"
             ],
             [
              0.8156862745098039,
              "rgb(245,162,122)"
             ],
             [
              0.8784313725490196,
              "rgb(246,188,153)"
             ],
             [
              0.9411764705882353,
              "rgb(247,212,187)"
             ],
             [
              1,
              "rgb(250,234,220)"
             ]
            ],
            "type": "contour"
           }
          ],
          "contourcarpet": [
           {
            "colorbar": {
             "outlinewidth": 0,
             "tickcolor": "rgb(36,36,36)",
             "ticklen": 8,
             "ticks": "outside",
             "tickwidth": 2
            },
            "type": "contourcarpet"
           }
          ],
          "heatmap": [
           {
            "colorbar": {
             "outlinewidth": 0,
             "tickcolor": "rgb(36,36,36)",
             "ticklen": 8,
             "ticks": "outside",
             "tickwidth": 2
            },
            "colorscale": [
             [
              0,
              "rgb(2,4,25)"
             ],
             [
              0.06274509803921569,
              "rgb(24,15,41)"
             ],
             [
              0.12549019607843137,
              "rgb(47,23,57)"
             ],
             [
              0.18823529411764706,
              "rgb(71,28,72)"
             ],
             [
              0.25098039215686274,
              "rgb(97,30,82)"
             ],
             [
              0.3137254901960784,
              "rgb(123,30,89)"
             ],
             [
              0.3764705882352941,
              "rgb(150,27,91)"
             ],
             [
              0.4392156862745098,
              "rgb(177,22,88)"
             ],
             [
              0.5019607843137255,
              "rgb(203,26,79)"
             ],
             [
              0.5647058823529412,
              "rgb(223,47,67)"
             ],
             [
              0.6274509803921569,
              "rgb(236,76,61)"
             ],
             [
              0.6901960784313725,
              "rgb(242,107,73)"
             ],
             [
              0.7529411764705882,
              "rgb(244,135,95)"
             ],
             [
              0.8156862745098039,
              "rgb(245,162,122)"
             ],
             [
              0.8784313725490196,
              "rgb(246,188,153)"
             ],
             [
              0.9411764705882353,
              "rgb(247,212,187)"
             ],
             [
              1,
              "rgb(250,234,220)"
             ]
            ],
            "type": "heatmap"
           }
          ],
          "heatmapgl": [
           {
            "colorbar": {
             "outlinewidth": 0,
             "tickcolor": "rgb(36,36,36)",
             "ticklen": 8,
             "ticks": "outside",
             "tickwidth": 2
            },
            "colorscale": [
             [
              0,
              "rgb(2,4,25)"
             ],
             [
              0.06274509803921569,
              "rgb(24,15,41)"
             ],
             [
              0.12549019607843137,
              "rgb(47,23,57)"
             ],
             [
              0.18823529411764706,
              "rgb(71,28,72)"
             ],
             [
              0.25098039215686274,
              "rgb(97,30,82)"
             ],
             [
              0.3137254901960784,
              "rgb(123,30,89)"
             ],
             [
              0.3764705882352941,
              "rgb(150,27,91)"
             ],
             [
              0.4392156862745098,
              "rgb(177,22,88)"
             ],
             [
              0.5019607843137255,
              "rgb(203,26,79)"
             ],
             [
              0.5647058823529412,
              "rgb(223,47,67)"
             ],
             [
              0.6274509803921569,
              "rgb(236,76,61)"
             ],
             [
              0.6901960784313725,
              "rgb(242,107,73)"
             ],
             [
              0.7529411764705882,
              "rgb(244,135,95)"
             ],
             [
              0.8156862745098039,
              "rgb(245,162,122)"
             ],
             [
              0.8784313725490196,
              "rgb(246,188,153)"
             ],
             [
              0.9411764705882353,
              "rgb(247,212,187)"
             ],
             [
              1,
              "rgb(250,234,220)"
             ]
            ],
            "type": "heatmapgl"
           }
          ],
          "histogram": [
           {
            "marker": {
             "pattern": {
              "fillmode": "overlay",
              "size": 10,
              "solidity": 0.2
             }
            },
            "type": "histogram"
           }
          ],
          "histogram2d": [
           {
            "colorbar": {
             "outlinewidth": 0,
             "tickcolor": "rgb(36,36,36)",
             "ticklen": 8,
             "ticks": "outside",
             "tickwidth": 2
            },
            "colorscale": [
             [
              0,
              "rgb(2,4,25)"
             ],
             [
              0.06274509803921569,
              "rgb(24,15,41)"
             ],
             [
              0.12549019607843137,
              "rgb(47,23,57)"
             ],
             [
              0.18823529411764706,
              "rgb(71,28,72)"
             ],
             [
              0.25098039215686274,
              "rgb(97,30,82)"
             ],
             [
              0.3137254901960784,
              "rgb(123,30,89)"
             ],
             [
              0.3764705882352941,
              "rgb(150,27,91)"
             ],
             [
              0.4392156862745098,
              "rgb(177,22,88)"
             ],
             [
              0.5019607843137255,
              "rgb(203,26,79)"
             ],
             [
              0.5647058823529412,
              "rgb(223,47,67)"
             ],
             [
              0.6274509803921569,
              "rgb(236,76,61)"
             ],
             [
              0.6901960784313725,
              "rgb(242,107,73)"
             ],
             [
              0.7529411764705882,
              "rgb(244,135,95)"
             ],
             [
              0.8156862745098039,
              "rgb(245,162,122)"
             ],
             [
              0.8784313725490196,
              "rgb(246,188,153)"
             ],
             [
              0.9411764705882353,
              "rgb(247,212,187)"
             ],
             [
              1,
              "rgb(250,234,220)"
             ]
            ],
            "type": "histogram2d"
           }
          ],
          "histogram2dcontour": [
           {
            "colorbar": {
             "outlinewidth": 0,
             "tickcolor": "rgb(36,36,36)",
             "ticklen": 8,
             "ticks": "outside",
             "tickwidth": 2
            },
            "colorscale": [
             [
              0,
              "rgb(2,4,25)"
             ],
             [
              0.06274509803921569,
              "rgb(24,15,41)"
             ],
             [
              0.12549019607843137,
              "rgb(47,23,57)"
             ],
             [
              0.18823529411764706,
              "rgb(71,28,72)"
             ],
             [
              0.25098039215686274,
              "rgb(97,30,82)"
             ],
             [
              0.3137254901960784,
              "rgb(123,30,89)"
             ],
             [
              0.3764705882352941,
              "rgb(150,27,91)"
             ],
             [
              0.4392156862745098,
              "rgb(177,22,88)"
             ],
             [
              0.5019607843137255,
              "rgb(203,26,79)"
             ],
             [
              0.5647058823529412,
              "rgb(223,47,67)"
             ],
             [
              0.6274509803921569,
              "rgb(236,76,61)"
             ],
             [
              0.6901960784313725,
              "rgb(242,107,73)"
             ],
             [
              0.7529411764705882,
              "rgb(244,135,95)"
             ],
             [
              0.8156862745098039,
              "rgb(245,162,122)"
             ],
             [
              0.8784313725490196,
              "rgb(246,188,153)"
             ],
             [
              0.9411764705882353,
              "rgb(247,212,187)"
             ],
             [
              1,
              "rgb(250,234,220)"
             ]
            ],
            "type": "histogram2dcontour"
           }
          ],
          "mesh3d": [
           {
            "colorbar": {
             "outlinewidth": 0,
             "tickcolor": "rgb(36,36,36)",
             "ticklen": 8,
             "ticks": "outside",
             "tickwidth": 2
            },
            "type": "mesh3d"
           }
          ],
          "parcoords": [
           {
            "line": {
             "colorbar": {
              "outlinewidth": 0,
              "tickcolor": "rgb(36,36,36)",
              "ticklen": 8,
              "ticks": "outside",
              "tickwidth": 2
             }
            },
            "type": "parcoords"
           }
          ],
          "pie": [
           {
            "automargin": true,
            "type": "pie"
           }
          ],
          "scatter": [
           {
            "marker": {
             "colorbar": {
              "outlinewidth": 0,
              "tickcolor": "rgb(36,36,36)",
              "ticklen": 8,
              "ticks": "outside",
              "tickwidth": 2
             }
            },
            "type": "scatter"
           }
          ],
          "scatter3d": [
           {
            "line": {
             "colorbar": {
              "outlinewidth": 0,
              "tickcolor": "rgb(36,36,36)",
              "ticklen": 8,
              "ticks": "outside",
              "tickwidth": 2
             }
            },
            "marker": {
             "colorbar": {
              "outlinewidth": 0,
              "tickcolor": "rgb(36,36,36)",
              "ticklen": 8,
              "ticks": "outside",
              "tickwidth": 2
             }
            },
            "type": "scatter3d"
           }
          ],
          "scattercarpet": [
           {
            "marker": {
             "colorbar": {
              "outlinewidth": 0,
              "tickcolor": "rgb(36,36,36)",
              "ticklen": 8,
              "ticks": "outside",
              "tickwidth": 2
             }
            },
            "type": "scattercarpet"
           }
          ],
          "scattergeo": [
           {
            "marker": {
             "colorbar": {
              "outlinewidth": 0,
              "tickcolor": "rgb(36,36,36)",
              "ticklen": 8,
              "ticks": "outside",
              "tickwidth": 2
             }
            },
            "type": "scattergeo"
           }
          ],
          "scattergl": [
           {
            "marker": {
             "colorbar": {
              "outlinewidth": 0,
              "tickcolor": "rgb(36,36,36)",
              "ticklen": 8,
              "ticks": "outside",
              "tickwidth": 2
             }
            },
            "type": "scattergl"
           }
          ],
          "scattermapbox": [
           {
            "marker": {
             "colorbar": {
              "outlinewidth": 0,
              "tickcolor": "rgb(36,36,36)",
              "ticklen": 8,
              "ticks": "outside",
              "tickwidth": 2
             }
            },
            "type": "scattermapbox"
           }
          ],
          "scatterpolar": [
           {
            "marker": {
             "colorbar": {
              "outlinewidth": 0,
              "tickcolor": "rgb(36,36,36)",
              "ticklen": 8,
              "ticks": "outside",
              "tickwidth": 2
             }
            },
            "type": "scatterpolar"
           }
          ],
          "scatterpolargl": [
           {
            "marker": {
             "colorbar": {
              "outlinewidth": 0,
              "tickcolor": "rgb(36,36,36)",
              "ticklen": 8,
              "ticks": "outside",
              "tickwidth": 2
             }
            },
            "type": "scatterpolargl"
           }
          ],
          "scatterternary": [
           {
            "marker": {
             "colorbar": {
              "outlinewidth": 0,
              "tickcolor": "rgb(36,36,36)",
              "ticklen": 8,
              "ticks": "outside",
              "tickwidth": 2
             }
            },
            "type": "scatterternary"
           }
          ],
          "surface": [
           {
            "colorbar": {
             "outlinewidth": 0,
             "tickcolor": "rgb(36,36,36)",
             "ticklen": 8,
             "ticks": "outside",
             "tickwidth": 2
            },
            "colorscale": [
             [
              0,
              "rgb(2,4,25)"
             ],
             [
              0.06274509803921569,
              "rgb(24,15,41)"
             ],
             [
              0.12549019607843137,
              "rgb(47,23,57)"
             ],
             [
              0.18823529411764706,
              "rgb(71,28,72)"
             ],
             [
              0.25098039215686274,
              "rgb(97,30,82)"
             ],
             [
              0.3137254901960784,
              "rgb(123,30,89)"
             ],
             [
              0.3764705882352941,
              "rgb(150,27,91)"
             ],
             [
              0.4392156862745098,
              "rgb(177,22,88)"
             ],
             [
              0.5019607843137255,
              "rgb(203,26,79)"
             ],
             [
              0.5647058823529412,
              "rgb(223,47,67)"
             ],
             [
              0.6274509803921569,
              "rgb(236,76,61)"
             ],
             [
              0.6901960784313725,
              "rgb(242,107,73)"
             ],
             [
              0.7529411764705882,
              "rgb(244,135,95)"
             ],
             [
              0.8156862745098039,
              "rgb(245,162,122)"
             ],
             [
              0.8784313725490196,
              "rgb(246,188,153)"
             ],
             [
              0.9411764705882353,
              "rgb(247,212,187)"
             ],
             [
              1,
              "rgb(250,234,220)"
             ]
            ],
            "type": "surface"
           }
          ],
          "table": [
           {
            "cells": {
             "fill": {
              "color": "rgb(231,231,240)"
             },
             "line": {
              "color": "white"
             }
            },
            "header": {
             "fill": {
              "color": "rgb(183,183,191)"
             },
             "line": {
              "color": "white"
             }
            },
            "type": "table"
           }
          ]
         },
         "layout": {
          "annotationdefaults": {
           "arrowcolor": "rgb(67,103,167)"
          },
          "autotypenumbers": "strict",
          "coloraxis": {
           "colorbar": {
            "outlinewidth": 0,
            "tickcolor": "rgb(36,36,36)",
            "ticklen": 8,
            "ticks": "outside",
            "tickwidth": 2
           }
          },
          "colorscale": {
           "sequential": [
            [
             0,
             "rgb(2,4,25)"
            ],
            [
             0.06274509803921569,
             "rgb(24,15,41)"
            ],
            [
             0.12549019607843137,
             "rgb(47,23,57)"
            ],
            [
             0.18823529411764706,
             "rgb(71,28,72)"
            ],
            [
             0.25098039215686274,
             "rgb(97,30,82)"
            ],
            [
             0.3137254901960784,
             "rgb(123,30,89)"
            ],
            [
             0.3764705882352941,
             "rgb(150,27,91)"
            ],
            [
             0.4392156862745098,
             "rgb(177,22,88)"
            ],
            [
             0.5019607843137255,
             "rgb(203,26,79)"
            ],
            [
             0.5647058823529412,
             "rgb(223,47,67)"
            ],
            [
             0.6274509803921569,
             "rgb(236,76,61)"
            ],
            [
             0.6901960784313725,
             "rgb(242,107,73)"
            ],
            [
             0.7529411764705882,
             "rgb(244,135,95)"
            ],
            [
             0.8156862745098039,
             "rgb(245,162,122)"
            ],
            [
             0.8784313725490196,
             "rgb(246,188,153)"
            ],
            [
             0.9411764705882353,
             "rgb(247,212,187)"
            ],
            [
             1,
             "rgb(250,234,220)"
            ]
           ],
           "sequentialminus": [
            [
             0,
             "rgb(2,4,25)"
            ],
            [
             0.06274509803921569,
             "rgb(24,15,41)"
            ],
            [
             0.12549019607843137,
             "rgb(47,23,57)"
            ],
            [
             0.18823529411764706,
             "rgb(71,28,72)"
            ],
            [
             0.25098039215686274,
             "rgb(97,30,82)"
            ],
            [
             0.3137254901960784,
             "rgb(123,30,89)"
            ],
            [
             0.3764705882352941,
             "rgb(150,27,91)"
            ],
            [
             0.4392156862745098,
             "rgb(177,22,88)"
            ],
            [
             0.5019607843137255,
             "rgb(203,26,79)"
            ],
            [
             0.5647058823529412,
             "rgb(223,47,67)"
            ],
            [
             0.6274509803921569,
             "rgb(236,76,61)"
            ],
            [
             0.6901960784313725,
             "rgb(242,107,73)"
            ],
            [
             0.7529411764705882,
             "rgb(244,135,95)"
            ],
            [
             0.8156862745098039,
             "rgb(245,162,122)"
            ],
            [
             0.8784313725490196,
             "rgb(246,188,153)"
            ],
            [
             0.9411764705882353,
             "rgb(247,212,187)"
            ],
            [
             1,
             "rgb(250,234,220)"
            ]
           ]
          },
          "colorway": [
           "rgb(76,114,176)",
           "rgb(221,132,82)",
           "rgb(85,168,104)",
           "rgb(196,78,82)",
           "rgb(129,114,179)",
           "rgb(147,120,96)",
           "rgb(218,139,195)",
           "rgb(140,140,140)",
           "rgb(204,185,116)",
           "rgb(100,181,205)"
          ],
          "font": {
           "color": "rgb(36,36,36)"
          },
          "geo": {
           "bgcolor": "white",
           "lakecolor": "white",
           "landcolor": "rgb(234,234,242)",
           "showlakes": true,
           "showland": true,
           "subunitcolor": "white"
          },
          "hoverlabel": {
           "align": "left"
          },
          "hovermode": "closest",
          "paper_bgcolor": "white",
          "plot_bgcolor": "rgb(234,234,242)",
          "polar": {
           "angularaxis": {
            "gridcolor": "white",
            "linecolor": "white",
            "showgrid": true,
            "ticks": ""
           },
           "bgcolor": "rgb(234,234,242)",
           "radialaxis": {
            "gridcolor": "white",
            "linecolor": "white",
            "showgrid": true,
            "ticks": ""
           }
          },
          "scene": {
           "xaxis": {
            "backgroundcolor": "rgb(234,234,242)",
            "gridcolor": "white",
            "gridwidth": 2,
            "linecolor": "white",
            "showbackground": true,
            "showgrid": true,
            "ticks": "",
            "zerolinecolor": "white"
           },
           "yaxis": {
            "backgroundcolor": "rgb(234,234,242)",
            "gridcolor": "white",
            "gridwidth": 2,
            "linecolor": "white",
            "showbackground": true,
            "showgrid": true,
            "ticks": "",
            "zerolinecolor": "white"
           },
           "zaxis": {
            "backgroundcolor": "rgb(234,234,242)",
            "gridcolor": "white",
            "gridwidth": 2,
            "linecolor": "white",
            "showbackground": true,
            "showgrid": true,
            "ticks": "",
            "zerolinecolor": "white"
           }
          },
          "shapedefaults": {
           "fillcolor": "rgb(67,103,167)",
           "line": {
            "width": 0
           },
           "opacity": 0.5
          },
          "ternary": {
           "aaxis": {
            "gridcolor": "white",
            "linecolor": "white",
            "showgrid": true,
            "ticks": ""
           },
           "baxis": {
            "gridcolor": "white",
            "linecolor": "white",
            "showgrid": true,
            "ticks": ""
           },
           "bgcolor": "rgb(234,234,242)",
           "caxis": {
            "gridcolor": "white",
            "linecolor": "white",
            "showgrid": true,
            "ticks": ""
           }
          },
          "xaxis": {
           "automargin": true,
           "gridcolor": "white",
           "linecolor": "white",
           "showgrid": true,
           "ticks": "",
           "title": {
            "standoff": 15
           },
           "zerolinecolor": "white"
          },
          "yaxis": {
           "automargin": true,
           "gridcolor": "white",
           "linecolor": "white",
           "showgrid": true,
           "ticks": "",
           "title": {
            "standoff": 15
           },
           "zerolinecolor": "white"
          }
         }
        },
        "xaxis": {
         "anchor": "y",
         "domain": [
          0,
          1
         ],
         "type": "linear"
        },
        "yaxis": {
         "anchor": "x",
         "categoryarray": [
          "0",
          "1",
          "2",
          "3",
          "4"
         ],
         "categoryorder": "array",
         "domain": [
          0,
          1
         ],
         "title": {
          "text": "worker_id"
         }
        }
       }
      }
     },
     "metadata": {},
     "output_type": "display_data"
    }
   ],
   "source": [
    "fig_gantt, df_gantt = make_gantt(prev_obs)\n",
    "fig_gantt.show()"
   ]
  },
  {
   "cell_type": "code",
   "execution_count": 5,
   "id": "b33ae5ea",
   "metadata": {},
   "outputs": [
    {
     "data": {
      "image/png": "[encoded data removed]",
      "text/plain": [
       "<Figure size 432x288 with 1 Axes>"
      ]
     },
     "metadata": {},
     "output_type": "display_data"
    }
   ],
   "source": [
    "import networkx as nx\n",
    "G = prev_obs.jobs[5].dag_to_nx()\n",
    "nx.draw(G, with_labels=True)"
   ]
  },
  {
   "cell_type": "code",
   "execution_count": 16,
   "id": "ab71e891",
   "metadata": {},
   "outputs": [
    {
     "data": {
      "text/plain": [
       "4"
      ]
     },
     "execution_count": 16,
     "metadata": {},
     "output_type": "execute_result"
    }
   ],
   "source": [
    "prev_obs.jobs[5].stages[2].n_tasks"
   ]
  },
  {
   "cell_type": "code",
   "execution_count": null,
   "id": "ed8685d1",
   "metadata": {},
   "outputs": [],
   "source": []
  }
 ],
 "metadata": {
  "kernelspec": {
   "display_name": "Python 3 (ipykernel)",
   "language": "python",
   "name": "python3"
  },
  "language_info": {
   "codemirror_mode": {
    "name": "ipython",
    "version": 3
   },
   "file_extension": ".py",
   "mimetype": "text/x-python",
   "name": "python",
   "nbconvert_exporter": "python",
   "pygments_lexer": "ipython3",
   "version": "3.9.10"
  }
 },
 "nbformat": 4,
 "nbformat_minor": 5
}
