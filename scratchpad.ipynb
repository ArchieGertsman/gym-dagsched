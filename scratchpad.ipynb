{
 "cells": [
  {
   "cell_type": "code",
   "execution_count": 101,
   "id": "45823af5",
   "metadata": {},
   "outputs": [],
   "source": [
    "from copy import copy\n",
    "import gym\n",
    "import gym_dagsched\n",
    "import numpy as np\n",
    "import networkx as nx\n",
    "from gym.spaces import Dict, Tuple, MultiBinary, Discrete, Box\n",
    "from dataclasses import asdict\n",
    "import plotly.express as px\n",
    "import pandas as pd\n",
    "\n",
    "env = gym.make(\n",
    "    'dagsched-v0',\n",
    "    max_jobs=10,        \n",
    "    max_stages=8,      \n",
    "    max_tasks=4,       \n",
    "    n_worker_types=3,\n",
    "    n_workers=8\n",
    ")"
   ]
  },
  {
   "cell_type": "code",
   "execution_count": 102,
   "id": "12acd29d",
   "metadata": {},
   "outputs": [
    {
     "name": "stdout",
     "output_type": "stream",
     "text": [
      "frontier is empty\n",
      "\n",
      "invalid action\n",
      "2.7930908280275397: job arrival\n",
      "n_workers=2\n",
      "\n",
      "2.7930908203125: nudge\n",
      "n_workers=1\n",
      "\n",
      "16.119292034443657: job arrival\n",
      "n_workers=1\n",
      "\n",
      "19.2528289939288: job arrival\n",
      "n_workers=4\n",
      "\n",
      "19.939924240112305: task completion (0,5,0)\n",
      "n_workers=1\n",
      "\n",
      "22.446532947170795: job arrival\n",
      "no available workers\n",
      "\n",
      "invalid action\n",
      "22.818565368652344: task completion (0,6,0)\n",
      "n_workers=1\n",
      "\n",
      "22.818565368652344: task completion (0,6,1)\n",
      "stage completion\n",
      "n_workers=1\n",
      "\n",
      "32.37398919572022: job arrival\n",
      "no available workers\n",
      "\n",
      "invalid action\n",
      "37.644195556640625: task completion (1,6,0)\n",
      "stage completion\n",
      "n_workers=1\n",
      "\n",
      "40.47534942626953: task completion (2,3,0)\n",
      "n_workers=1\n",
      "\n",
      "40.47534942626953: task completion (2,3,1)\n",
      "n_workers=1\n",
      "\n",
      "40.47534942626953: task completion (2,3,2)\n",
      "n_workers=1\n",
      "\n",
      "40.47534942626953: task completion (2,3,3)\n",
      "stage completion\n",
      "n_workers=1\n",
      "\n",
      "42.26740646362305: task completion (1,5,0)\n",
      "stage completion\n",
      "n_workers=1\n",
      "\n",
      "43.02341079711914: task completion (3,4,0)\n",
      "n_workers=1\n",
      "\n",
      "43.02341079711914: task completion (3,4,1)\n",
      "n_workers=1\n",
      "\n",
      "55.77114151731489: job arrival\n",
      "no available workers\n",
      "\n",
      "invalid action\n",
      "56.88121795654297: task completion (4,2,0)\n",
      "n_workers=1\n",
      "\n",
      "58.07168143901962: job arrival\n",
      "no available workers\n",
      "\n",
      "invalid action\n",
      "58.316532135009766: task completion (4,0,0)\n",
      "n_workers=1\n",
      "\n",
      "59.63120651245117: task completion (3,2,0)\n",
      "n_workers=1\n",
      "\n",
      "59.712371826171875: task completion (4,2,1)\n",
      "stage completion\n",
      "n_workers=1\n",
      "\n",
      "60.387210845947266: task completion (3,2,1)\n",
      "n_workers=1\n",
      "\n",
      "60.387210845947266: task completion (3,2,2)\n",
      "stage completion\n",
      "n_workers=1\n",
      "\n",
      "60.68019485473633: task completion (3,4,2)\n",
      "n_workers=1\n",
      "\n",
      "60.68019485473633: task completion (3,4,3)\n",
      "stage completion\n",
      "n_workers=1\n",
      "\n",
      "63.26627428345357: job arrival\n",
      "no available workers\n",
      "\n",
      "invalid action\n",
      "68.80186040070086: job arrival\n",
      "no available workers\n",
      "\n",
      "invalid action\n",
      "71.1216698178254: job arrival\n",
      "no available workers\n",
      "\n",
      "invalid action\n",
      "74.72239685058594: task completion (4,0,1)\n",
      "n_workers=1\n",
      "\n",
      "76.15771484375: task completion (4,0,2)\n",
      "n_workers=1\n",
      "\n",
      "77.55355834960938: task completion (4,0,3)\n",
      "stage completion\n",
      "n_workers=1\n",
      "\n",
      "77.68135833740234: task completion (6,5,0)\n",
      "n_workers=1\n",
      "\n",
      "78.43736267089844: task completion (6,5,1)\n",
      "n_workers=1\n",
      "\n",
      "78.43736267089844: task completion (6,5,2)\n",
      "n_workers=1\n",
      "\n",
      "82.31084442138672: task completion (6,6,0)\n",
      "n_workers=1\n",
      "\n",
      "82.31084442138672: task completion (6,6,1)\n",
      "stage completion\n",
      "n_workers=1\n",
      "\n",
      "93.97126007080078: task completion (9,6,0)\n",
      "n_workers=1\n",
      "\n",
      "95.40657806396484: task completion (9,6,1)\n",
      "n_workers=1\n",
      "\n",
      "96.80242156982422: task completion (9,6,2)\n",
      "stage completion\n",
      "n_workers=1\n",
      "\n",
      "100.23477935791016: task completion (8,1,0)\n",
      "n_workers=1\n",
      "\n",
      "100.99078369140625: task completion (8,1,1)\n",
      "n_workers=1\n",
      "\n",
      "100.99078369140625: task completion (8,1,2)\n",
      "stage completion\n",
      "n_workers=1\n",
      "\n",
      "103.74261474609375: task completion (9,5,0)\n",
      "n_workers=1\n",
      "\n",
      "103.74261474609375: task completion (9,5,1)\n",
      "stage completion\n",
      "n_workers=1\n",
      "\n",
      "114.99146270751953: task completion (6,4,0)\n",
      "stage completion\n",
      "n_workers=1\n",
      "\n",
      "115.73408508300781: task completion (8,2,0)\n",
      "n_workers=1\n",
      "\n",
      "117.16940307617188: task completion (8,2,1)\n",
      "stage completion\n",
      "n_workers=1\n",
      "\n",
      "121.12286376953125: task completion (7,0,0)\n",
      "n_workers=1\n",
      "\n",
      "121.87886047363281: task completion (7,0,1)\n",
      "n_workers=1\n",
      "\n",
      "121.87886047363281: task completion (7,0,2)\n",
      "n_workers=1\n",
      "\n",
      "124.915771484375: task completion (9,4,0)\n",
      "n_workers=1\n",
      "\n",
      "125.7767105102539: task completion (7,1,0)\n",
      "n_workers=1\n",
      "\n",
      "131.41220092773438: task completion (9,1,0)\n",
      "n_workers=1\n",
      "\n",
      "132.15481567382812: task completion (9,1,1)\n",
      "n_workers=1\n",
      "\n",
      "133.59014892578125: task completion (9,1,2)\n",
      "n_workers=1\n",
      "\n",
      "137.54360961914062: task completion (9,1,3)\n",
      "stage completion\n",
      "n_workers=1\n",
      "\n",
      "142.39910888671875: task completion (8,0,0)\n",
      "n_workers=1\n",
      "\n",
      "142.39910888671875: task completion (8,0,1)\n",
      "stage completion\n",
      "job completion\n",
      "n_workers=1\n",
      "\n",
      "146.08892822265625: task completion (9,4,1)\n",
      "n_workers=1\n",
      "\n",
      "146.94985961914062: task completion (9,4,2)\n",
      "stage completion\n",
      "n_workers=1\n",
      "\n",
      "150.697265625: task completion (3,1,0)\n",
      "stage completion\n",
      "n_workers=1\n",
      "\n",
      "151.72152709960938: task completion (3,0,0)\n",
      "n_workers=1\n",
      "\n",
      "153.1568603515625: task completion (3,0,1)\n",
      "stage completion\n",
      "n_workers=1\n",
      "\n",
      "158.4316864013672: task completion (7,0,3)\n",
      "stage completion\n",
      "n_workers=1\n",
      "\n",
      "160.2949676513672: task completion (5,4,0)\n",
      "n_workers=1\n",
      "\n",
      "160.4492645263672: task completion (6,5,3)\n",
      "stage completion\n",
      "n_workers=1\n",
      "\n",
      "164.56251525878906: task completion (9,3,0)\n",
      "n_workers=1\n",
      "\n",
      "165.42344665527344: task completion (9,3,1)\n",
      "n_workers=1\n",
      "\n",
      "170.35870361328125: task completion (2,2,0)\n",
      "stage completion\n",
      "n_workers=1\n",
      "\n",
      "174.90843200683594: task completion (1,4,0)\n",
      "n_workers=1\n",
      "\n",
      "176.32754516601562: task completion (5,4,1)\n",
      "n_workers=1\n",
      "\n",
      "176.34376525878906: task completion (1,4,1)\n",
      "stage completion\n",
      "n_workers=1\n",
      "\n",
      "178.19082641601562: task completion (5,4,2)\n",
      "stage completion\n",
      "n_workers=1\n",
      "\n",
      "179.71885681152344: task completion (6,3,0)\n",
      "n_workers=1\n",
      "\n",
      "183.03610229492188: task completion (9,3,2)\n",
      "n_workers=1\n",
      "\n",
      "183.89703369140625: task completion (9,3,3)\n",
      "stage completion\n",
      "n_workers=1\n",
      "\n",
      "189.6282958984375: task completion (6,3,1)\n",
      "n_workers=1\n",
      "\n",
      "194.1780242919922: task completion (6,3,2)\n",
      "stage completion\n",
      "n_workers=1\n",
      "\n",
      "195.65765380859375: task completion (2,1,0)\n",
      "n_workers=1\n",
      "\n",
      "197.38272094726562: task completion (5,3,0)\n",
      "n_workers=1\n",
      "\n",
      "199.1912384033203: task completion (4,1,0)\n",
      "stage completion\n",
      "job completion\n",
      "n_workers=1\n",
      "\n",
      "199.24600219726562: task completion (5,3,1)\n",
      "stage completion\n",
      "n_workers=1\n",
      "\n",
      "204.86508178710938: task completion (9,2,0)\n",
      "stage completion\n",
      "n_workers=1\n",
      "\n",
      "205.0701904296875: task completion (7,1,1)\n",
      "n_workers=1\n",
      "\n",
      "208.9421844482422: task completion (2,1,1)\n",
      "stage completion\n",
      "n_workers=1\n",
      "\n",
      "213.74169921875: task completion (6,2,0)\n",
      "n_workers=1\n",
      "\n",
      "215.2213134765625: task completion (6,2,1)\n",
      "stage completion\n",
      "n_workers=1\n",
      "\n",
      "217.7054901123047: task completion (1,3,0)\n",
      "n_workers=1\n",
      "\n",
      "219.51400756835938: task completion (1,3,1)\n",
      "n_workers=1\n",
      "\n",
      "219.5687713623047: task completion (1,3,2)\n",
      "stage completion\n",
      "n_workers=1\n",
      "\n",
      "226.88243103027344: task completion (9,0,0)\n",
      "stage completion\n",
      "job completion\n",
      "n_workers=1\n",
      "\n",
      "226.96937561035156: task completion (1,1,0)\n",
      "n_workers=1\n",
      "\n",
      "227.10427856445312: task completion (7,1,2)\n",
      "stage completion\n",
      "job completion\n",
      "n_workers=1\n",
      "\n",
      "231.76889038085938: task completion (1,1,1)\n",
      "n_workers=1\n",
      "\n",
      "234.42208862304688: task completion (6,1,0)\n",
      "n_workers=1\n",
      "\n",
      "236.90626525878906: task completion (6,1,1)\n",
      "n_workers=1\n",
      "\n",
      "238.71478271484375: task completion (6,1,2)\n",
      "n_workers=1\n",
      "\n",
      "238.76954650878906: task completion (6,1,3)\n",
      "stage completion\n",
      "n_workers=1\n",
      "\n",
      "242.7977752685547: task completion (5,5,0)\n",
      "n_workers=1\n",
      "\n",
      "243.01962280273438: task completion (5,5,1)\n",
      "stage completion\n",
      "n_workers=1\n",
      "\n",
      "244.99656677246094: task completion (1,1,2)\n",
      "n_workers=1\n",
      "\n",
      "249.79608154296875: task completion (1,1,3)\n",
      "stage completion\n",
      "n_workers=1\n",
      "\n",
      "255.52545166015625: task completion (6,0,0)\n",
      "n_workers=1\n",
      "\n",
      "257.0379943847656: task completion (1,2,0)\n",
      "n_workers=1\n",
      "\n",
      "258.1171875: task completion (1,0,0)\n",
      "n_workers=1\n",
      "\n",
      "258.8465270996094: task completion (1,2,1)\n",
      "n_workers=1\n",
      "\n",
      "259.5536804199219: task completion (6,0,1)\n",
      "n_workers=1\n",
      "\n",
      "259.7755126953125: task completion (6,0,2)\n",
      "n_workers=1\n",
      "\n",
      "261.7524719238281: task completion (6,0,3)\n",
      "stage completion\n",
      "job completion\n",
      "n_workers=1\n",
      "\n",
      "269.01544189453125: task completion (5,2,0)\n",
      "n_workers=1\n",
      "\n",
      "274.74481201171875: task completion (5,2,1)\n",
      "stage completion\n",
      "n_workers=1\n",
      "\n",
      "275.002197265625: task completion (5,1,0)\n",
      "stage completion\n",
      "n_workers=1\n",
      "\n",
      "277.44171142578125: task completion (5,0,0)\n",
      "n_workers=1\n",
      "\n",
      "278.1710510253906: task completion (5,0,1)\n",
      "n_workers=1\n",
      "\n",
      "278.8782043457031: task completion (5,0,2)\n",
      "n_workers=1\n",
      "\n",
      "279.10003662109375: task completion (5,0,3)\n",
      "stage completion\n",
      "job completion\n",
      "n_workers=1\n",
      "\n",
      "285.44757080078125: task completion (1,0,1)\n",
      "n_workers=0\n",
      "\n",
      "invalid action\n",
      "292.1490173339844: task completion (0,5,1)\n",
      "stage completion\n",
      "n_workers=2\n",
      "\n",
      "292.7105407714844: task completion (1,0,2)\n",
      "stage completion\n",
      "n_workers=1\n",
      "\n",
      "294.8765563964844: task completion (1,2,2)\n",
      "stage completion\n",
      "job completion\n",
      "n_workers=1\n",
      "\n",
      "299.4584045410156: task completion (3,3,0)\n",
      "n_workers=1\n",
      "\n",
      "299.68023681640625: task completion (3,3,1)\n",
      "stage completion\n",
      "job completion\n",
      "n_workers=1\n",
      "\n",
      "300.4940185546875: task completion (0,3,0)\n",
      "n_workers=0\n",
      "\n",
      "301.2233581542969: task completion (0,3,1)\n",
      "stage completion\n",
      "n_workers=0\n",
      "\n",
      "310.8606262207031: task completion (0,4,0)\n",
      "n_workers=0\n",
      "\n",
      "310.8606262207031: task completion (0,4,1)\n",
      "n_workers=0\n",
      "\n",
      "311.4221496582031: task completion (0,4,2)\n",
      "n_workers=0\n",
      "\n",
      "313.5881652832031: task completion (0,4,3)\n",
      "stage completion\n",
      "n_workers=1\n",
      "\n",
      "322.03009033203125: task completion (2,0,0)\n",
      "n_workers=1\n",
      "\n",
      "322.2519226074219: task completion (2,0,1)\n",
      "frontier is empty\n",
      "\n",
      "invalid action\n",
      "332.7816467285156: task completion (0,2,0)\n",
      "stage completion\n",
      "n_workers=1\n",
      "\n",
      "332.7816467285156: nudge\n",
      "n_workers=2\n",
      "\n",
      "344.6017761230469: task completion (2,0,2)\n",
      "stage completion\n",
      "job completion\n",
      "frontier is empty\n",
      "\n",
      "invalid action\n",
      "349.7182922363281: task completion (0,1,0)\n",
      "stage completion\n",
      "frontier is empty\n",
      "\n",
      "invalid action\n",
      "353.6094055175781: task completion (0,0,0)\n",
      "frontier is empty\n",
      "\n",
      "invalid action\n",
      "353.6094055175781: task completion (0,0,1)\n",
      "stage completion\n",
      "job completion\n",
      "frontier is empty\n",
      "\n",
      "invalid action\n",
      "all jobs completed!\n"
     ]
    }
   ],
   "source": [
    "obs = env.reset()\n",
    "done = False\n",
    "\n",
    "while not done:    \n",
    "    frontier_stages = obs.get_frontier_stages()\n",
    "    avail_workers = obs.find_available_workers()\n",
    "    \n",
    "    if len(avail_workers) == 0 or len(frontier_stages) == 0:\n",
    "        if len(avail_workers) == 0:\n",
    "            print('no available workers')\n",
    "        else:\n",
    "            print('frontier is empty')\n",
    "        action = {\n",
    "            'job_id': env.max_jobs,\n",
    "            'stage_id': env.max_stages,\n",
    "            'worker_type_counts': np.zeros(env.n_worker_types)\n",
    "        }\n",
    "    else:\n",
    "        for stage in frontier_stages:\n",
    "            for worker in avail_workers:\n",
    "                if worker.compatible_with(stage):\n",
    "                    first_stage = stage\n",
    "        \n",
    "        stage_id = first_stage.id_\n",
    "        job_id = first_stage.job_id\n",
    "        \n",
    "        avail_counts = obs.get_avail_worker_counts(env.n_worker_types)\n",
    "        \n",
    "        stage = obs.jobs[job_id].stages[stage_id]\n",
    "        worker_types = stage.compatible_worker_types()\n",
    "        \n",
    "        n_workers = 0\n",
    "        worker_type_counts = np.zeros(env.n_worker_types, dtype=int)\n",
    "        for worker_type in worker_types:\n",
    "            if n_workers == stage.n_remaining_tasks:\n",
    "                break\n",
    "            avail_count = avail_counts[worker_type]\n",
    "            request_count = int(min(stage.n_remaining_tasks - n_workers, avail_count))\n",
    "            worker_type_counts[worker_type] = request_count\n",
    "            n_workers += request_count\n",
    "        \n",
    "        print(f'n_workers={n_workers}')\n",
    "\n",
    "        action = {\n",
    "            'job_id': job_id,\n",
    "            'stage_id': stage_id,\n",
    "            'worker_type_counts': worker_type_counts\n",
    "        }\n",
    "    \n",
    "    print()\n",
    "    prev_obs = copy(obs)\n",
    "    obs, _, done, _ = env.step(action)"
   ]
  },
  {
   "cell_type": "code",
   "execution_count": 103,
   "id": "43cd15d3",
   "metadata": {},
   "outputs": [
    {
     "data": {
      "text/plain": [
       "True"
      ]
     },
     "execution_count": 103,
     "metadata": {},
     "output_type": "execute_result"
    }
   ],
   "source": [
    "env.observation_space.contains(asdict(prev_obs))"
   ]
  },
  {
   "cell_type": "code",
   "execution_count": 104,
   "id": "f7429f84",
   "metadata": {},
   "outputs": [
    {
     "data": {
      "text/html": [
       "<div>\n",
       "<style scoped>\n",
       "    .dataframe tbody tr th:only-of-type {\n",
       "        vertical-align: middle;\n",
       "    }\n",
       "\n",
       "    .dataframe tbody tr th {\n",
       "        vertical-align: top;\n",
       "    }\n",
       "\n",
       "    .dataframe thead th {\n",
       "        text-align: right;\n",
       "    }\n",
       "</style>\n",
       "<table border=\"1\" class=\"dataframe\">\n",
       "  <thead>\n",
       "    <tr style=\"text-align: right;\">\n",
       "      <th></th>\n",
       "      <th>worker_id</th>\n",
       "      <th>t_accepted</th>\n",
       "      <th>t_completed</th>\n",
       "      <th>job</th>\n",
       "      <th>delta</th>\n",
       "    </tr>\n",
       "  </thead>\n",
       "  <tbody>\n",
       "    <tr>\n",
       "      <th>0</th>\n",
       "      <td>6</td>\n",
       "      <td>332.781647</td>\n",
       "      <td>353.609406</td>\n",
       "      <td>0</td>\n",
       "      <td>20.827759</td>\n",
       "    </tr>\n",
       "    <tr>\n",
       "      <th>1</th>\n",
       "      <td>7</td>\n",
       "      <td>332.781647</td>\n",
       "      <td>353.609406</td>\n",
       "      <td>0</td>\n",
       "      <td>20.827759</td>\n",
       "    </tr>\n",
       "    <tr>\n",
       "      <th>4</th>\n",
       "      <td>0</td>\n",
       "      <td>332.781647</td>\n",
       "      <td>349.718292</td>\n",
       "      <td>0</td>\n",
       "      <td>16.936646</td>\n",
       "    </tr>\n",
       "    <tr>\n",
       "      <th>8</th>\n",
       "      <td>0</td>\n",
       "      <td>313.588165</td>\n",
       "      <td>332.781647</td>\n",
       "      <td>0</td>\n",
       "      <td>19.193481</td>\n",
       "    </tr>\n",
       "    <tr>\n",
       "      <th>12</th>\n",
       "      <td>7</td>\n",
       "      <td>277.441711</td>\n",
       "      <td>300.494019</td>\n",
       "      <td>0</td>\n",
       "      <td>23.052307</td>\n",
       "    </tr>\n",
       "    <tr>\n",
       "      <th>...</th>\n",
       "      <td>...</td>\n",
       "      <td>...</td>\n",
       "      <td>...</td>\n",
       "      <td>...</td>\n",
       "      <td>...</td>\n",
       "    </tr>\n",
       "    <tr>\n",
       "      <th>308</th>\n",
       "      <td>2</td>\n",
       "      <td>82.310844</td>\n",
       "      <td>103.742615</td>\n",
       "      <td>9</td>\n",
       "      <td>21.431770</td>\n",
       "    </tr>\n",
       "    <tr>\n",
       "      <th>309</th>\n",
       "      <td>3</td>\n",
       "      <td>82.310844</td>\n",
       "      <td>103.742615</td>\n",
       "      <td>9</td>\n",
       "      <td>21.431770</td>\n",
       "    </tr>\n",
       "    <tr>\n",
       "      <th>312</th>\n",
       "      <td>0</td>\n",
       "      <td>74.722397</td>\n",
       "      <td>93.971260</td>\n",
       "      <td>9</td>\n",
       "      <td>19.248863</td>\n",
       "    </tr>\n",
       "    <tr>\n",
       "      <th>313</th>\n",
       "      <td>7</td>\n",
       "      <td>76.157715</td>\n",
       "      <td>95.406578</td>\n",
       "      <td>9</td>\n",
       "      <td>19.248863</td>\n",
       "    </tr>\n",
       "    <tr>\n",
       "      <th>314</th>\n",
       "      <td>6</td>\n",
       "      <td>77.553558</td>\n",
       "      <td>96.802422</td>\n",
       "      <td>9</td>\n",
       "      <td>19.248863</td>\n",
       "    </tr>\n",
       "  </tbody>\n",
       "</table>\n",
       "<p>126 rows × 5 columns</p>\n",
       "</div>"
      ],
      "text/plain": [
       "     worker_id  t_accepted  t_completed job      delta\n",
       "0            6  332.781647   353.609406   0  20.827759\n",
       "1            7  332.781647   353.609406   0  20.827759\n",
       "4            0  332.781647   349.718292   0  16.936646\n",
       "8            0  313.588165   332.781647   0  19.193481\n",
       "12           7  277.441711   300.494019   0  23.052307\n",
       "..         ...         ...          ...  ..        ...\n",
       "308          2   82.310844   103.742615   9  21.431770\n",
       "309          3   82.310844   103.742615   9  21.431770\n",
       "312          0   74.722397    93.971260   9  19.248863\n",
       "313          7   76.157715    95.406578   9  19.248863\n",
       "314          6   77.553558    96.802422   9  19.248863\n",
       "\n",
       "[126 rows x 5 columns]"
      ]
     },
     "execution_count": 104,
     "metadata": {},
     "output_type": "execute_result"
    }
   ],
   "source": [
    "tasks = []\n",
    "for job in prev_obs.jobs:\n",
    "    for stage in job.stages:\n",
    "        for i,task in enumerate(stage.tasks):\n",
    "            task_dict = {\n",
    "                'worker_id': task.worker_id,\n",
    "                't_accepted': task.t_accepted[0],\n",
    "                't_completed': task.t_completed[0],\n",
    "                'job': str(job.id_)\n",
    "            }\n",
    "            tasks += [task_dict]\n",
    "\n",
    "df = pd.DataFrame(tasks)\n",
    "df = df[df.t_accepted!=np.inf]\n",
    "df['delta'] = df.t_completed - df.t_accepted\n",
    "df"
   ]
  },
  {
   "cell_type": "code",
   "execution_count": 105,
   "id": "f075c516",
   "metadata": {},
   "outputs": [
    {
     "data": {
      "application/vnd.plotly.v1+json": {
       "config": {
        "plotlyServerURL": "https://plot.ly"
       },
       "data": [
        {
         "alignmentgroup": "True",
         "base": [
          332.7816467285156,
          332.7816467285156,
          332.7816467285156,
          313.5881652832031,
          277.44171142578125,
          278.1710510253906,
          292.1490173339844,
          292.1490173339844,
          292.7105407714844,
          294.8765563964844,
          2.7930908203125,
          275.002197265625,
          2.7930908203125,
          2.7930908203125
         ],
         "hovertemplate": "job=0<br>t_accepted=%{base}<br>t_completed=%{x}<br>worker_id=%{y}<extra></extra>",
         "legendgroup": "0",
         "marker": {
          "color": "#636efa"
         },
         "name": "0",
         "offsetgroup": "0",
         "orientation": "h",
         "showlegend": true,
         "textposition": "auto",
         "type": "bar",
         "x": [
          20.8277587890625,
          20.8277587890625,
          16.9366455078125,
          19.1934814453125,
          23.05230712890625,
          23.05230712890625,
          18.71160888671875,
          18.71160888671875,
          18.71160888671875,
          18.71160888671875,
          17.146833419799805,
          17.146820068359375,
          20.025474548339844,
          20.025474548339844
         ],
         "xaxis": "x",
         "y": [
          6,
          7,
          0,
          0,
          7,
          1,
          6,
          5,
          0,
          4,
          5,
          5,
          1,
          4
         ],
         "yaxis": "y"
        },
        {
         "alignmentgroup": "True",
         "base": [
          234.42208862304688,
          261.7524719238281,
          269.01544189453125,
          208.9421844482422,
          213.74169921875,
          226.96937561035156,
          231.76889038085938,
          236.90626525878906,
          238.71478271484375,
          274.74481201171875,
          197.38272094726562,
          199.1912384033203,
          199.24600219726562,
          151.72152709960938,
          153.1568603515625,
          19.939924240112305,
          16.119291305541992
         ],
         "hovertemplate": "job=1<br>t_accepted=%{base}<br>t_completed=%{x}<br>worker_id=%{y}<extra></extra>",
         "legendgroup": "1",
         "marker": {
          "color": "#EF553B"
         },
         "name": "1",
         "offsetgroup": "1",
         "orientation": "h",
         "showlegend": true,
         "textposition": "auto",
         "type": "bar",
         "x": [
          23.695098876953125,
          23.695098876953125,
          23.695098876953125,
          18.027191162109375,
          18.027191162109375,
          18.027191162109375,
          18.027191162109375,
          20.131729125976562,
          20.131744384765625,
          20.131744384765625,
          20.322769165039062,
          20.322769165039062,
          20.322769165039062,
          23.186904907226562,
          23.186904907226562,
          22.327482223510742,
          21.524904251098633
         ],
         "xaxis": "x",
         "y": [
          7,
          6,
          0,
          6,
          0,
          6,
          0,
          5,
          1,
          4,
          5,
          1,
          4,
          0,
          7,
          5,
          0
         ],
         "yaxis": "y"
        },
        {
         "alignmentgroup": "True",
         "base": [
          299.4584045410156,
          299.68023681640625,
          322.03009033203125,
          176.34376525878906,
          189.6282958984375,
          150.697265625,
          19.25282859802246,
          19.25282859802246,
          19.25282859802246,
          19.25282859802246
         ],
         "hovertemplate": "job=2<br>t_accepted=%{base}<br>t_completed=%{x}<br>worker_id=%{y}<extra></extra>",
         "legendgroup": "2",
         "marker": {
          "color": "#00cc96"
         },
         "name": "2",
         "offsetgroup": "2",
         "orientation": "h",
         "showlegend": true,
         "textposition": "auto",
         "type": "bar",
         "x": [
          22.571685791015625,
          22.571685791015625,
          22.571685791015625,
          19.313888549804688,
          19.313888549804688,
          19.66143798828125,
          21.22252082824707,
          21.22252082824707,
          21.22252082824707,
          21.22252082824707
         ],
         "xaxis": "x",
         "y": [
          2,
          3,
          2,
          7,
          6,
          6,
          6,
          7,
          2,
          3
         ],
         "yaxis": "y"
        },
        {
         "alignmentgroup": "True",
         "base": [
          132.15481567382812,
          133.59014892578125,
          131.41220092773438,
          42.26740646362305,
          43.02341079711914,
          43.02341079711914,
          278.8782043457031,
          279.10003662109375,
          22.818565368652344,
          22.818565368652344,
          40.47534942626953,
          40.47534942626953
         ],
         "hovertemplate": "job=3<br>t_accepted=%{base}<br>t_completed=%{x}<br>worker_id=%{y}<extra></extra>",
         "legendgroup": "3",
         "marker": {
          "color": "#ab63fa"
         },
         "name": "3",
         "offsetgroup": "3",
         "orientation": "h",
         "showlegend": true,
         "textposition": "auto",
         "type": "bar",
         "x": [
          19.56671142578125,
          19.56671142578125,
          19.285064697265625,
          17.363800048828125,
          17.363800048828125,
          17.363800048828125,
          20.5802001953125,
          20.5802001953125,
          20.204845428466797,
          20.204845428466797,
          20.204845428466797,
          20.204845428466797
         ],
         "xaxis": "x",
         "y": [
          0,
          7,
          6,
          5,
          1,
          4,
          2,
          3,
          1,
          4,
          2,
          3
         ],
         "yaxis": "y"
        },
        {
         "alignmentgroup": "True",
         "base": [
          40.47534942626953,
          56.88121795654297,
          58.316532135009766,
          59.712371826171875,
          179.71885681152344,
          37.644195556640625,
          40.47534942626953
         ],
         "hovertemplate": "job=4<br>t_accepted=%{base}<br>t_completed=%{x}<br>worker_id=%{y}<extra></extra>",
         "legendgroup": "4",
         "marker": {
          "color": "#FFA15A"
         },
         "name": "4",
         "offsetgroup": "4",
         "orientation": "h",
         "showlegend": true,
         "textposition": "auto",
         "type": "bar",
         "x": [
          17.841182708740234,
          17.84117889404297,
          17.841182708740234,
          17.8411865234375,
          19.472381591796875,
          19.237022399902344,
          19.237022399902344
         ],
         "xaxis": "x",
         "y": [
          7,
          0,
          7,
          6,
          1,
          0,
          6
         ],
         "yaxis": "y"
        },
        {
         "alignmentgroup": "True",
         "base": [
          258.1171875,
          258.8465270996094,
          259.5536804199219,
          259.7755126953125,
          257.0379943847656,
          249.79608154296875,
          255.52545166015625,
          176.32754516601562,
          178.19082641601562,
          142.39910888671875,
          158.4316864013672,
          160.2949676513672,
          226.88243103027344,
          227.10427856445312
         ],
         "hovertemplate": "job=5<br>t_accepted=%{base}<br>t_completed=%{x}<br>worker_id=%{y}<extra></extra>",
         "legendgroup": "5",
         "marker": {
          "color": "#19d3f3"
         },
         "name": "5",
         "offsetgroup": "5",
         "orientation": "h",
         "showlegend": true,
         "textposition": "auto",
         "type": "bar",
         "x": [
          19.32452392578125,
          19.32452392578125,
          19.32452392578125,
          19.32452392578125,
          17.964202880859375,
          19.2193603515625,
          19.2193603515625,
          21.05517578125,
          21.05517578125,
          17.895858764648438,
          17.895858764648438,
          17.895858764648438,
          15.91534423828125,
          15.91534423828125
         ],
         "xaxis": "x",
         "y": [
          7,
          1,
          2,
          3,
          5,
          0,
          4,
          5,
          4,
          4,
          5,
          4,
          2,
          3
         ],
         "yaxis": "y"
        },
        {
         "alignmentgroup": "True",
         "base": [
          238.76954650878906,
          242.7977752685547,
          243.01962280273438,
          244.99656677246094,
          215.2213134765625,
          217.7054901123047,
          219.51400756835938,
          219.5687713623047,
          194.1780242919922,
          195.65765380859375,
          160.4492645263672,
          170.35870361328125,
          174.90843200683594,
          96.80242156982422,
          59.63120651245117,
          60.387210845947266,
          60.387210845947266,
          142.39910888671875,
          60.68019485473633,
          60.68019485473633
         ],
         "hovertemplate": "job=6<br>t_accepted=%{base}<br>t_completed=%{x}<br>worker_id=%{y}<extra></extra>",
         "legendgroup": "6",
         "marker": {
          "color": "#FF6692"
         },
         "name": "6",
         "offsetgroup": "6",
         "orientation": "h",
         "showlegend": true,
         "textposition": "auto",
         "type": "bar",
         "x": [
          16.755905151367188,
          16.755905151367188,
          16.755889892578125,
          16.755905151367188,
          19.200775146484375,
          19.200775146484375,
          19.200775146484375,
          19.200775146484375,
          19.563674926757812,
          19.56365966796875,
          19.26959228515625,
          19.26959228515625,
          19.26959228515625,
          18.189041137695312,
          18.050151824951172,
          18.050151824951172,
          18.050151824951172,
          18.050155639648438,
          21.63064956665039,
          21.63064956665039
         ],
         "xaxis": "x",
         "y": [
          4,
          2,
          3,
          6,
          7,
          5,
          1,
          4,
          0,
          7,
          1,
          6,
          0,
          6,
          5,
          1,
          4,
          1,
          2,
          3
         ],
         "yaxis": "y"
        },
        {
         "alignmentgroup": "True",
         "base": [
          100.23477935791016,
          100.99078369140625,
          100.99078369140625,
          137.54360961914062,
          103.74261474609375,
          183.03610229492188,
          205.0701904296875
         ],
         "hovertemplate": "job=7<br>t_accepted=%{base}<br>t_completed=%{x}<br>worker_id=%{y}<extra></extra>",
         "legendgroup": "7",
         "marker": {
          "color": "#B6E880"
         },
         "name": "7",
         "offsetgroup": "7",
         "orientation": "h",
         "showlegend": true,
         "textposition": "auto",
         "type": "bar",
         "x": [
          20.888084411621094,
          20.888076782226562,
          20.888076782226562,
          20.888076782226562,
          22.034095764160156,
          22.034088134765625,
          22.034088134765625
         ],
         "xaxis": "x",
         "y": [
          5,
          1,
          4,
          5,
          2,
          3,
          3
         ],
         "yaxis": "y"
        },
        {
         "alignmentgroup": "True",
         "base": [
          121.87886047363281,
          121.87886047363281,
          77.68135833740234,
          78.43736267089844,
          78.43736267089844,
          93.97126007080078,
          95.40657806396484
         ],
         "hovertemplate": "job=8<br>t_accepted=%{base}<br>t_completed=%{x}<br>worker_id=%{y}<extra></extra>",
         "legendgroup": "8",
         "marker": {
          "color": "#FF97FF"
         },
         "name": "8",
         "offsetgroup": "8",
         "orientation": "h",
         "showlegend": true,
         "textposition": "auto",
         "type": "bar",
         "x": [
          20.520248413085938,
          20.520248413085938,
          22.553421020507812,
          22.553421020507812,
          22.553421020507812,
          21.76282501220703,
          21.76282501220703
         ],
         "xaxis": "x",
         "y": [
          1,
          4,
          5,
          1,
          4,
          0,
          7
         ],
         "yaxis": "y"
        },
        {
         "alignmentgroup": "True",
         "base": [
          204.86508178710938,
          114.99146270751953,
          115.73408508300781,
          117.16940307617188,
          121.12286376953125,
          183.89703369140625,
          146.08892822265625,
          146.94985961914062,
          164.56251525878906,
          165.42344665527344,
          103.74261474609375,
          124.915771484375,
          125.7767105102539,
          82.31084442138672,
          82.31084442138672,
          74.72239685058594,
          76.15771484375,
          77.55355834960938
         ],
         "hovertemplate": "job=9<br>t_accepted=%{base}<br>t_completed=%{x}<br>worker_id=%{y}<extra></extra>",
         "legendgroup": "9",
         "marker": {
          "color": "#FECB52"
         },
         "name": "9",
         "offsetgroup": "9",
         "orientation": "h",
         "showlegend": true,
         "textposition": "auto",
         "type": "bar",
         "x": [
          22.017349243164062,
          16.420738220214844,
          16.420730590820312,
          16.420745849609375,
          16.420745849609375,
          20.968048095703125,
          18.473587036132812,
          18.473587036132812,
          18.473587036132812,
          18.473587036132812,
          21.17315673828125,
          21.17315673828125,
          21.17314910888672,
          21.43177032470703,
          21.43177032470703,
          19.248863220214844,
          19.248863220214844,
          19.248863220214844
         ],
         "xaxis": "x",
         "y": [
          2,
          6,
          0,
          7,
          5,
          2,
          3,
          2,
          3,
          2,
          3,
          3,
          2,
          2,
          3,
          0,
          7,
          6
         ],
         "yaxis": "y"
        }
       ],
       "layout": {
        "barmode": "overlay",
        "legend": {
         "title": {
          "text": "job"
         },
         "tracegroupgap": 0
        },
        "margin": {
         "t": 60
        },
        "shapes": [
         {
          "line": {
           "color": "green",
           "width": 2
          },
          "type": "line",
          "x0": 353.6094055175781,
          "x1": 353.6094055175781,
          "xref": "x",
          "y0": 0,
          "y1": 1,
          "yref": "y domain"
         },
         {
          "line": {
           "color": "green",
           "width": 2
          },
          "type": "line",
          "x0": 294.8765563964844,
          "x1": 294.8765563964844,
          "xref": "x",
          "y0": 0,
          "y1": 1,
          "yref": "y domain"
         },
         {
          "line": {
           "color": "green",
           "width": 2
          },
          "type": "line",
          "x0": 344.6017761230469,
          "x1": 344.6017761230469,
          "xref": "x",
          "y0": 0,
          "y1": 1,
          "yref": "y domain"
         },
         {
          "line": {
           "color": "green",
           "width": 2
          },
          "type": "line",
          "x0": 299.68023681640625,
          "x1": 299.68023681640625,
          "xref": "x",
          "y0": 0,
          "y1": 1,
          "yref": "y domain"
         },
         {
          "line": {
           "color": "green",
           "width": 2
          },
          "type": "line",
          "x0": 199.1912384033203,
          "x1": 199.1912384033203,
          "xref": "x",
          "y0": 0,
          "y1": 1,
          "yref": "y domain"
         },
         {
          "line": {
           "color": "green",
           "width": 2
          },
          "type": "line",
          "x0": 279.10003662109375,
          "x1": 279.10003662109375,
          "xref": "x",
          "y0": 0,
          "y1": 1,
          "yref": "y domain"
         },
         {
          "line": {
           "color": "green",
           "width": 2
          },
          "type": "line",
          "x0": 261.7524719238281,
          "x1": 261.7524719238281,
          "xref": "x",
          "y0": 0,
          "y1": 1,
          "yref": "y domain"
         },
         {
          "line": {
           "color": "green",
           "width": 2
          },
          "type": "line",
          "x0": 227.10427856445312,
          "x1": 227.10427856445312,
          "xref": "x",
          "y0": 0,
          "y1": 1,
          "yref": "y domain"
         },
         {
          "line": {
           "color": "green",
           "width": 2
          },
          "type": "line",
          "x0": 142.39910888671875,
          "x1": 142.39910888671875,
          "xref": "x",
          "y0": 0,
          "y1": 1,
          "yref": "y domain"
         },
         {
          "line": {
           "color": "green",
           "width": 2
          },
          "type": "line",
          "x0": 226.88243103027344,
          "x1": 226.88243103027344,
          "xref": "x",
          "y0": 0,
          "y1": 1,
          "yref": "y domain"
         }
        ],
        "template": {
         "data": {
          "bar": [
           {
            "error_x": {
             "color": "#2a3f5f"
            },
            "error_y": {
             "color": "#2a3f5f"
            },
            "marker": {
             "line": {
              "color": "#E5ECF6",
              "width": 0.5
             },
             "pattern": {
              "fillmode": "overlay",
              "size": 10,
              "solidity": 0.2
             }
            },
            "type": "bar"
           }
          ],
          "barpolar": [
           {
            "marker": {
             "line": {
              "color": "#E5ECF6",
              "width": 0.5
             },
             "pattern": {
              "fillmode": "overlay",
              "size": 10,
              "solidity": 0.2
             }
            },
            "type": "barpolar"
           }
          ],
          "carpet": [
           {
            "aaxis": {
             "endlinecolor": "#2a3f5f",
             "gridcolor": "white",
             "linecolor": "white",
             "minorgridcolor": "white",
             "startlinecolor": "#2a3f5f"
            },
            "baxis": {
             "endlinecolor": "#2a3f5f",
             "gridcolor": "white",
             "linecolor": "white",
             "minorgridcolor": "white",
             "startlinecolor": "#2a3f5f"
            },
            "type": "carpet"
           }
          ],
          "choropleth": [
           {
            "colorbar": {
             "outlinewidth": 0,
             "ticks": ""
            },
            "type": "choropleth"
           }
          ],
          "contour": [
           {
            "colorbar": {
             "outlinewidth": 0,
             "ticks": ""
            },
            "colorscale": [
             [
              0,
              "#0d0887"
             ],
             [
              0.1111111111111111,
              "#46039f"
             ],
             [
              0.2222222222222222,
              "#7201a8"
             ],
             [
              0.3333333333333333,
              "#9c179e"
             ],
             [
              0.4444444444444444,
              "#bd3786"
             ],
             [
              0.5555555555555556,
              "#d8576b"
             ],
             [
              0.6666666666666666,
              "#ed7953"
             ],
             [
              0.7777777777777778,
              "#fb9f3a"
             ],
             [
              0.8888888888888888,
              "#fdca26"
             ],
             [
              1,
              "#f0f921"
             ]
            ],
            "type": "contour"
           }
          ],
          "contourcarpet": [
           {
            "colorbar": {
             "outlinewidth": 0,
             "ticks": ""
            },
            "type": "contourcarpet"
           }
          ],
          "heatmap": [
           {
            "colorbar": {
             "outlinewidth": 0,
             "ticks": ""
            },
            "colorscale": [
             [
              0,
              "#0d0887"
             ],
             [
              0.1111111111111111,
              "#46039f"
             ],
             [
              0.2222222222222222,
              "#7201a8"
             ],
             [
              0.3333333333333333,
              "#9c179e"
             ],
             [
              0.4444444444444444,
              "#bd3786"
             ],
             [
              0.5555555555555556,
              "#d8576b"
             ],
             [
              0.6666666666666666,
              "#ed7953"
             ],
             [
              0.7777777777777778,
              "#fb9f3a"
             ],
             [
              0.8888888888888888,
              "#fdca26"
             ],
             [
              1,
              "#f0f921"
             ]
            ],
            "type": "heatmap"
           }
          ],
          "heatmapgl": [
           {
            "colorbar": {
             "outlinewidth": 0,
             "ticks": ""
            },
            "colorscale": [
             [
              0,
              "#0d0887"
             ],
             [
              0.1111111111111111,
              "#46039f"
             ],
             [
              0.2222222222222222,
              "#7201a8"
             ],
             [
              0.3333333333333333,
              "#9c179e"
             ],
             [
              0.4444444444444444,
              "#bd3786"
             ],
             [
              0.5555555555555556,
              "#d8576b"
             ],
             [
              0.6666666666666666,
              "#ed7953"
             ],
             [
              0.7777777777777778,
              "#fb9f3a"
             ],
             [
              0.8888888888888888,
              "#fdca26"
             ],
             [
              1,
              "#f0f921"
             ]
            ],
            "type": "heatmapgl"
           }
          ],
          "histogram": [
           {
            "marker": {
             "pattern": {
              "fillmode": "overlay",
              "size": 10,
              "solidity": 0.2
             }
            },
            "type": "histogram"
           }
          ],
          "histogram2d": [
           {
            "colorbar": {
             "outlinewidth": 0,
             "ticks": ""
            },
            "colorscale": [
             [
              0,
              "#0d0887"
             ],
             [
              0.1111111111111111,
              "#46039f"
             ],
             [
              0.2222222222222222,
              "#7201a8"
             ],
             [
              0.3333333333333333,
              "#9c179e"
             ],
             [
              0.4444444444444444,
              "#bd3786"
             ],
             [
              0.5555555555555556,
              "#d8576b"
             ],
             [
              0.6666666666666666,
              "#ed7953"
             ],
             [
              0.7777777777777778,
              "#fb9f3a"
             ],
             [
              0.8888888888888888,
              "#fdca26"
             ],
             [
              1,
              "#f0f921"
             ]
            ],
            "type": "histogram2d"
           }
          ],
          "histogram2dcontour": [
           {
            "colorbar": {
             "outlinewidth": 0,
             "ticks": ""
            },
            "colorscale": [
             [
              0,
              "#0d0887"
             ],
             [
              0.1111111111111111,
              "#46039f"
             ],
             [
              0.2222222222222222,
              "#7201a8"
             ],
             [
              0.3333333333333333,
              "#9c179e"
             ],
             [
              0.4444444444444444,
              "#bd3786"
             ],
             [
              0.5555555555555556,
              "#d8576b"
             ],
             [
              0.6666666666666666,
              "#ed7953"
             ],
             [
              0.7777777777777778,
              "#fb9f3a"
             ],
             [
              0.8888888888888888,
              "#fdca26"
             ],
             [
              1,
              "#f0f921"
             ]
            ],
            "type": "histogram2dcontour"
           }
          ],
          "mesh3d": [
           {
            "colorbar": {
             "outlinewidth": 0,
             "ticks": ""
            },
            "type": "mesh3d"
           }
          ],
          "parcoords": [
           {
            "line": {
             "colorbar": {
              "outlinewidth": 0,
              "ticks": ""
             }
            },
            "type": "parcoords"
           }
          ],
          "pie": [
           {
            "automargin": true,
            "type": "pie"
           }
          ],
          "scatter": [
           {
            "marker": {
             "colorbar": {
              "outlinewidth": 0,
              "ticks": ""
             }
            },
            "type": "scatter"
           }
          ],
          "scatter3d": [
           {
            "line": {
             "colorbar": {
              "outlinewidth": 0,
              "ticks": ""
             }
            },
            "marker": {
             "colorbar": {
              "outlinewidth": 0,
              "ticks": ""
             }
            },
            "type": "scatter3d"
           }
          ],
          "scattercarpet": [
           {
            "marker": {
             "colorbar": {
              "outlinewidth": 0,
              "ticks": ""
             }
            },
            "type": "scattercarpet"
           }
          ],
          "scattergeo": [
           {
            "marker": {
             "colorbar": {
              "outlinewidth": 0,
              "ticks": ""
             }
            },
            "type": "scattergeo"
           }
          ],
          "scattergl": [
           {
            "marker": {
             "colorbar": {
              "outlinewidth": 0,
              "ticks": ""
             }
            },
            "type": "scattergl"
           }
          ],
          "scattermapbox": [
           {
            "marker": {
             "colorbar": {
              "outlinewidth": 0,
              "ticks": ""
             }
            },
            "type": "scattermapbox"
           }
          ],
          "scatterpolar": [
           {
            "marker": {
             "colorbar": {
              "outlinewidth": 0,
              "ticks": ""
             }
            },
            "type": "scatterpolar"
           }
          ],
          "scatterpolargl": [
           {
            "marker": {
             "colorbar": {
              "outlinewidth": 0,
              "ticks": ""
             }
            },
            "type": "scatterpolargl"
           }
          ],
          "scatterternary": [
           {
            "marker": {
             "colorbar": {
              "outlinewidth": 0,
              "ticks": ""
             }
            },
            "type": "scatterternary"
           }
          ],
          "surface": [
           {
            "colorbar": {
             "outlinewidth": 0,
             "ticks": ""
            },
            "colorscale": [
             [
              0,
              "#0d0887"
             ],
             [
              0.1111111111111111,
              "#46039f"
             ],
             [
              0.2222222222222222,
              "#7201a8"
             ],
             [
              0.3333333333333333,
              "#9c179e"
             ],
             [
              0.4444444444444444,
              "#bd3786"
             ],
             [
              0.5555555555555556,
              "#d8576b"
             ],
             [
              0.6666666666666666,
              "#ed7953"
             ],
             [
              0.7777777777777778,
              "#fb9f3a"
             ],
             [
              0.8888888888888888,
              "#fdca26"
             ],
             [
              1,
              "#f0f921"
             ]
            ],
            "type": "surface"
           }
          ],
          "table": [
           {
            "cells": {
             "fill": {
              "color": "#EBF0F8"
             },
             "line": {
              "color": "white"
             }
            },
            "header": {
             "fill": {
              "color": "#C8D4E3"
             },
             "line": {
              "color": "white"
             }
            },
            "type": "table"
           }
          ]
         },
         "layout": {
          "annotationdefaults": {
           "arrowcolor": "#2a3f5f",
           "arrowhead": 0,
           "arrowwidth": 1
          },
          "autotypenumbers": "strict",
          "coloraxis": {
           "colorbar": {
            "outlinewidth": 0,
            "ticks": ""
           }
          },
          "colorscale": {
           "diverging": [
            [
             0,
             "#8e0152"
            ],
            [
             0.1,
             "#c51b7d"
            ],
            [
             0.2,
             "#de77ae"
            ],
            [
             0.3,
             "#f1b6da"
            ],
            [
             0.4,
             "#fde0ef"
            ],
            [
             0.5,
             "#f7f7f7"
            ],
            [
             0.6,
             "#e6f5d0"
            ],
            [
             0.7,
             "#b8e186"
            ],
            [
             0.8,
             "#7fbc41"
            ],
            [
             0.9,
             "#4d9221"
            ],
            [
             1,
             "#276419"
            ]
           ],
           "sequential": [
            [
             0,
             "#0d0887"
            ],
            [
             0.1111111111111111,
             "#46039f"
            ],
            [
             0.2222222222222222,
             "#7201a8"
            ],
            [
             0.3333333333333333,
             "#9c179e"
            ],
            [
             0.4444444444444444,
             "#bd3786"
            ],
            [
             0.5555555555555556,
             "#d8576b"
            ],
            [
             0.6666666666666666,
             "#ed7953"
            ],
            [
             0.7777777777777778,
             "#fb9f3a"
            ],
            [
             0.8888888888888888,
             "#fdca26"
            ],
            [
             1,
             "#f0f921"
            ]
           ],
           "sequentialminus": [
            [
             0,
             "#0d0887"
            ],
            [
             0.1111111111111111,
             "#46039f"
            ],
            [
             0.2222222222222222,
             "#7201a8"
            ],
            [
             0.3333333333333333,
             "#9c179e"
            ],
            [
             0.4444444444444444,
             "#bd3786"
            ],
            [
             0.5555555555555556,
             "#d8576b"
            ],
            [
             0.6666666666666666,
             "#ed7953"
            ],
            [
             0.7777777777777778,
             "#fb9f3a"
            ],
            [
             0.8888888888888888,
             "#fdca26"
            ],
            [
             1,
             "#f0f921"
            ]
           ]
          },
          "colorway": [
           "#636efa",
           "#EF553B",
           "#00cc96",
           "#ab63fa",
           "#FFA15A",
           "#19d3f3",
           "#FF6692",
           "#B6E880",
           "#FF97FF",
           "#FECB52"
          ],
          "font": {
           "color": "#2a3f5f"
          },
          "geo": {
           "bgcolor": "white",
           "lakecolor": "white",
           "landcolor": "#E5ECF6",
           "showlakes": true,
           "showland": true,
           "subunitcolor": "white"
          },
          "hoverlabel": {
           "align": "left"
          },
          "hovermode": "closest",
          "mapbox": {
           "style": "light"
          },
          "paper_bgcolor": "white",
          "plot_bgcolor": "#E5ECF6",
          "polar": {
           "angularaxis": {
            "gridcolor": "white",
            "linecolor": "white",
            "ticks": ""
           },
           "bgcolor": "#E5ECF6",
           "radialaxis": {
            "gridcolor": "white",
            "linecolor": "white",
            "ticks": ""
           }
          },
          "scene": {
           "xaxis": {
            "backgroundcolor": "#E5ECF6",
            "gridcolor": "white",
            "gridwidth": 2,
            "linecolor": "white",
            "showbackground": true,
            "ticks": "",
            "zerolinecolor": "white"
           },
           "yaxis": {
            "backgroundcolor": "#E5ECF6",
            "gridcolor": "white",
            "gridwidth": 2,
            "linecolor": "white",
            "showbackground": true,
            "ticks": "",
            "zerolinecolor": "white"
           },
           "zaxis": {
            "backgroundcolor": "#E5ECF6",
            "gridcolor": "white",
            "gridwidth": 2,
            "linecolor": "white",
            "showbackground": true,
            "ticks": "",
            "zerolinecolor": "white"
           }
          },
          "shapedefaults": {
           "line": {
            "color": "#2a3f5f"
           }
          },
          "ternary": {
           "aaxis": {
            "gridcolor": "white",
            "linecolor": "white",
            "ticks": ""
           },
           "baxis": {
            "gridcolor": "white",
            "linecolor": "white",
            "ticks": ""
           },
           "bgcolor": "#E5ECF6",
           "caxis": {
            "gridcolor": "white",
            "linecolor": "white",
            "ticks": ""
           }
          },
          "title": {
           "x": 0.05
          },
          "xaxis": {
           "automargin": true,
           "gridcolor": "white",
           "linecolor": "white",
           "ticks": "",
           "title": {
            "standoff": 15
           },
           "zerolinecolor": "white",
           "zerolinewidth": 2
          },
          "yaxis": {
           "automargin": true,
           "gridcolor": "white",
           "linecolor": "white",
           "ticks": "",
           "title": {
            "standoff": 15
           },
           "zerolinecolor": "white",
           "zerolinewidth": 2
          }
         }
        },
        "xaxis": {
         "anchor": "y",
         "domain": [
          0,
          1
         ],
         "type": "linear"
        },
        "yaxis": {
         "anchor": "x",
         "domain": [
          0,
          1
         ],
         "title": {
          "text": "worker_id"
         }
        }
       }
      },
      "text/html": [
       "<div>                            <div id=\"8ac9f898-82a8-4f4d-8dbc-5048da25c556\" class=\"plotly-graph-div\" style=\"height:525px; width:100%;\"></div>            <script type=\"text/javascript\">                require([\"plotly\"], function(Plotly) {                    window.PLOTLYENV=window.PLOTLYENV || {};                                    if (document.getElementById(\"8ac9f898-82a8-4f4d-8dbc-5048da25c556\")) {                    Plotly.newPlot(                        \"8ac9f898-82a8-4f4d-8dbc-5048da25c556\",                        [{\"alignmentgroup\":\"True\",\"base\":[332.7816467285156,332.7816467285156,332.7816467285156,313.5881652832031,277.44171142578125,278.1710510253906,292.1490173339844,292.1490173339844,292.7105407714844,294.8765563964844,2.7930908203125,275.002197265625,2.7930908203125,2.7930908203125],\"hovertemplate\":\"job=0<br>t_accepted=%{base}<br>t_completed=%{x}<br>worker_id=%{y}<extra></extra>\",\"legendgroup\":\"0\",\"marker\":{\"color\":\"#636efa\"},\"name\":\"0\",\"offsetgroup\":\"0\",\"orientation\":\"h\",\"showlegend\":true,\"textposition\":\"auto\",\"x\":[20.8277587890625,20.8277587890625,16.9366455078125,19.1934814453125,23.05230712890625,23.05230712890625,18.71160888671875,18.71160888671875,18.71160888671875,18.71160888671875,17.146833419799805,17.146820068359375,20.025474548339844,20.025474548339844],\"xaxis\":\"x\",\"y\":[6,7,0,0,7,1,6,5,0,4,5,5,1,4],\"yaxis\":\"y\",\"type\":\"bar\"},{\"alignmentgroup\":\"True\",\"base\":[234.42208862304688,261.7524719238281,269.01544189453125,208.9421844482422,213.74169921875,226.96937561035156,231.76889038085938,236.90626525878906,238.71478271484375,274.74481201171875,197.38272094726562,199.1912384033203,199.24600219726562,151.72152709960938,153.1568603515625,19.939924240112305,16.119291305541992],\"hovertemplate\":\"job=1<br>t_accepted=%{base}<br>t_completed=%{x}<br>worker_id=%{y}<extra></extra>\",\"legendgroup\":\"1\",\"marker\":{\"color\":\"#EF553B\"},\"name\":\"1\",\"offsetgroup\":\"1\",\"orientation\":\"h\",\"showlegend\":true,\"textposition\":\"auto\",\"x\":[23.695098876953125,23.695098876953125,23.695098876953125,18.027191162109375,18.027191162109375,18.027191162109375,18.027191162109375,20.131729125976562,20.131744384765625,20.131744384765625,20.322769165039062,20.322769165039062,20.322769165039062,23.186904907226562,23.186904907226562,22.327482223510742,21.524904251098633],\"xaxis\":\"x\",\"y\":[7,6,0,6,0,6,0,5,1,4,5,1,4,0,7,5,0],\"yaxis\":\"y\",\"type\":\"bar\"},{\"alignmentgroup\":\"True\",\"base\":[299.4584045410156,299.68023681640625,322.03009033203125,176.34376525878906,189.6282958984375,150.697265625,19.25282859802246,19.25282859802246,19.25282859802246,19.25282859802246],\"hovertemplate\":\"job=2<br>t_accepted=%{base}<br>t_completed=%{x}<br>worker_id=%{y}<extra></extra>\",\"legendgroup\":\"2\",\"marker\":{\"color\":\"#00cc96\"},\"name\":\"2\",\"offsetgroup\":\"2\",\"orientation\":\"h\",\"showlegend\":true,\"textposition\":\"auto\",\"x\":[22.571685791015625,22.571685791015625,22.571685791015625,19.313888549804688,19.313888549804688,19.66143798828125,21.22252082824707,21.22252082824707,21.22252082824707,21.22252082824707],\"xaxis\":\"x\",\"y\":[2,3,2,7,6,6,6,7,2,3],\"yaxis\":\"y\",\"type\":\"bar\"},{\"alignmentgroup\":\"True\",\"base\":[132.15481567382812,133.59014892578125,131.41220092773438,42.26740646362305,43.02341079711914,43.02341079711914,278.8782043457031,279.10003662109375,22.818565368652344,22.818565368652344,40.47534942626953,40.47534942626953],\"hovertemplate\":\"job=3<br>t_accepted=%{base}<br>t_completed=%{x}<br>worker_id=%{y}<extra></extra>\",\"legendgroup\":\"3\",\"marker\":{\"color\":\"#ab63fa\"},\"name\":\"3\",\"offsetgroup\":\"3\",\"orientation\":\"h\",\"showlegend\":true,\"textposition\":\"auto\",\"x\":[19.56671142578125,19.56671142578125,19.285064697265625,17.363800048828125,17.363800048828125,17.363800048828125,20.5802001953125,20.5802001953125,20.204845428466797,20.204845428466797,20.204845428466797,20.204845428466797],\"xaxis\":\"x\",\"y\":[0,7,6,5,1,4,2,3,1,4,2,3],\"yaxis\":\"y\",\"type\":\"bar\"},{\"alignmentgroup\":\"True\",\"base\":[40.47534942626953,56.88121795654297,58.316532135009766,59.712371826171875,179.71885681152344,37.644195556640625,40.47534942626953],\"hovertemplate\":\"job=4<br>t_accepted=%{base}<br>t_completed=%{x}<br>worker_id=%{y}<extra></extra>\",\"legendgroup\":\"4\",\"marker\":{\"color\":\"#FFA15A\"},\"name\":\"4\",\"offsetgroup\":\"4\",\"orientation\":\"h\",\"showlegend\":true,\"textposition\":\"auto\",\"x\":[17.841182708740234,17.84117889404297,17.841182708740234,17.8411865234375,19.472381591796875,19.237022399902344,19.237022399902344],\"xaxis\":\"x\",\"y\":[7,0,7,6,1,0,6],\"yaxis\":\"y\",\"type\":\"bar\"},{\"alignmentgroup\":\"True\",\"base\":[258.1171875,258.8465270996094,259.5536804199219,259.7755126953125,257.0379943847656,249.79608154296875,255.52545166015625,176.32754516601562,178.19082641601562,142.39910888671875,158.4316864013672,160.2949676513672,226.88243103027344,227.10427856445312],\"hovertemplate\":\"job=5<br>t_accepted=%{base}<br>t_completed=%{x}<br>worker_id=%{y}<extra></extra>\",\"legendgroup\":\"5\",\"marker\":{\"color\":\"#19d3f3\"},\"name\":\"5\",\"offsetgroup\":\"5\",\"orientation\":\"h\",\"showlegend\":true,\"textposition\":\"auto\",\"x\":[19.32452392578125,19.32452392578125,19.32452392578125,19.32452392578125,17.964202880859375,19.2193603515625,19.2193603515625,21.05517578125,21.05517578125,17.895858764648438,17.895858764648438,17.895858764648438,15.91534423828125,15.91534423828125],\"xaxis\":\"x\",\"y\":[7,1,2,3,5,0,4,5,4,4,5,4,2,3],\"yaxis\":\"y\",\"type\":\"bar\"},{\"alignmentgroup\":\"True\",\"base\":[238.76954650878906,242.7977752685547,243.01962280273438,244.99656677246094,215.2213134765625,217.7054901123047,219.51400756835938,219.5687713623047,194.1780242919922,195.65765380859375,160.4492645263672,170.35870361328125,174.90843200683594,96.80242156982422,59.63120651245117,60.387210845947266,60.387210845947266,142.39910888671875,60.68019485473633,60.68019485473633],\"hovertemplate\":\"job=6<br>t_accepted=%{base}<br>t_completed=%{x}<br>worker_id=%{y}<extra></extra>\",\"legendgroup\":\"6\",\"marker\":{\"color\":\"#FF6692\"},\"name\":\"6\",\"offsetgroup\":\"6\",\"orientation\":\"h\",\"showlegend\":true,\"textposition\":\"auto\",\"x\":[16.755905151367188,16.755905151367188,16.755889892578125,16.755905151367188,19.200775146484375,19.200775146484375,19.200775146484375,19.200775146484375,19.563674926757812,19.56365966796875,19.26959228515625,19.26959228515625,19.26959228515625,18.189041137695312,18.050151824951172,18.050151824951172,18.050151824951172,18.050155639648438,21.63064956665039,21.63064956665039],\"xaxis\":\"x\",\"y\":[4,2,3,6,7,5,1,4,0,7,1,6,0,6,5,1,4,1,2,3],\"yaxis\":\"y\",\"type\":\"bar\"},{\"alignmentgroup\":\"True\",\"base\":[100.23477935791016,100.99078369140625,100.99078369140625,137.54360961914062,103.74261474609375,183.03610229492188,205.0701904296875],\"hovertemplate\":\"job=7<br>t_accepted=%{base}<br>t_completed=%{x}<br>worker_id=%{y}<extra></extra>\",\"legendgroup\":\"7\",\"marker\":{\"color\":\"#B6E880\"},\"name\":\"7\",\"offsetgroup\":\"7\",\"orientation\":\"h\",\"showlegend\":true,\"textposition\":\"auto\",\"x\":[20.888084411621094,20.888076782226562,20.888076782226562,20.888076782226562,22.034095764160156,22.034088134765625,22.034088134765625],\"xaxis\":\"x\",\"y\":[5,1,4,5,2,3,3],\"yaxis\":\"y\",\"type\":\"bar\"},{\"alignmentgroup\":\"True\",\"base\":[121.87886047363281,121.87886047363281,77.68135833740234,78.43736267089844,78.43736267089844,93.97126007080078,95.40657806396484],\"hovertemplate\":\"job=8<br>t_accepted=%{base}<br>t_completed=%{x}<br>worker_id=%{y}<extra></extra>\",\"legendgroup\":\"8\",\"marker\":{\"color\":\"#FF97FF\"},\"name\":\"8\",\"offsetgroup\":\"8\",\"orientation\":\"h\",\"showlegend\":true,\"textposition\":\"auto\",\"x\":[20.520248413085938,20.520248413085938,22.553421020507812,22.553421020507812,22.553421020507812,21.76282501220703,21.76282501220703],\"xaxis\":\"x\",\"y\":[1,4,5,1,4,0,7],\"yaxis\":\"y\",\"type\":\"bar\"},{\"alignmentgroup\":\"True\",\"base\":[204.86508178710938,114.99146270751953,115.73408508300781,117.16940307617188,121.12286376953125,183.89703369140625,146.08892822265625,146.94985961914062,164.56251525878906,165.42344665527344,103.74261474609375,124.915771484375,125.7767105102539,82.31084442138672,82.31084442138672,74.72239685058594,76.15771484375,77.55355834960938],\"hovertemplate\":\"job=9<br>t_accepted=%{base}<br>t_completed=%{x}<br>worker_id=%{y}<extra></extra>\",\"legendgroup\":\"9\",\"marker\":{\"color\":\"#FECB52\"},\"name\":\"9\",\"offsetgroup\":\"9\",\"orientation\":\"h\",\"showlegend\":true,\"textposition\":\"auto\",\"x\":[22.017349243164062,16.420738220214844,16.420730590820312,16.420745849609375,16.420745849609375,20.968048095703125,18.473587036132812,18.473587036132812,18.473587036132812,18.473587036132812,21.17315673828125,21.17315673828125,21.17314910888672,21.43177032470703,21.43177032470703,19.248863220214844,19.248863220214844,19.248863220214844],\"xaxis\":\"x\",\"y\":[2,6,0,7,5,2,3,2,3,2,3,3,2,2,3,0,7,6],\"yaxis\":\"y\",\"type\":\"bar\"}],                        {\"template\":{\"data\":{\"bar\":[{\"error_x\":{\"color\":\"#2a3f5f\"},\"error_y\":{\"color\":\"#2a3f5f\"},\"marker\":{\"line\":{\"color\":\"#E5ECF6\",\"width\":0.5},\"pattern\":{\"fillmode\":\"overlay\",\"size\":10,\"solidity\":0.2}},\"type\":\"bar\"}],\"barpolar\":[{\"marker\":{\"line\":{\"color\":\"#E5ECF6\",\"width\":0.5},\"pattern\":{\"fillmode\":\"overlay\",\"size\":10,\"solidity\":0.2}},\"type\":\"barpolar\"}],\"carpet\":[{\"aaxis\":{\"endlinecolor\":\"#2a3f5f\",\"gridcolor\":\"white\",\"linecolor\":\"white\",\"minorgridcolor\":\"white\",\"startlinecolor\":\"#2a3f5f\"},\"baxis\":{\"endlinecolor\":\"#2a3f5f\",\"gridcolor\":\"white\",\"linecolor\":\"white\",\"minorgridcolor\":\"white\",\"startlinecolor\":\"#2a3f5f\"},\"type\":\"carpet\"}],\"choropleth\":[{\"colorbar\":{\"outlinewidth\":0,\"ticks\":\"\"},\"type\":\"choropleth\"}],\"contour\":[{\"colorbar\":{\"outlinewidth\":0,\"ticks\":\"\"},\"colorscale\":[[0.0,\"#0d0887\"],[0.1111111111111111,\"#46039f\"],[0.2222222222222222,\"#7201a8\"],[0.3333333333333333,\"#9c179e\"],[0.4444444444444444,\"#bd3786\"],[0.5555555555555556,\"#d8576b\"],[0.6666666666666666,\"#ed7953\"],[0.7777777777777778,\"#fb9f3a\"],[0.8888888888888888,\"#fdca26\"],[1.0,\"#f0f921\"]],\"type\":\"contour\"}],\"contourcarpet\":[{\"colorbar\":{\"outlinewidth\":0,\"ticks\":\"\"},\"type\":\"contourcarpet\"}],\"heatmap\":[{\"colorbar\":{\"outlinewidth\":0,\"ticks\":\"\"},\"colorscale\":[[0.0,\"#0d0887\"],[0.1111111111111111,\"#46039f\"],[0.2222222222222222,\"#7201a8\"],[0.3333333333333333,\"#9c179e\"],[0.4444444444444444,\"#bd3786\"],[0.5555555555555556,\"#d8576b\"],[0.6666666666666666,\"#ed7953\"],[0.7777777777777778,\"#fb9f3a\"],[0.8888888888888888,\"#fdca26\"],[1.0,\"#f0f921\"]],\"type\":\"heatmap\"}],\"heatmapgl\":[{\"colorbar\":{\"outlinewidth\":0,\"ticks\":\"\"},\"colorscale\":[[0.0,\"#0d0887\"],[0.1111111111111111,\"#46039f\"],[0.2222222222222222,\"#7201a8\"],[0.3333333333333333,\"#9c179e\"],[0.4444444444444444,\"#bd3786\"],[0.5555555555555556,\"#d8576b\"],[0.6666666666666666,\"#ed7953\"],[0.7777777777777778,\"#fb9f3a\"],[0.8888888888888888,\"#fdca26\"],[1.0,\"#f0f921\"]],\"type\":\"heatmapgl\"}],\"histogram\":[{\"marker\":{\"pattern\":{\"fillmode\":\"overlay\",\"size\":10,\"solidity\":0.2}},\"type\":\"histogram\"}],\"histogram2d\":[{\"colorbar\":{\"outlinewidth\":0,\"ticks\":\"\"},\"colorscale\":[[0.0,\"#0d0887\"],[0.1111111111111111,\"#46039f\"],[0.2222222222222222,\"#7201a8\"],[0.3333333333333333,\"#9c179e\"],[0.4444444444444444,\"#bd3786\"],[0.5555555555555556,\"#d8576b\"],[0.6666666666666666,\"#ed7953\"],[0.7777777777777778,\"#fb9f3a\"],[0.8888888888888888,\"#fdca26\"],[1.0,\"#f0f921\"]],\"type\":\"histogram2d\"}],\"histogram2dcontour\":[{\"colorbar\":{\"outlinewidth\":0,\"ticks\":\"\"},\"colorscale\":[[0.0,\"#0d0887\"],[0.1111111111111111,\"#46039f\"],[0.2222222222222222,\"#7201a8\"],[0.3333333333333333,\"#9c179e\"],[0.4444444444444444,\"#bd3786\"],[0.5555555555555556,\"#d8576b\"],[0.6666666666666666,\"#ed7953\"],[0.7777777777777778,\"#fb9f3a\"],[0.8888888888888888,\"#fdca26\"],[1.0,\"#f0f921\"]],\"type\":\"histogram2dcontour\"}],\"mesh3d\":[{\"colorbar\":{\"outlinewidth\":0,\"ticks\":\"\"},\"type\":\"mesh3d\"}],\"parcoords\":[{\"line\":{\"colorbar\":{\"outlinewidth\":0,\"ticks\":\"\"}},\"type\":\"parcoords\"}],\"pie\":[{\"automargin\":true,\"type\":\"pie\"}],\"scatter\":[{\"marker\":{\"colorbar\":{\"outlinewidth\":0,\"ticks\":\"\"}},\"type\":\"scatter\"}],\"scatter3d\":[{\"line\":{\"colorbar\":{\"outlinewidth\":0,\"ticks\":\"\"}},\"marker\":{\"colorbar\":{\"outlinewidth\":0,\"ticks\":\"\"}},\"type\":\"scatter3d\"}],\"scattercarpet\":[{\"marker\":{\"colorbar\":{\"outlinewidth\":0,\"ticks\":\"\"}},\"type\":\"scattercarpet\"}],\"scattergeo\":[{\"marker\":{\"colorbar\":{\"outlinewidth\":0,\"ticks\":\"\"}},\"type\":\"scattergeo\"}],\"scattergl\":[{\"marker\":{\"colorbar\":{\"outlinewidth\":0,\"ticks\":\"\"}},\"type\":\"scattergl\"}],\"scattermapbox\":[{\"marker\":{\"colorbar\":{\"outlinewidth\":0,\"ticks\":\"\"}},\"type\":\"scattermapbox\"}],\"scatterpolar\":[{\"marker\":{\"colorbar\":{\"outlinewidth\":0,\"ticks\":\"\"}},\"type\":\"scatterpolar\"}],\"scatterpolargl\":[{\"marker\":{\"colorbar\":{\"outlinewidth\":0,\"ticks\":\"\"}},\"type\":\"scatterpolargl\"}],\"scatterternary\":[{\"marker\":{\"colorbar\":{\"outlinewidth\":0,\"ticks\":\"\"}},\"type\":\"scatterternary\"}],\"surface\":[{\"colorbar\":{\"outlinewidth\":0,\"ticks\":\"\"},\"colorscale\":[[0.0,\"#0d0887\"],[0.1111111111111111,\"#46039f\"],[0.2222222222222222,\"#7201a8\"],[0.3333333333333333,\"#9c179e\"],[0.4444444444444444,\"#bd3786\"],[0.5555555555555556,\"#d8576b\"],[0.6666666666666666,\"#ed7953\"],[0.7777777777777778,\"#fb9f3a\"],[0.8888888888888888,\"#fdca26\"],[1.0,\"#f0f921\"]],\"type\":\"surface\"}],\"table\":[{\"cells\":{\"fill\":{\"color\":\"#EBF0F8\"},\"line\":{\"color\":\"white\"}},\"header\":{\"fill\":{\"color\":\"#C8D4E3\"},\"line\":{\"color\":\"white\"}},\"type\":\"table\"}]},\"layout\":{\"annotationdefaults\":{\"arrowcolor\":\"#2a3f5f\",\"arrowhead\":0,\"arrowwidth\":1},\"autotypenumbers\":\"strict\",\"coloraxis\":{\"colorbar\":{\"outlinewidth\":0,\"ticks\":\"\"}},\"colorscale\":{\"diverging\":[[0,\"#8e0152\"],[0.1,\"#c51b7d\"],[0.2,\"#de77ae\"],[0.3,\"#f1b6da\"],[0.4,\"#fde0ef\"],[0.5,\"#f7f7f7\"],[0.6,\"#e6f5d0\"],[0.7,\"#b8e186\"],[0.8,\"#7fbc41\"],[0.9,\"#4d9221\"],[1,\"#276419\"]],\"sequential\":[[0.0,\"#0d0887\"],[0.1111111111111111,\"#46039f\"],[0.2222222222222222,\"#7201a8\"],[0.3333333333333333,\"#9c179e\"],[0.4444444444444444,\"#bd3786\"],[0.5555555555555556,\"#d8576b\"],[0.6666666666666666,\"#ed7953\"],[0.7777777777777778,\"#fb9f3a\"],[0.8888888888888888,\"#fdca26\"],[1.0,\"#f0f921\"]],\"sequentialminus\":[[0.0,\"#0d0887\"],[0.1111111111111111,\"#46039f\"],[0.2222222222222222,\"#7201a8\"],[0.3333333333333333,\"#9c179e\"],[0.4444444444444444,\"#bd3786\"],[0.5555555555555556,\"#d8576b\"],[0.6666666666666666,\"#ed7953\"],[0.7777777777777778,\"#fb9f3a\"],[0.8888888888888888,\"#fdca26\"],[1.0,\"#f0f921\"]]},\"colorway\":[\"#636efa\",\"#EF553B\",\"#00cc96\",\"#ab63fa\",\"#FFA15A\",\"#19d3f3\",\"#FF6692\",\"#B6E880\",\"#FF97FF\",\"#FECB52\"],\"font\":{\"color\":\"#2a3f5f\"},\"geo\":{\"bgcolor\":\"white\",\"lakecolor\":\"white\",\"landcolor\":\"#E5ECF6\",\"showlakes\":true,\"showland\":true,\"subunitcolor\":\"white\"},\"hoverlabel\":{\"align\":\"left\"},\"hovermode\":\"closest\",\"mapbox\":{\"style\":\"light\"},\"paper_bgcolor\":\"white\",\"plot_bgcolor\":\"#E5ECF6\",\"polar\":{\"angularaxis\":{\"gridcolor\":\"white\",\"linecolor\":\"white\",\"ticks\":\"\"},\"bgcolor\":\"#E5ECF6\",\"radialaxis\":{\"gridcolor\":\"white\",\"linecolor\":\"white\",\"ticks\":\"\"}},\"scene\":{\"xaxis\":{\"backgroundcolor\":\"#E5ECF6\",\"gridcolor\":\"white\",\"gridwidth\":2,\"linecolor\":\"white\",\"showbackground\":true,\"ticks\":\"\",\"zerolinecolor\":\"white\"},\"yaxis\":{\"backgroundcolor\":\"#E5ECF6\",\"gridcolor\":\"white\",\"gridwidth\":2,\"linecolor\":\"white\",\"showbackground\":true,\"ticks\":\"\",\"zerolinecolor\":\"white\"},\"zaxis\":{\"backgroundcolor\":\"#E5ECF6\",\"gridcolor\":\"white\",\"gridwidth\":2,\"linecolor\":\"white\",\"showbackground\":true,\"ticks\":\"\",\"zerolinecolor\":\"white\"}},\"shapedefaults\":{\"line\":{\"color\":\"#2a3f5f\"}},\"ternary\":{\"aaxis\":{\"gridcolor\":\"white\",\"linecolor\":\"white\",\"ticks\":\"\"},\"baxis\":{\"gridcolor\":\"white\",\"linecolor\":\"white\",\"ticks\":\"\"},\"bgcolor\":\"#E5ECF6\",\"caxis\":{\"gridcolor\":\"white\",\"linecolor\":\"white\",\"ticks\":\"\"}},\"title\":{\"x\":0.05},\"xaxis\":{\"automargin\":true,\"gridcolor\":\"white\",\"linecolor\":\"white\",\"ticks\":\"\",\"title\":{\"standoff\":15},\"zerolinecolor\":\"white\",\"zerolinewidth\":2},\"yaxis\":{\"automargin\":true,\"gridcolor\":\"white\",\"linecolor\":\"white\",\"ticks\":\"\",\"title\":{\"standoff\":15},\"zerolinecolor\":\"white\",\"zerolinewidth\":2}}},\"xaxis\":{\"anchor\":\"y\",\"domain\":[0.0,1.0],\"type\":\"linear\"},\"yaxis\":{\"anchor\":\"x\",\"domain\":[0.0,1.0],\"title\":{\"text\":\"worker_id\"}},\"legend\":{\"title\":{\"text\":\"job\"},\"tracegroupgap\":0},\"margin\":{\"t\":60},\"barmode\":\"overlay\",\"shapes\":[{\"line\":{\"color\":\"green\",\"width\":2},\"type\":\"line\",\"x0\":353.6094055175781,\"x1\":353.6094055175781,\"xref\":\"x\",\"y0\":0,\"y1\":1,\"yref\":\"y domain\"},{\"line\":{\"color\":\"green\",\"width\":2},\"type\":\"line\",\"x0\":294.8765563964844,\"x1\":294.8765563964844,\"xref\":\"x\",\"y0\":0,\"y1\":1,\"yref\":\"y domain\"},{\"line\":{\"color\":\"green\",\"width\":2},\"type\":\"line\",\"x0\":344.6017761230469,\"x1\":344.6017761230469,\"xref\":\"x\",\"y0\":0,\"y1\":1,\"yref\":\"y domain\"},{\"line\":{\"color\":\"green\",\"width\":2},\"type\":\"line\",\"x0\":299.68023681640625,\"x1\":299.68023681640625,\"xref\":\"x\",\"y0\":0,\"y1\":1,\"yref\":\"y domain\"},{\"line\":{\"color\":\"green\",\"width\":2},\"type\":\"line\",\"x0\":199.1912384033203,\"x1\":199.1912384033203,\"xref\":\"x\",\"y0\":0,\"y1\":1,\"yref\":\"y domain\"},{\"line\":{\"color\":\"green\",\"width\":2},\"type\":\"line\",\"x0\":279.10003662109375,\"x1\":279.10003662109375,\"xref\":\"x\",\"y0\":0,\"y1\":1,\"yref\":\"y domain\"},{\"line\":{\"color\":\"green\",\"width\":2},\"type\":\"line\",\"x0\":261.7524719238281,\"x1\":261.7524719238281,\"xref\":\"x\",\"y0\":0,\"y1\":1,\"yref\":\"y domain\"},{\"line\":{\"color\":\"green\",\"width\":2},\"type\":\"line\",\"x0\":227.10427856445312,\"x1\":227.10427856445312,\"xref\":\"x\",\"y0\":0,\"y1\":1,\"yref\":\"y domain\"},{\"line\":{\"color\":\"green\",\"width\":2},\"type\":\"line\",\"x0\":142.39910888671875,\"x1\":142.39910888671875,\"xref\":\"x\",\"y0\":0,\"y1\":1,\"yref\":\"y domain\"},{\"line\":{\"color\":\"green\",\"width\":2},\"type\":\"line\",\"x0\":226.88243103027344,\"x1\":226.88243103027344,\"xref\":\"x\",\"y0\":0,\"y1\":1,\"yref\":\"y domain\"}]},                        {\"responsive\": true}                    ).then(function(){\n",
       "                            \n",
       "var gd = document.getElementById('8ac9f898-82a8-4f4d-8dbc-5048da25c556');\n",
       "var x = new MutationObserver(function (mutations, observer) {{\n",
       "        var display = window.getComputedStyle(gd).display;\n",
       "        if (!display || display === 'none') {{\n",
       "            console.log([gd, 'removed!']);\n",
       "            Plotly.purge(gd);\n",
       "            observer.disconnect();\n",
       "        }}\n",
       "}});\n",
       "\n",
       "// Listen for the removal of the full notebook cells\n",
       "var notebookContainer = gd.closest('#notebook-container');\n",
       "if (notebookContainer) {{\n",
       "    x.observe(notebookContainer, {childList: true});\n",
       "}}\n",
       "\n",
       "// Listen for the clearing of the current output cell\n",
       "var outputEl = gd.closest('.output');\n",
       "if (outputEl) {{\n",
       "    x.observe(outputEl, {childList: true});\n",
       "}}\n",
       "\n",
       "                        })                };                });            </script>        </div>"
      ]
     },
     "metadata": {},
     "output_type": "display_data"
    }
   ],
   "source": [
    "fig = px.timeline(df, x_start=\"t_accepted\", x_end=\"t_completed\", y=\"worker_id\", color='job')\n",
    "for job in prev_obs.jobs:\n",
    "    fig.add_vline(x=job.t_completed[0], line_width=2, line_color='green')\n",
    "fig.layout.xaxis.type = 'linear'\n",
    "for d in fig.data:\n",
    "    d.x = df[df.job==d.name].delta.tolist()\n",
    "    \n",
    "fig.show()"
   ]
  },
  {
   "cell_type": "code",
   "execution_count": null,
   "id": "d7309988",
   "metadata": {},
   "outputs": [],
   "source": []
  },
  {
   "cell_type": "code",
   "execution_count": null,
   "id": "91d19963",
   "metadata": {},
   "outputs": [],
   "source": []
  }
 ],
 "metadata": {
  "kernelspec": {
   "display_name": "Python 3 (ipykernel)",
   "language": "python",
   "name": "python3"
  },
  "language_info": {
   "codemirror_mode": {
    "name": "ipython",
    "version": 3
   },
   "file_extension": ".py",
   "mimetype": "text/x-python",
   "name": "python",
   "nbconvert_exporter": "python",
   "pygments_lexer": "ipython3",
   "version": "3.9.10"
  }
 },
 "nbformat": 4,
 "nbformat_minor": 5
}
